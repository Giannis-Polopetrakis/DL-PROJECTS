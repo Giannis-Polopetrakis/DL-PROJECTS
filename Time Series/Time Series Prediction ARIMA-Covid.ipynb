{
 "cells": [
  {
   "cell_type": "code",
   "execution_count": 1,
   "id": "86708213",
   "metadata": {},
   "outputs": [],
   "source": [
    "import numpy as np\n",
    "import matplotlib.pyplot as plt\n",
    "import pandas as pd"
   ]
  },
  {
   "cell_type": "code",
   "execution_count": 2,
   "id": "ce53872f",
   "metadata": {},
   "outputs": [],
   "source": [
    "plt.style.use('dark_background')"
   ]
  },
  {
   "cell_type": "code",
   "execution_count": 3,
   "id": "71147340",
   "metadata": {},
   "outputs": [
    {
     "name": "stdout",
     "output_type": "stream",
     "text": [
      "Province/State     object\n",
      "Country/Region     object\n",
      "Lat               float64\n",
      "Long              float64\n",
      "1/22/20             int64\n",
      "                   ...   \n",
      "3/5/23              int64\n",
      "3/6/23              int64\n",
      "3/7/23              int64\n",
      "3/8/23              int64\n",
      "3/9/23              int64\n",
      "Length: 1147, dtype: object\n"
     ]
    }
   ],
   "source": [
    "df = pd.read_csv('time_series_covid19_confirmed_global.csv')\n",
    "print(df.dtypes)"
   ]
  },
  {
   "cell_type": "code",
   "execution_count": 4,
   "id": "7fc7dad6",
   "metadata": {},
   "outputs": [],
   "source": [
    "country = \"Greece\""
   ]
  },
  {
   "cell_type": "code",
   "execution_count": 5,
   "id": "da2ecdf3",
   "metadata": {},
   "outputs": [],
   "source": [
    "df = df[df[\"Country/Region\"] == country]\n",
    "df = pd.DataFrame(df[df.columns[4:]].sum(),columns=[\"confirmed\"])\n",
    "df.index = pd.to_datetime(df.index,format='%m/%d/%y')"
   ]
  },
  {
   "cell_type": "code",
   "execution_count": 8,
   "id": "87255655",
   "metadata": {},
   "outputs": [
    {
     "data": {
      "text/html": [
       "<div>\n",
       "<style scoped>\n",
       "    .dataframe tbody tr th:only-of-type {\n",
       "        vertical-align: middle;\n",
       "    }\n",
       "\n",
       "    .dataframe tbody tr th {\n",
       "        vertical-align: top;\n",
       "    }\n",
       "\n",
       "    .dataframe thead th {\n",
       "        text-align: right;\n",
       "    }\n",
       "</style>\n",
       "<table border=\"1\" class=\"dataframe\">\n",
       "  <thead>\n",
       "    <tr style=\"text-align: right;\">\n",
       "      <th></th>\n",
       "      <th>confirmed</th>\n",
       "    </tr>\n",
       "  </thead>\n",
       "  <tbody>\n",
       "    <tr>\n",
       "      <th>2020-01-22</th>\n",
       "      <td>0</td>\n",
       "    </tr>\n",
       "    <tr>\n",
       "      <th>2020-01-23</th>\n",
       "      <td>0</td>\n",
       "    </tr>\n",
       "    <tr>\n",
       "      <th>2020-01-24</th>\n",
       "      <td>0</td>\n",
       "    </tr>\n",
       "    <tr>\n",
       "      <th>2020-01-25</th>\n",
       "      <td>0</td>\n",
       "    </tr>\n",
       "    <tr>\n",
       "      <th>2020-01-26</th>\n",
       "      <td>0</td>\n",
       "    </tr>\n",
       "    <tr>\n",
       "      <th>...</th>\n",
       "      <td>...</td>\n",
       "    </tr>\n",
       "    <tr>\n",
       "      <th>2023-03-05</th>\n",
       "      <td>5548487</td>\n",
       "    </tr>\n",
       "    <tr>\n",
       "      <th>2023-03-06</th>\n",
       "      <td>5548487</td>\n",
       "    </tr>\n",
       "    <tr>\n",
       "      <th>2023-03-07</th>\n",
       "      <td>5548487</td>\n",
       "    </tr>\n",
       "    <tr>\n",
       "      <th>2023-03-08</th>\n",
       "      <td>5548487</td>\n",
       "    </tr>\n",
       "    <tr>\n",
       "      <th>2023-03-09</th>\n",
       "      <td>5548487</td>\n",
       "    </tr>\n",
       "  </tbody>\n",
       "</table>\n",
       "<p>1143 rows × 1 columns</p>\n",
       "</div>"
      ],
      "text/plain": [
       "            confirmed\n",
       "2020-01-22          0\n",
       "2020-01-23          0\n",
       "2020-01-24          0\n",
       "2020-01-25          0\n",
       "2020-01-26          0\n",
       "...               ...\n",
       "2023-03-05    5548487\n",
       "2023-03-06    5548487\n",
       "2023-03-07    5548487\n",
       "2023-03-08    5548487\n",
       "2023-03-09    5548487\n",
       "\n",
       "[1143 rows x 1 columns]"
      ]
     },
     "execution_count": 8,
     "metadata": {},
     "output_type": "execute_result"
    }
   ],
   "source": [
    "df"
   ]
  },
  {
   "cell_type": "code",
   "execution_count": 9,
   "id": "d9f99be5",
   "metadata": {},
   "outputs": [
    {
     "data": {
      "text/plain": [
       "[<matplotlib.lines.Line2D at 0x1c063668ee0>]"
      ]
     },
     "execution_count": 9,
     "metadata": {},
     "output_type": "execute_result"
    },
    {
     "data": {
      "image/png": "[encoded data removed]",
      "text/plain": [
       "<Figure size 432x288 with 1 Axes>"
      ]
     },
     "metadata": {},
     "output_type": "display_data"
    }
   ],
   "source": [
    "plt.plot(df['confirmed'])"
   ]
  },
  {
   "cell_type": "code",
   "execution_count": 10,
   "id": "f36463d1",
   "metadata": {},
   "outputs": [],
   "source": [
    "from pmdarima.arima import ADFTest"
   ]
  },
  {
   "cell_type": "code",
   "execution_count": 11,
   "id": "45318d3d",
   "metadata": {},
   "outputs": [
    {
     "data": {
      "text/plain": [
       "(0.7030649716788003, True)"
      ]
     },
     "execution_count": 11,
     "metadata": {},
     "output_type": "execute_result"
    }
   ],
   "source": [
    "adf_test = ADFTest(alpha = 0.05)\n",
    "adf_test.should_diff(df)\n",
    "#Not stationary..."
   ]
  },
  {
   "cell_type": "code",
   "execution_count": 12,
   "id": "c5030375",
   "metadata": {},
   "outputs": [
    {
     "name": "stdout",
     "output_type": "stream",
     "text": [
      "pvalue =  0.9784121902860904  if above 0.05, data is not stationary\n"
     ]
    }
   ],
   "source": [
    "from statsmodels.tsa.stattools import adfuller\n",
    "adf, pvalue, usedlag_, nobs_, critical_values_, icbest_ = adfuller(df)\n",
    "print(\"pvalue = \", pvalue, \" if above 0.05, data is not stationary\")\n",
    "#Since data is not stationary, we may need SARIMA and not just ARIMA"
   ]
  },
  {
   "cell_type": "code",
   "execution_count": 17,
   "id": "bf81e625",
   "metadata": {},
   "outputs": [],
   "source": [
    "from statsmodels.tsa.seasonal import seasonal_decompose \n",
    "decomposed = seasonal_decompose(df['confirmed'],  \n",
    "                            model ='additive')\n",
    "\n",
    "trend = decomposed.trend\n",
    "seasonal = decomposed.seasonal\n",
    "residual = decomposed.resid\n"
   ]
  },
  {
   "cell_type": "code",
   "execution_count": 18,
   "id": "c6c3475c",
   "metadata": {},
   "outputs": [
    {
     "data": {
      "image/png": "[encoded data removed]",
      "text/plain": [
       "<Figure size 864x576 with 4 Axes>"
      ]
     },
     "metadata": {},
     "output_type": "display_data"
    }
   ],
   "source": [
    "plt.figure(figsize=(12,8))\n",
    "plt.subplot(411)\n",
    "plt.plot(df, label='Original', color='yellow')\n",
    "plt.legend(loc='upper left')\n",
    "plt.subplot(412)\n",
    "plt.plot(trend, label='Trend', color='yellow')\n",
    "plt.legend(loc='upper left')\n",
    "plt.subplot(413)\n",
    "plt.plot(seasonal, label='Seasonal', color='yellow')\n",
    "plt.legend(loc='upper left')\n",
    "plt.subplot(414)\n",
    "plt.plot(residual, label='Residual', color='yellow')\n",
    "plt.legend(loc='upper left')\n",
    "plt.show()"
   ]
  },
  {
   "cell_type": "code",
   "execution_count": 19,
   "id": "e7a2c643",
   "metadata": {},
   "outputs": [],
   "source": [
    "from pmdarima.arima import auto_arima"
   ]
  },
  {
   "cell_type": "code",
   "execution_count": 20,
   "id": "dd63f032",
   "metadata": {},
   "outputs": [],
   "source": [
    "#Autoarima gives us bet model suited for the data\n",
    "# p - number of autoregressive terms (AR)\n",
    "# q - Number of moving avergae terms (MA)\n",
    "# d - number of non-seasonal differences\n",
    "#p, d, q represent non-seasonal components\n",
    "#P, D, Q represent seasonal components"
   ]
  },
  {
   "cell_type": "code",
   "execution_count": 21,
   "id": "e2192ccb",
   "metadata": {},
   "outputs": [
    {
     "name": "stdout",
     "output_type": "stream",
     "text": [
      "Performing stepwise search to minimize aic\n",
      " ARIMA(1,1,1)(0,1,0)[12]             : AIC=25622.365, Time=0.41 sec\n",
      " ARIMA(0,1,0)(0,1,0)[12]             : AIC=25649.829, Time=0.03 sec\n",
      " ARIMA(1,1,0)(1,1,0)[12]             : AIC=25378.725, Time=0.30 sec\n",
      " ARIMA(0,1,1)(0,1,1)[12]             : AIC=inf, Time=1.68 sec\n",
      " ARIMA(1,1,0)(0,1,0)[12]             : AIC=25651.301, Time=0.04 sec\n",
      " ARIMA(1,1,0)(2,1,0)[12]             : AIC=25297.007, Time=0.61 sec\n",
      " ARIMA(1,1,0)(3,1,0)[12]             : AIC=25248.895, Time=1.51 sec\n",
      " ARIMA(1,1,0)(4,1,0)[12]             : AIC=25231.302, Time=2.17 sec\n",
      " ARIMA(1,1,0)(5,1,0)[12]             : AIC=25220.266, Time=4.45 sec\n",
      " ARIMA(1,1,0)(5,1,1)[12]             : AIC=25160.909, Time=12.70 sec\n",
      " ARIMA(1,1,0)(4,1,1)[12]             : AIC=inf, Time=7.15 sec\n",
      " ARIMA(1,1,0)(5,1,2)[12]             : AIC=inf, Time=17.26 sec\n",
      " ARIMA(1,1,0)(4,1,2)[12]             : AIC=inf, Time=7.87 sec\n",
      " ARIMA(0,1,0)(5,1,1)[12]             : AIC=inf, Time=10.74 sec\n",
      " ARIMA(2,1,0)(5,1,1)[12]             : AIC=inf, Time=15.06 sec\n",
      " ARIMA(1,1,1)(5,1,1)[12]             : AIC=inf, Time=34.55 sec\n",
      " ARIMA(0,1,1)(5,1,1)[12]             : AIC=25162.260, Time=12.56 sec\n",
      " ARIMA(2,1,1)(5,1,1)[12]             : AIC=inf, Time=41.66 sec\n",
      " ARIMA(1,1,0)(5,1,1)[12] intercept   : AIC=25162.909, Time=13.03 sec\n",
      "\n",
      "Best model:  ARIMA(1,1,0)(5,1,1)[12]          \n",
      "Total fit time: 183.826 seconds\n"
     ]
    }
   ],
   "source": [
    "arima_model = auto_arima(df['confirmed'], start_p = 1, d=1, start_q = 1, \n",
    "                          max_p = 5, max_q = 5, max_d=5, m = 12, \n",
    "                          start_P = 0, D=1, start_Q=0, max_P=5, max_D=5, max_Q=5,\n",
    "                          seasonal = True, \n",
    "                          trace = True, \n",
    "                          error_action ='ignore',   \n",
    "                          suppress_warnings = True,  \n",
    "                          stepwise = True, n_fits=100)        "
   ]
  },
  {
   "cell_type": "code",
   "execution_count": 22,
   "id": "8467aa8d",
   "metadata": {},
   "outputs": [
    {
     "name": "stdout",
     "output_type": "stream",
     "text": [
      "                                      SARIMAX Results                                       \n",
      "============================================================================================\n",
      "Dep. Variable:                                    y   No. Observations:                 1143\n",
      "Model:             SARIMAX(1, 1, 0)x(5, 1, [1], 12)   Log Likelihood              -12572.454\n",
      "Date:                              Sun, 04 Jun 2023   AIC                          25160.909\n",
      "Time:                                      11:11:57   BIC                          25201.149\n",
      "Sample:                                  01-22-2020   HQIC                         25176.112\n",
      "                                       - 03-09-2023                                         \n",
      "Covariance Type:                                opg                                         \n",
      "==============================================================================\n",
      "                 coef    std err          z      P>|z|      [0.025      0.975]\n",
      "------------------------------------------------------------------------------\n",
      "ar.L1          0.0482      0.035      1.393      0.164      -0.020       0.116\n",
      "ar.S.L12      -0.0294      0.046     -0.643      0.521      -0.119       0.060\n",
      "ar.S.L24      -0.0238      0.043     -0.553      0.580      -0.108       0.061\n",
      "ar.S.L36      -0.0554      0.045     -1.225      0.221      -0.144       0.033\n",
      "ar.S.L48      -0.0250      0.040     -0.622      0.534      -0.104       0.054\n",
      "ar.S.L60      -0.0434      0.046     -0.945      0.345      -0.133       0.047\n",
      "ma.S.L12      -0.8831      0.040    -22.129      0.000      -0.961      -0.805\n",
      "sigma2      4.217e+08   4.18e-10   1.01e+18      0.000    4.22e+08    4.22e+08\n",
      "===================================================================================\n",
      "Ljung-Box (L1) (Q):                   0.00   Jarque-Bera (JB):           3784097.46\n",
      "Prob(Q):                              0.95   Prob(JB):                         0.00\n",
      "Heteroskedasticity (H):            1728.46   Skew:                            13.18\n",
      "Prob(H) (two-sided):                  0.00   Kurtosis:                       285.27\n",
      "===================================================================================\n",
      "\n",
      "Warnings:\n",
      "[1] Covariance matrix calculated using the outer product of gradients (complex-step).\n",
      "[2] Covariance matrix is singular or near-singular, with condition number 1.76e+31. Standard errors may be unstable.\n"
     ]
    }
   ],
   "source": [
    "print(arima_model.summary() )"
   ]
  },
  {
   "cell_type": "code",
   "execution_count": 23,
   "id": "56775fb9",
   "metadata": {},
   "outputs": [],
   "source": [
    "# Model: SARIMAX(1, 1, 0)x(5, 1, [1], 12)"
   ]
  },
  {
   "cell_type": "code",
   "execution_count": 43,
   "id": "b2a92990",
   "metadata": {},
   "outputs": [],
   "source": [
    "#Split data into train and test\n",
    "size = int(len(df) * 0.85)\n",
    "X_train, X_test = df[0:size], df[size:len(df)]"
   ]
  },
  {
   "cell_type": "code",
   "execution_count": 44,
   "id": "3403e432",
   "metadata": {},
   "outputs": [],
   "source": [
    "from statsmodels.tsa.statespace.sarimax import SARIMAX "
   ]
  },
  {
   "cell_type": "code",
   "execution_count": 45,
   "id": "cb069701",
   "metadata": {},
   "outputs": [
    {
     "name": "stderr",
     "output_type": "stream",
     "text": [
      "C:\\Users\\jpolo\\anaconda3\\lib\\site-packages\\statsmodels\\tsa\\base\\tsa_model.py:471: ValueWarning: No frequency information was provided, so inferred frequency D will be used.\n",
      "  self._init_dates(dates, freq)\n",
      "C:\\Users\\jpolo\\anaconda3\\lib\\site-packages\\statsmodels\\tsa\\base\\tsa_model.py:471: ValueWarning: No frequency information was provided, so inferred frequency D will be used.\n",
      "  self._init_dates(dates, freq)\n"
     ]
    }
   ],
   "source": [
    "model = SARIMAX(X_train['confirmed'],  \n",
    "                order = (1, 1, 0),  \n",
    "                seasonal_order =(5, 1, 1, 12)) "
   ]
  },
  {
   "cell_type": "code",
   "execution_count": 46,
   "id": "12ba4715",
   "metadata": {},
   "outputs": [
    {
     "data": {
      "text/html": [
       "<table class=\"simpletable\">\n",
       "<caption>SARIMAX Results</caption>\n",
       "<tr>\n",
       "  <th>Dep. Variable:</th>               <td>confirmed</td>            <th>  No. Observations:  </th>     <td>971</td>   \n",
       "</tr>\n",
       "<tr>\n",
       "  <th>Model:</th>           <td>SARIMAX(1, 1, 0)x(5, 1, [1], 12)</td> <th>  Log Likelihood     </th> <td>-10655.083</td>\n",
       "</tr>\n",
       "<tr>\n",
       "  <th>Date:</th>                    <td>Sun, 04 Jun 2023</td>         <th>  AIC                </th>  <td>21326.165</td>\n",
       "</tr>\n",
       "<tr>\n",
       "  <th>Time:</th>                        <td>11:16:31</td>             <th>  BIC                </th>  <td>21365.084</td>\n",
       "</tr>\n",
       "<tr>\n",
       "  <th>Sample:</th>                     <td>01-22-2020</td>            <th>  HQIC               </th>  <td>21340.988</td>\n",
       "</tr>\n",
       "<tr>\n",
       "  <th></th>                           <td>- 09-18-2022</td>           <th>                     </th>      <td> </td>    \n",
       "</tr>\n",
       "<tr>\n",
       "  <th>Covariance Type:</th>                <td>opg</td>               <th>                     </th>      <td> </td>    \n",
       "</tr>\n",
       "</table>\n",
       "<table class=\"simpletable\">\n",
       "<tr>\n",
       "      <td></td>        <th>coef</th>     <th>std err</th>      <th>z</th>      <th>P>|z|</th>  <th>[0.025</th>    <th>0.975]</th>  \n",
       "</tr>\n",
       "<tr>\n",
       "  <th>ar.L1</th>    <td>    0.0622</td> <td>    0.031</td> <td>    2.002</td> <td> 0.045</td> <td>    0.001</td> <td>    0.123</td>\n",
       "</tr>\n",
       "<tr>\n",
       "  <th>ar.S.L12</th> <td>   -0.0763</td> <td>    0.148</td> <td>   -0.516</td> <td> 0.606</td> <td>   -0.366</td> <td>    0.213</td>\n",
       "</tr>\n",
       "<tr>\n",
       "  <th>ar.S.L24</th> <td>   -0.0685</td> <td>    0.136</td> <td>   -0.505</td> <td> 0.614</td> <td>   -0.335</td> <td>    0.198</td>\n",
       "</tr>\n",
       "<tr>\n",
       "  <th>ar.S.L36</th> <td>   -0.1002</td> <td>    0.129</td> <td>   -0.776</td> <td> 0.438</td> <td>   -0.353</td> <td>    0.153</td>\n",
       "</tr>\n",
       "<tr>\n",
       "  <th>ar.S.L48</th> <td>   -0.0504</td> <td>    0.121</td> <td>   -0.417</td> <td> 0.677</td> <td>   -0.288</td> <td>    0.187</td>\n",
       "</tr>\n",
       "<tr>\n",
       "  <th>ar.S.L60</th> <td>   -0.0847</td> <td>    0.129</td> <td>   -0.657</td> <td> 0.511</td> <td>   -0.337</td> <td>    0.168</td>\n",
       "</tr>\n",
       "<tr>\n",
       "  <th>ma.S.L12</th> <td>   -0.8526</td> <td>    0.144</td> <td>   -5.929</td> <td> 0.000</td> <td>   -1.134</td> <td>   -0.571</td>\n",
       "</tr>\n",
       "<tr>\n",
       "  <th>sigma2</th>   <td> 4.199e+08</td> <td> 2.31e-09</td> <td> 1.82e+17</td> <td> 0.000</td> <td>  4.2e+08</td> <td>  4.2e+08</td>\n",
       "</tr>\n",
       "</table>\n",
       "<table class=\"simpletable\">\n",
       "<tr>\n",
       "  <th>Ljung-Box (L1) (Q):</th>      <td>0.10</td>   <th>  Jarque-Bera (JB):  </th> <td>4740339.26</td>\n",
       "</tr>\n",
       "<tr>\n",
       "  <th>Prob(Q):</th>                 <td>0.75</td>   <th>  Prob(JB):          </th>    <td>0.00</td>   \n",
       "</tr>\n",
       "<tr>\n",
       "  <th>Heteroskedasticity (H):</th> <td>1579.74</td> <th>  Skew:              </th>    <td>15.62</td>  \n",
       "</tr>\n",
       "<tr>\n",
       "  <th>Prob(H) (two-sided):</th>     <td>0.00</td>   <th>  Kurtosis:          </th>   <td>346.19</td>  \n",
       "</tr>\n",
       "</table><br/><br/>Warnings:<br/>[1] Covariance matrix calculated using the outer product of gradients (complex-step).<br/>[2] Covariance matrix is singular or near-singular, with condition number 4.21e+32. Standard errors may be unstable."
      ],
      "text/plain": [
       "<class 'statsmodels.iolib.summary.Summary'>\n",
       "\"\"\"\n",
       "                                      SARIMAX Results                                       \n",
       "============================================================================================\n",
       "Dep. Variable:                            confirmed   No. Observations:                  971\n",
       "Model:             SARIMAX(1, 1, 0)x(5, 1, [1], 12)   Log Likelihood              -10655.083\n",
       "Date:                              Sun, 04 Jun 2023   AIC                          21326.165\n",
       "Time:                                      11:16:31   BIC                          21365.084\n",
       "Sample:                                  01-22-2020   HQIC                         21340.988\n",
       "                                       - 09-18-2022                                         \n",
       "Covariance Type:                                opg                                         \n",
       "==============================================================================\n",
       "                 coef    std err          z      P>|z|      [0.025      0.975]\n",
       "------------------------------------------------------------------------------\n",
       "ar.L1          0.0622      0.031      2.002      0.045       0.001       0.123\n",
       "ar.S.L12      -0.0763      0.148     -0.516      0.606      -0.366       0.213\n",
       "ar.S.L24      -0.0685      0.136     -0.505      0.614      -0.335       0.198\n",
       "ar.S.L36      -0.1002      0.129     -0.776      0.438      -0.353       0.153\n",
       "ar.S.L48      -0.0504      0.121     -0.417      0.677      -0.288       0.187\n",
       "ar.S.L60      -0.0847      0.129     -0.657      0.511      -0.337       0.168\n",
       "ma.S.L12      -0.8526      0.144     -5.929      0.000      -1.134      -0.571\n",
       "sigma2      4.199e+08   2.31e-09   1.82e+17      0.000     4.2e+08     4.2e+08\n",
       "===================================================================================\n",
       "Ljung-Box (L1) (Q):                   0.10   Jarque-Bera (JB):           4740339.26\n",
       "Prob(Q):                              0.75   Prob(JB):                         0.00\n",
       "Heteroskedasticity (H):            1579.74   Skew:                            15.62\n",
       "Prob(H) (two-sided):                  0.00   Kurtosis:                       346.19\n",
       "===================================================================================\n",
       "\n",
       "Warnings:\n",
       "[1] Covariance matrix calculated using the outer product of gradients (complex-step).\n",
       "[2] Covariance matrix is singular or near-singular, with condition number 4.21e+32. Standard errors may be unstable.\n",
       "\"\"\""
      ]
     },
     "execution_count": 46,
     "metadata": {},
     "output_type": "execute_result"
    }
   ],
   "source": [
    "result = model.fit() \n",
    "result.summary() "
   ]
  },
  {
   "cell_type": "code",
   "execution_count": 47,
   "id": "c929ec62",
   "metadata": {},
   "outputs": [],
   "source": [
    "\n",
    "#Prediction\n",
    "start_index = len(X_train)\n",
    "end_index = len(df)-1\n",
    "prediction = result.predict(start_index, end_index).rename('Predicted confirmed') "
   ]
  },
  {
   "cell_type": "code",
   "execution_count": 48,
   "id": "d65584ff",
   "metadata": {},
   "outputs": [
    {
     "data": {
      "text/plain": [
       "<AxesSubplot:>"
      ]
     },
     "execution_count": 48,
     "metadata": {},
     "output_type": "execute_result"
    },
    {
     "data": {
      "image/png": "[encoded data removed]",
      "text/plain": [
       "<Figure size 432x288 with 1 Axes>"
      ]
     },
     "metadata": {},
     "output_type": "display_data"
    }
   ],
   "source": [
    "prediction.plot(legend = True) \n",
    "X_test['confirmed'].plot(legend = True)"
   ]
  },
  {
   "cell_type": "code",
   "execution_count": 50,
   "id": "eb8f940a",
   "metadata": {},
   "outputs": [
    {
     "name": "stdout",
     "output_type": "stream",
     "text": [
      "Test Score: 673250.75 RMSE\n"
     ]
    }
   ],
   "source": [
    "import math\n",
    "from sklearn.metrics import mean_squared_error\n",
    "# calculate root mean squared error\n",
    "\n",
    "testScore = math.sqrt(mean_squared_error(X_test, prediction))\n",
    "print('Test Score: %.2f RMSE' % (testScore))"
   ]
  },
  {
   "cell_type": "code",
   "execution_count": 51,
   "id": "a31aba10",
   "metadata": {},
   "outputs": [
    {
     "name": "stdout",
     "output_type": "stream",
     "text": [
      "R2 score is:  -7.350659797678965\n"
     ]
    }
   ],
   "source": [
    "from sklearn.metrics import r2_score\n",
    "score = r2_score(X_test, prediction)\n",
    "print(\"R2 score is: \", score)"
   ]
  },
  {
   "cell_type": "code",
   "execution_count": 52,
   "id": "5626fe62",
   "metadata": {},
   "outputs": [],
   "source": [
    "forecast = result.predict(start = len(df),  \n",
    "                          end = (len(df)-1) + 3 * 12,  \n",
    "                          typ = 'levels').rename('Forecast')"
   ]
  },
  {
   "cell_type": "code",
   "execution_count": 53,
   "id": "f9c771b4",
   "metadata": {},
   "outputs": [
    {
     "data": {
      "image/png": "[encoded data removed]",
      "text/plain": [
       "<Figure size 864x576 with 1 Axes>"
      ]
     },
     "metadata": {},
     "output_type": "display_data"
    }
   ],
   "source": [
    "plt.figure(figsize=(12,8))\n",
    "plt.plot(X_train, label='Training', color='green')\n",
    "plt.plot(X_test, label='Test', color='yellow')\n",
    "plt.plot(forecast, label='Forecast', color='cyan')\n",
    "plt.legend(loc='upper left')\n",
    "plt.show()"
   ]
  },
  {
   "cell_type": "code",
   "execution_count": null,
   "id": "bb80d8f6",
   "metadata": {},
   "outputs": [],
   "source": []
  },
  {
   "cell_type": "code",
   "execution_count": null,
   "id": "5d3cb611",
   "metadata": {},
   "outputs": [],
   "source": []
  }
 ],
 "metadata": {
  "kernelspec": {
   "display_name": "Python 3 (ipykernel)",
   "language": "python",
   "name": "python3"
  },
  "language_info": {
   "codemirror_mode": {
    "name": "ipython",
    "version": 3
   },
   "file_extension": ".py",
   "mimetype": "text/x-python",
   "name": "python",
   "nbconvert_exporter": "python",
   "pygments_lexer": "ipython3",
   "version": "3.9.12"
  }
 },
 "nbformat": 4,
 "nbformat_minor": 5
}
