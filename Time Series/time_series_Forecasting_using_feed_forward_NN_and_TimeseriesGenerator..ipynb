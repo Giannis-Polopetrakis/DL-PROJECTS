{
 "cells": [
  {
   "cell_type": "code",
   "execution_count": 40,
   "id": "1ede058b",
   "metadata": {},
   "outputs": [],
   "source": [
    "import numpy as np\n",
    "import matplotlib.pyplot as plt\n",
    "from pandas import read_csv\n",
    "import math\n",
    "\n",
    "from keras.models import Sequential\n",
    "from keras.layers import Dense, LSTM, SimpleRNN\n",
    "from sklearn.preprocessing import MinMaxScaler\n",
    "from sklearn.metrics import mean_squared_error"
   ]
  },
  {
   "cell_type": "code",
   "execution_count": 41,
   "id": "39c99d00",
   "metadata": {},
   "outputs": [
    {
     "data": {
      "text/plain": [
       "[<matplotlib.lines.Line2D at 0x18d97d91520>]"
      ]
     },
     "execution_count": 41,
     "metadata": {},
     "output_type": "execute_result"
    },
    {
     "data": {
      "image/png": "[encoded data removed]",
      "text/plain": [
       "<Figure size 432x288 with 1 Axes>"
      ]
     },
     "metadata": {
      "needs_background": "light"
     },
     "output_type": "display_data"
    }
   ],
   "source": [
    "dataframe = read_csv('AirPassengers.csv', usecols=[1])\n",
    "plt.plot(dataframe)"
   ]
  },
  {
   "cell_type": "code",
   "execution_count": 42,
   "id": "37014f68",
   "metadata": {},
   "outputs": [],
   "source": [
    "dataset = dataframe.values\n",
    "dataset = dataset.astype('float32')"
   ]
  },
  {
   "cell_type": "code",
   "execution_count": 43,
   "id": "892cdc57",
   "metadata": {},
   "outputs": [
    {
     "data": {
      "text/plain": [
       "array([[112.],\n",
       "       [118.],\n",
       "       [132.],\n",
       "       [129.],\n",
       "       [121.],\n",
       "       [135.],\n",
       "       [148.],\n",
       "       [148.],\n",
       "       [136.],\n",
       "       [119.],\n",
       "       [104.],\n",
       "       [118.],\n",
       "       [115.],\n",
       "       [126.],\n",
       "       [141.],\n",
       "       [135.],\n",
       "       [125.],\n",
       "       [149.],\n",
       "       [170.],\n",
       "       [170.],\n",
       "       [158.],\n",
       "       [133.],\n",
       "       [114.],\n",
       "       [140.],\n",
       "       [145.],\n",
       "       [150.],\n",
       "       [178.],\n",
       "       [163.],\n",
       "       [172.],\n",
       "       [178.],\n",
       "       [199.],\n",
       "       [199.],\n",
       "       [184.],\n",
       "       [162.],\n",
       "       [146.],\n",
       "       [166.],\n",
       "       [171.],\n",
       "       [180.],\n",
       "       [193.],\n",
       "       [181.],\n",
       "       [183.],\n",
       "       [218.],\n",
       "       [230.],\n",
       "       [242.],\n",
       "       [209.],\n",
       "       [191.],\n",
       "       [172.],\n",
       "       [194.],\n",
       "       [196.],\n",
       "       [196.],\n",
       "       [236.],\n",
       "       [235.],\n",
       "       [229.],\n",
       "       [243.],\n",
       "       [264.],\n",
       "       [272.],\n",
       "       [237.],\n",
       "       [211.],\n",
       "       [180.],\n",
       "       [201.],\n",
       "       [204.],\n",
       "       [188.],\n",
       "       [235.],\n",
       "       [227.],\n",
       "       [234.],\n",
       "       [264.],\n",
       "       [302.],\n",
       "       [293.],\n",
       "       [259.],\n",
       "       [229.],\n",
       "       [203.],\n",
       "       [229.],\n",
       "       [242.],\n",
       "       [233.],\n",
       "       [267.],\n",
       "       [269.],\n",
       "       [270.],\n",
       "       [315.],\n",
       "       [364.],\n",
       "       [347.],\n",
       "       [312.],\n",
       "       [274.],\n",
       "       [237.],\n",
       "       [278.],\n",
       "       [284.],\n",
       "       [277.],\n",
       "       [317.],\n",
       "       [313.],\n",
       "       [318.],\n",
       "       [374.],\n",
       "       [413.],\n",
       "       [405.],\n",
       "       [355.],\n",
       "       [306.],\n",
       "       [271.],\n",
       "       [306.],\n",
       "       [315.],\n",
       "       [301.],\n",
       "       [356.],\n",
       "       [348.],\n",
       "       [355.],\n",
       "       [422.],\n",
       "       [465.],\n",
       "       [467.],\n",
       "       [404.],\n",
       "       [347.],\n",
       "       [305.],\n",
       "       [336.],\n",
       "       [340.],\n",
       "       [318.],\n",
       "       [362.],\n",
       "       [348.],\n",
       "       [363.],\n",
       "       [435.],\n",
       "       [491.],\n",
       "       [505.],\n",
       "       [404.],\n",
       "       [359.],\n",
       "       [310.],\n",
       "       [337.],\n",
       "       [360.],\n",
       "       [342.],\n",
       "       [406.],\n",
       "       [396.],\n",
       "       [420.],\n",
       "       [472.],\n",
       "       [548.],\n",
       "       [559.],\n",
       "       [463.],\n",
       "       [407.],\n",
       "       [362.],\n",
       "       [405.],\n",
       "       [417.],\n",
       "       [391.],\n",
       "       [419.],\n",
       "       [461.],\n",
       "       [472.],\n",
       "       [535.],\n",
       "       [622.],\n",
       "       [606.],\n",
       "       [508.],\n",
       "       [461.],\n",
       "       [390.],\n",
       "       [432.]], dtype=float32)"
      ]
     },
     "execution_count": 43,
     "metadata": {},
     "output_type": "execute_result"
    }
   ],
   "source": [
    "dataset"
   ]
  },
  {
   "cell_type": "code",
   "execution_count": 44,
   "id": "fac5c322",
   "metadata": {},
   "outputs": [],
   "source": [
    "scaler = MinMaxScaler(feature_range=(0, 1)) #Also try QuantileTransformer\n",
    "dataset = scaler.fit_transform(dataset)\n"
   ]
  },
  {
   "cell_type": "code",
   "execution_count": 45,
   "id": "1db20fe0",
   "metadata": {},
   "outputs": [],
   "source": [
    "train_size = int(len(dataset) * 0.66)\n",
    "test_size = len(dataset) - train_size\n",
    "train, test = dataset[0:train_size,:], dataset[train_size:len(dataset),:]"
   ]
  },
  {
   "cell_type": "code",
   "execution_count": 46,
   "id": "c0dc6397",
   "metadata": {},
   "outputs": [],
   "source": [
    "seq_size = 20 # Number of time steps to look back "
   ]
  },
  {
   "cell_type": "code",
   "execution_count": 47,
   "id": "742e2f45",
   "metadata": {},
   "outputs": [
    {
     "name": "stdout",
     "output_type": "stream",
     "text": [
      "Total number of samples in the original training data =  95\n",
      "Total number of samples in the generated data =  75\n"
     ]
    }
   ],
   "source": [
    "from keras.preprocessing.sequence import TimeseriesGenerator # Generates batches for sequence data\n",
    "batch_size = 1\n",
    "train_generator = TimeseriesGenerator(train.reshape(-1), train.reshape(-1), length=seq_size, batch_size=batch_size)\n",
    "print(\"Total number of samples in the original training data = \", len(train)) \n",
    "print(\"Total number of samples in the generated data = \", len(train_generator))"
   ]
  },
  {
   "cell_type": "code",
   "execution_count": 48,
   "id": "a34106ab",
   "metadata": {},
   "outputs": [],
   "source": [
    "validation_generator = TimeseriesGenerator(test.reshape(-1), test.reshape(-1), length=seq_size, batch_size=batch_size)\n"
   ]
  },
  {
   "cell_type": "code",
   "execution_count": 49,
   "id": "c13ccb1e",
   "metadata": {},
   "outputs": [
    {
     "name": "stdout",
     "output_type": "stream",
     "text": [
      "Model: \"sequential_2\"\n",
      "_________________________________________________________________\n",
      " Layer (type)                Output Shape              Param #   \n",
      "=================================================================\n",
      " dense_6 (Dense)             (None, 64)                1344      \n",
      "                                                                 \n",
      " dense_7 (Dense)             (None, 32)                2080      \n",
      "                                                                 \n",
      " dense_8 (Dense)             (None, 1)                 33        \n",
      "                                                                 \n",
      "=================================================================\n",
      "Total params: 3,457\n",
      "Trainable params: 3,457\n",
      "Non-trainable params: 0\n",
      "_________________________________________________________________\n",
      "None\n"
     ]
    }
   ],
   "source": [
    "model = Sequential()\n",
    "model.add(Dense(64, input_dim=seq_size, activation='relu')) \n",
    "model.add(Dense(32, activation='relu'))  \n",
    "model.add(Dense(1))\n",
    "model.compile(loss='mean_squared_error', optimizer='adam', metrics = ['acc'])\n",
    "print(model.summary()) "
   ]
  },
  {
   "cell_type": "code",
   "execution_count": 50,
   "id": "da31a12c",
   "metadata": {
    "scrolled": true
   },
   "outputs": [
    {
     "name": "stdout",
     "output_type": "stream",
     "text": [
      "Epoch 1/100\n"
     ]
    },
    {
     "name": "stderr",
     "output_type": "stream",
     "text": [
      "C:\\Users\\jpolo\\AppData\\Local\\Temp\\ipykernel_2720\\416170021.py:1: UserWarning: `Model.fit_generator` is deprecated and will be removed in a future version. Please use `Model.fit`, which supports generators.\n",
      "  model.fit_generator(generator=train_generator, verbose=2, epochs=100, validation_data=validation_generator)\n"
     ]
    },
    {
     "name": "stdout",
     "output_type": "stream",
     "text": [
      "75/75 - 1s - loss: 0.0065 - acc: 0.0000e+00 - val_loss: 0.0147 - val_acc: 0.0345 - 550ms/epoch - 7ms/step\n",
      "Epoch 2/100\n",
      "75/75 - 0s - loss: 0.0027 - acc: 0.0000e+00 - val_loss: 0.0075 - val_acc: 0.0345 - 82ms/epoch - 1ms/step\n",
      "Epoch 3/100\n",
      "75/75 - 0s - loss: 0.0016 - acc: 0.0000e+00 - val_loss: 0.0076 - val_acc: 0.0345 - 83ms/epoch - 1ms/step\n",
      "Epoch 4/100\n",
      "75/75 - 0s - loss: 0.0016 - acc: 0.0000e+00 - val_loss: 0.0064 - val_acc: 0.0345 - 88ms/epoch - 1ms/step\n",
      "Epoch 5/100\n",
      "75/75 - 0s - loss: 8.4718e-04 - acc: 0.0000e+00 - val_loss: 0.0030 - val_acc: 0.0345 - 90ms/epoch - 1ms/step\n",
      "Epoch 6/100\n",
      "75/75 - 0s - loss: 0.0011 - acc: 0.0000e+00 - val_loss: 0.0053 - val_acc: 0.0345 - 88ms/epoch - 1ms/step\n",
      "Epoch 7/100\n",
      "75/75 - 0s - loss: 9.6300e-04 - acc: 0.0000e+00 - val_loss: 0.0034 - val_acc: 0.0345 - 82ms/epoch - 1ms/step\n",
      "Epoch 8/100\n",
      "75/75 - 0s - loss: 0.0011 - acc: 0.0000e+00 - val_loss: 0.0029 - val_acc: 0.0345 - 93ms/epoch - 1ms/step\n",
      "Epoch 9/100\n",
      "75/75 - 0s - loss: 5.5204e-04 - acc: 0.0000e+00 - val_loss: 0.0027 - val_acc: 0.0345 - 80ms/epoch - 1ms/step\n",
      "Epoch 10/100\n",
      "75/75 - 0s - loss: 0.0012 - acc: 0.0000e+00 - val_loss: 0.0023 - val_acc: 0.0345 - 80ms/epoch - 1ms/step\n",
      "Epoch 11/100\n",
      "75/75 - 0s - loss: 5.3622e-04 - acc: 0.0000e+00 - val_loss: 0.0024 - val_acc: 0.0345 - 90ms/epoch - 1ms/step\n",
      "Epoch 12/100\n",
      "75/75 - 0s - loss: 6.7710e-04 - acc: 0.0000e+00 - val_loss: 0.0019 - val_acc: 0.0345 - 90ms/epoch - 1ms/step\n",
      "Epoch 13/100\n",
      "75/75 - 0s - loss: 6.6489e-04 - acc: 0.0000e+00 - val_loss: 0.0055 - val_acc: 0.0345 - 90ms/epoch - 1ms/step\n",
      "Epoch 14/100\n",
      "75/75 - 0s - loss: 0.0013 - acc: 0.0000e+00 - val_loss: 0.0030 - val_acc: 0.0345 - 87ms/epoch - 1ms/step\n",
      "Epoch 15/100\n",
      "75/75 - 0s - loss: 6.5866e-04 - acc: 0.0000e+00 - val_loss: 0.0021 - val_acc: 0.0345 - 90ms/epoch - 1ms/step\n",
      "Epoch 16/100\n",
      "75/75 - 0s - loss: 4.0683e-04 - acc: 0.0000e+00 - val_loss: 0.0027 - val_acc: 0.0345 - 83ms/epoch - 1ms/step\n",
      "Epoch 17/100\n",
      "75/75 - 0s - loss: 5.3376e-04 - acc: 0.0000e+00 - val_loss: 0.0014 - val_acc: 0.0345 - 80ms/epoch - 1ms/step\n",
      "Epoch 18/100\n",
      "75/75 - 0s - loss: 3.8220e-04 - acc: 0.0000e+00 - val_loss: 0.0014 - val_acc: 0.0345 - 80ms/epoch - 1ms/step\n",
      "Epoch 19/100\n",
      "75/75 - 0s - loss: 5.7387e-04 - acc: 0.0000e+00 - val_loss: 0.0044 - val_acc: 0.0345 - 84ms/epoch - 1ms/step\n",
      "Epoch 20/100\n",
      "75/75 - 0s - loss: 8.9985e-04 - acc: 0.0000e+00 - val_loss: 0.0103 - val_acc: 0.0345 - 80ms/epoch - 1ms/step\n",
      "Epoch 21/100\n",
      "75/75 - 0s - loss: 4.9366e-04 - acc: 0.0000e+00 - val_loss: 0.0015 - val_acc: 0.0345 - 80ms/epoch - 1ms/step\n",
      "Epoch 22/100\n",
      "75/75 - 0s - loss: 4.9101e-04 - acc: 0.0000e+00 - val_loss: 0.0022 - val_acc: 0.0345 - 83ms/epoch - 1ms/step\n",
      "Epoch 23/100\n",
      "75/75 - 0s - loss: 4.2056e-04 - acc: 0.0000e+00 - val_loss: 0.0028 - val_acc: 0.0345 - 80ms/epoch - 1ms/step\n",
      "Epoch 24/100\n",
      "75/75 - 0s - loss: 4.7105e-04 - acc: 0.0000e+00 - val_loss: 0.0012 - val_acc: 0.0345 - 80ms/epoch - 1ms/step\n",
      "Epoch 25/100\n",
      "75/75 - 0s - loss: 3.0816e-04 - acc: 0.0000e+00 - val_loss: 0.0028 - val_acc: 0.0345 - 80ms/epoch - 1ms/step\n",
      "Epoch 26/100\n",
      "75/75 - 0s - loss: 3.5034e-04 - acc: 0.0000e+00 - val_loss: 0.0012 - val_acc: 0.0345 - 90ms/epoch - 1ms/step\n",
      "Epoch 27/100\n",
      "75/75 - 0s - loss: 4.9316e-04 - acc: 0.0000e+00 - val_loss: 0.0074 - val_acc: 0.0345 - 93ms/epoch - 1ms/step\n",
      "Epoch 28/100\n",
      "75/75 - 0s - loss: 7.7893e-04 - acc: 0.0000e+00 - val_loss: 0.0013 - val_acc: 0.0345 - 90ms/epoch - 1ms/step\n",
      "Epoch 29/100\n",
      "75/75 - 0s - loss: 8.4082e-04 - acc: 0.0000e+00 - val_loss: 0.0023 - val_acc: 0.0345 - 93ms/epoch - 1ms/step\n",
      "Epoch 30/100\n",
      "75/75 - 0s - loss: 5.7069e-04 - acc: 0.0000e+00 - val_loss: 0.0013 - val_acc: 0.0345 - 80ms/epoch - 1ms/step\n",
      "Epoch 31/100\n",
      "75/75 - 0s - loss: 4.4592e-04 - acc: 0.0000e+00 - val_loss: 0.0015 - val_acc: 0.0345 - 80ms/epoch - 1ms/step\n",
      "Epoch 32/100\n",
      "75/75 - 0s - loss: 3.1883e-04 - acc: 0.0000e+00 - val_loss: 0.0021 - val_acc: 0.0345 - 79ms/epoch - 1ms/step\n",
      "Epoch 33/100\n",
      "75/75 - 0s - loss: 3.0561e-04 - acc: 0.0000e+00 - val_loss: 0.0027 - val_acc: 0.0345 - 80ms/epoch - 1ms/step\n",
      "Epoch 34/100\n",
      "75/75 - 0s - loss: 3.3487e-04 - acc: 0.0000e+00 - val_loss: 0.0027 - val_acc: 0.0345 - 80ms/epoch - 1ms/step\n",
      "Epoch 35/100\n",
      "75/75 - 0s - loss: 3.4962e-04 - acc: 0.0000e+00 - val_loss: 0.0018 - val_acc: 0.0345 - 87ms/epoch - 1ms/step\n",
      "Epoch 36/100\n",
      "75/75 - 0s - loss: 3.1367e-04 - acc: 0.0000e+00 - val_loss: 0.0012 - val_acc: 0.0345 - 90ms/epoch - 1ms/step\n",
      "Epoch 37/100\n",
      "75/75 - 0s - loss: 2.7890e-04 - acc: 0.0000e+00 - val_loss: 9.2961e-04 - val_acc: 0.0345 - 90ms/epoch - 1ms/step\n",
      "Epoch 38/100\n",
      "75/75 - 0s - loss: 3.2600e-04 - acc: 0.0000e+00 - val_loss: 0.0023 - val_acc: 0.0345 - 86ms/epoch - 1ms/step\n",
      "Epoch 39/100\n",
      "75/75 - 0s - loss: 9.4798e-04 - acc: 0.0000e+00 - val_loss: 0.0027 - val_acc: 0.0345 - 90ms/epoch - 1ms/step\n",
      "Epoch 40/100\n",
      "75/75 - 0s - loss: 5.0503e-04 - acc: 0.0000e+00 - val_loss: 0.0015 - val_acc: 0.0345 - 90ms/epoch - 1ms/step\n",
      "Epoch 41/100\n",
      "75/75 - 0s - loss: 3.1205e-04 - acc: 0.0000e+00 - val_loss: 0.0017 - val_acc: 0.0345 - 86ms/epoch - 1ms/step\n",
      "Epoch 42/100\n",
      "75/75 - 0s - loss: 3.4441e-04 - acc: 0.0000e+00 - val_loss: 0.0018 - val_acc: 0.0345 - 90ms/epoch - 1ms/step\n",
      "Epoch 43/100\n",
      "75/75 - 0s - loss: 5.1754e-04 - acc: 0.0000e+00 - val_loss: 0.0015 - val_acc: 0.0345 - 90ms/epoch - 1ms/step\n",
      "Epoch 44/100\n",
      "75/75 - 0s - loss: 2.4756e-04 - acc: 0.0000e+00 - val_loss: 0.0020 - val_acc: 0.0345 - 80ms/epoch - 1ms/step\n",
      "Epoch 45/100\n",
      "75/75 - 0s - loss: 3.6080e-04 - acc: 0.0000e+00 - val_loss: 0.0011 - val_acc: 0.0345 - 80ms/epoch - 1ms/step\n",
      "Epoch 46/100\n",
      "75/75 - 0s - loss: 3.9704e-04 - acc: 0.0000e+00 - val_loss: 0.0019 - val_acc: 0.0345 - 86ms/epoch - 1ms/step\n",
      "Epoch 47/100\n",
      "75/75 - 0s - loss: 2.8483e-04 - acc: 0.0000e+00 - val_loss: 0.0016 - val_acc: 0.0345 - 80ms/epoch - 1ms/step\n",
      "Epoch 48/100\n",
      "75/75 - 0s - loss: 3.7616e-04 - acc: 0.0000e+00 - val_loss: 0.0014 - val_acc: 0.0345 - 80ms/epoch - 1ms/step\n",
      "Epoch 49/100\n",
      "75/75 - 0s - loss: 2.9920e-04 - acc: 0.0000e+00 - val_loss: 0.0047 - val_acc: 0.0345 - 80ms/epoch - 1ms/step\n",
      "Epoch 50/100\n",
      "75/75 - 0s - loss: 3.6318e-04 - acc: 0.0000e+00 - val_loss: 0.0024 - val_acc: 0.0345 - 80ms/epoch - 1ms/step\n",
      "Epoch 51/100\n",
      "75/75 - 0s - loss: 4.6731e-04 - acc: 0.0000e+00 - val_loss: 0.0016 - val_acc: 0.0345 - 79ms/epoch - 1ms/step\n",
      "Epoch 52/100\n",
      "75/75 - 0s - loss: 2.3022e-04 - acc: 0.0000e+00 - val_loss: 0.0016 - val_acc: 0.0345 - 85ms/epoch - 1ms/step\n",
      "Epoch 53/100\n",
      "75/75 - 0s - loss: 2.5810e-04 - acc: 0.0000e+00 - val_loss: 0.0030 - val_acc: 0.0345 - 80ms/epoch - 1ms/step\n",
      "Epoch 54/100\n",
      "75/75 - 0s - loss: 3.5740e-04 - acc: 0.0000e+00 - val_loss: 0.0012 - val_acc: 0.0345 - 80ms/epoch - 1ms/step\n",
      "Epoch 55/100\n",
      "75/75 - 0s - loss: 2.2917e-04 - acc: 0.0000e+00 - val_loss: 0.0017 - val_acc: 0.0345 - 85ms/epoch - 1ms/step\n",
      "Epoch 56/100\n",
      "75/75 - 0s - loss: 3.8053e-04 - acc: 0.0000e+00 - val_loss: 0.0011 - val_acc: 0.0345 - 80ms/epoch - 1ms/step\n",
      "Epoch 57/100\n",
      "75/75 - 0s - loss: 2.7328e-04 - acc: 0.0000e+00 - val_loss: 0.0015 - val_acc: 0.0345 - 79ms/epoch - 1ms/step\n",
      "Epoch 58/100\n",
      "75/75 - 0s - loss: 4.2086e-04 - acc: 0.0000e+00 - val_loss: 9.9593e-04 - val_acc: 0.0345 - 86ms/epoch - 1ms/step\n",
      "Epoch 59/100\n",
      "75/75 - 0s - loss: 3.4847e-04 - acc: 0.0000e+00 - val_loss: 0.0037 - val_acc: 0.0345 - 80ms/epoch - 1ms/step\n",
      "Epoch 60/100\n",
      "75/75 - 0s - loss: 5.1943e-04 - acc: 0.0000e+00 - val_loss: 0.0016 - val_acc: 0.0345 - 79ms/epoch - 1ms/step\n",
      "Epoch 61/100\n",
      "75/75 - 0s - loss: 2.8541e-04 - acc: 0.0000e+00 - val_loss: 0.0036 - val_acc: 0.0345 - 80ms/epoch - 1ms/step\n",
      "Epoch 62/100\n",
      "75/75 - 0s - loss: 2.5362e-04 - acc: 0.0000e+00 - val_loss: 0.0018 - val_acc: 0.0345 - 80ms/epoch - 1ms/step\n",
      "Epoch 63/100\n",
      "75/75 - 0s - loss: 3.0746e-04 - acc: 0.0000e+00 - val_loss: 0.0012 - val_acc: 0.0345 - 79ms/epoch - 1ms/step\n",
      "Epoch 64/100\n",
      "75/75 - 0s - loss: 2.4649e-04 - acc: 0.0000e+00 - val_loss: 0.0014 - val_acc: 0.0345 - 87ms/epoch - 1ms/step\n",
      "Epoch 65/100\n",
      "75/75 - 0s - loss: 2.3838e-04 - acc: 0.0000e+00 - val_loss: 0.0061 - val_acc: 0.0345 - 81ms/epoch - 1ms/step\n",
      "Epoch 66/100\n",
      "75/75 - 0s - loss: 3.4476e-04 - acc: 0.0000e+00 - val_loss: 0.0016 - val_acc: 0.0345 - 80ms/epoch - 1ms/step\n",
      "Epoch 67/100\n",
      "75/75 - 0s - loss: 3.6947e-04 - acc: 0.0000e+00 - val_loss: 0.0013 - val_acc: 0.0345 - 87ms/epoch - 1ms/step\n",
      "Epoch 68/100\n",
      "75/75 - 0s - loss: 3.4719e-04 - acc: 0.0000e+00 - val_loss: 0.0026 - val_acc: 0.0345 - 80ms/epoch - 1ms/step\n"
     ]
    },
    {
     "name": "stdout",
     "output_type": "stream",
     "text": [
      "Epoch 69/100\n",
      "75/75 - 0s - loss: 3.7663e-04 - acc: 0.0000e+00 - val_loss: 0.0027 - val_acc: 0.0345 - 80ms/epoch - 1ms/step\n",
      "Epoch 70/100\n",
      "75/75 - 0s - loss: 6.1370e-04 - acc: 0.0000e+00 - val_loss: 0.0053 - val_acc: 0.0345 - 88ms/epoch - 1ms/step\n",
      "Epoch 71/100\n",
      "75/75 - 0s - loss: 6.6606e-04 - acc: 0.0000e+00 - val_loss: 0.0073 - val_acc: 0.0345 - 80ms/epoch - 1ms/step\n",
      "Epoch 72/100\n",
      "75/75 - 0s - loss: 7.8608e-04 - acc: 0.0000e+00 - val_loss: 0.0025 - val_acc: 0.0345 - 86ms/epoch - 1ms/step\n",
      "Epoch 73/100\n",
      "75/75 - 0s - loss: 2.5758e-04 - acc: 0.0000e+00 - val_loss: 0.0011 - val_acc: 0.0345 - 80ms/epoch - 1ms/step\n",
      "Epoch 74/100\n",
      "75/75 - 0s - loss: 2.7994e-04 - acc: 0.0000e+00 - val_loss: 0.0017 - val_acc: 0.0345 - 90ms/epoch - 1ms/step\n",
      "Epoch 75/100\n",
      "75/75 - 0s - loss: 4.6877e-04 - acc: 0.0000e+00 - val_loss: 0.0010 - val_acc: 0.0345 - 90ms/epoch - 1ms/step\n",
      "Epoch 76/100\n",
      "75/75 - 0s - loss: 3.4546e-04 - acc: 0.0000e+00 - val_loss: 0.0028 - val_acc: 0.0345 - 90ms/epoch - 1ms/step\n",
      "Epoch 77/100\n",
      "75/75 - 0s - loss: 3.3697e-04 - acc: 0.0000e+00 - val_loss: 0.0019 - val_acc: 0.0345 - 84ms/epoch - 1ms/step\n",
      "Epoch 78/100\n",
      "75/75 - 0s - loss: 2.4842e-04 - acc: 0.0000e+00 - val_loss: 0.0015 - val_acc: 0.0345 - 88ms/epoch - 1ms/step\n",
      "Epoch 79/100\n",
      "75/75 - 0s - loss: 2.3455e-04 - acc: 0.0000e+00 - val_loss: 0.0019 - val_acc: 0.0345 - 88ms/epoch - 1ms/step\n",
      "Epoch 80/100\n",
      "75/75 - 0s - loss: 2.8512e-04 - acc: 0.0000e+00 - val_loss: 0.0018 - val_acc: 0.0345 - 88ms/epoch - 1ms/step\n",
      "Epoch 81/100\n",
      "75/75 - 0s - loss: 2.2223e-04 - acc: 0.0000e+00 - val_loss: 0.0030 - val_acc: 0.0345 - 80ms/epoch - 1ms/step\n",
      "Epoch 82/100\n",
      "75/75 - 0s - loss: 6.2019e-04 - acc: 0.0000e+00 - val_loss: 0.0026 - val_acc: 0.0345 - 87ms/epoch - 1ms/step\n",
      "Epoch 83/100\n",
      "75/75 - 0s - loss: 2.3948e-04 - acc: 0.0000e+00 - val_loss: 0.0012 - val_acc: 0.0345 - 88ms/epoch - 1ms/step\n",
      "Epoch 84/100\n",
      "75/75 - 0s - loss: 3.1268e-04 - acc: 0.0000e+00 - val_loss: 0.0010 - val_acc: 0.0345 - 90ms/epoch - 1ms/step\n",
      "Epoch 85/100\n",
      "75/75 - 0s - loss: 2.4404e-04 - acc: 0.0000e+00 - val_loss: 0.0018 - val_acc: 0.0345 - 87ms/epoch - 1ms/step\n",
      "Epoch 86/100\n",
      "75/75 - 0s - loss: 4.0939e-04 - acc: 0.0000e+00 - val_loss: 0.0061 - val_acc: 0.0345 - 80ms/epoch - 1ms/step\n",
      "Epoch 87/100\n",
      "75/75 - 0s - loss: 7.6639e-04 - acc: 0.0000e+00 - val_loss: 0.0015 - val_acc: 0.0345 - 84ms/epoch - 1ms/step\n",
      "Epoch 88/100\n",
      "75/75 - 0s - loss: 2.5538e-04 - acc: 0.0000e+00 - val_loss: 0.0012 - val_acc: 0.0345 - 80ms/epoch - 1ms/step\n",
      "Epoch 89/100\n",
      "75/75 - 0s - loss: 3.0856e-04 - acc: 0.0000e+00 - val_loss: 0.0033 - val_acc: 0.0345 - 80ms/epoch - 1ms/step\n",
      "Epoch 90/100\n",
      "75/75 - 0s - loss: 4.2526e-04 - acc: 0.0000e+00 - val_loss: 0.0058 - val_acc: 0.0345 - 80ms/epoch - 1ms/step\n",
      "Epoch 91/100\n",
      "75/75 - 0s - loss: 2.8195e-04 - acc: 0.0000e+00 - val_loss: 0.0021 - val_acc: 0.0345 - 80ms/epoch - 1ms/step\n",
      "Epoch 92/100\n",
      "75/75 - 0s - loss: 2.8355e-04 - acc: 0.0000e+00 - val_loss: 0.0024 - val_acc: 0.0345 - 80ms/epoch - 1ms/step\n",
      "Epoch 93/100\n",
      "75/75 - 0s - loss: 2.3662e-04 - acc: 0.0000e+00 - val_loss: 0.0017 - val_acc: 0.0345 - 85ms/epoch - 1ms/step\n",
      "Epoch 94/100\n",
      "75/75 - 0s - loss: 1.7397e-04 - acc: 0.0000e+00 - val_loss: 0.0014 - val_acc: 0.0345 - 80ms/epoch - 1ms/step\n",
      "Epoch 95/100\n",
      "75/75 - 0s - loss: 2.1598e-04 - acc: 0.0000e+00 - val_loss: 0.0018 - val_acc: 0.0345 - 80ms/epoch - 1ms/step\n",
      "Epoch 96/100\n",
      "75/75 - 0s - loss: 2.2714e-04 - acc: 0.0000e+00 - val_loss: 0.0016 - val_acc: 0.0345 - 86ms/epoch - 1ms/step\n",
      "Epoch 97/100\n",
      "75/75 - 0s - loss: 2.8256e-04 - acc: 0.0000e+00 - val_loss: 0.0022 - val_acc: 0.0345 - 90ms/epoch - 1ms/step\n",
      "Epoch 98/100\n",
      "75/75 - 0s - loss: 2.1618e-04 - acc: 0.0000e+00 - val_loss: 9.9247e-04 - val_acc: 0.0345 - 98ms/epoch - 1ms/step\n",
      "Epoch 99/100\n",
      "75/75 - 0s - loss: 2.1984e-04 - acc: 0.0000e+00 - val_loss: 0.0024 - val_acc: 0.0345 - 93ms/epoch - 1ms/step\n",
      "Epoch 100/100\n",
      "75/75 - 0s - loss: 1.7605e-04 - acc: 0.0000e+00 - val_loss: 0.0017 - val_acc: 0.0345 - 80ms/epoch - 1ms/step\n"
     ]
    },
    {
     "data": {
      "text/plain": [
       "<keras.callbacks.History at 0x18d97d3cd90>"
      ]
     },
     "execution_count": 50,
     "metadata": {},
     "output_type": "execute_result"
    }
   ],
   "source": [
    "model.fit_generator(generator=train_generator, verbose=2, epochs=100, validation_data=validation_generator)"
   ]
  },
  {
   "cell_type": "code",
   "execution_count": 51,
   "id": "4cdbe6ac",
   "metadata": {},
   "outputs": [
    {
     "name": "stdout",
     "output_type": "stream",
     "text": [
      "75/75 [==============================] - 0s 677us/step\n",
      "29/29 [==============================] - 0s 367us/step\n"
     ]
    }
   ],
   "source": [
    "trainPredict = model.predict(train_generator)\n",
    "testPredict = model.predict(validation_generator)"
   ]
  },
  {
   "cell_type": "code",
   "execution_count": 52,
   "id": "edbd360d",
   "metadata": {},
   "outputs": [],
   "source": [
    "trainPredict = scaler.inverse_transform(trainPredict)\n",
    "trainY_inverse = scaler.inverse_transform(train)\n",
    "testPredict = scaler.inverse_transform(testPredict)\n",
    "testY_inverse = scaler.inverse_transform(test)"
   ]
  },
  {
   "cell_type": "code",
   "execution_count": 53,
   "id": "1eddb738",
   "metadata": {},
   "outputs": [
    {
     "name": "stdout",
     "output_type": "stream",
     "text": [
      "Train Score: 5.90 RMSE\n",
      "Test Score: 21.62 RMSE\n"
     ]
    }
   ],
   "source": [
    "trainScore = math.sqrt(mean_squared_error(trainY_inverse[seq_size:], trainPredict[:,0]))\n",
    "print('Train Score: %.2f RMSE' % (trainScore))\n",
    "\n",
    "testScore = math.sqrt(mean_squared_error(testY_inverse[seq_size:], testPredict[:,0]))\n",
    "print('Test Score: %.2f RMSE' % (testScore))"
   ]
  },
  {
   "cell_type": "code",
   "execution_count": 54,
   "id": "50ce1009",
   "metadata": {},
   "outputs": [],
   "source": [
    "# shift train predictions for plotting\n",
    "#we must shift the predictions so that they align on the x-axis with the original dataset. \n",
    "trainPredictPlot = np.empty_like(dataset)\n",
    "trainPredictPlot[:, :] = np.nan\n",
    "trainPredictPlot[seq_size:len(trainPredict)+seq_size, :] = trainPredict\n",
    "\n",
    "# shift test predictions for plotting\n",
    "testPredictPlot = np.empty_like(dataset)\n",
    "testPredictPlot[:, :] = np.nan\n",
    "#testPredictPlot[len(trainPredict)+(seq_size*2)-1:len(dataset)-1, :] = testPredict\n",
    "testPredictPlot[len(train)+(seq_size)-1:len(dataset)-1, :] = testPredict"
   ]
  },
  {
   "cell_type": "code",
   "execution_count": 55,
   "id": "a713c145",
   "metadata": {},
   "outputs": [
    {
     "data": {
      "image/png": "[encoded data removed]",
      "text/plain": [
       "<Figure size 432x288 with 1 Axes>"
      ]
     },
     "metadata": {
      "needs_background": "light"
     },
     "output_type": "display_data"
    }
   ],
   "source": [
    "# plot baseline and predictions\n",
    "plt.plot(scaler.inverse_transform(dataset))\n",
    "plt.plot(trainPredictPlot)\n",
    "plt.plot(testPredictPlot)\n",
    "plt.show()"
   ]
  }
 ],
 "metadata": {
  "kernelspec": {
   "display_name": "Python 3 (ipykernel)",
   "language": "python",
   "name": "python3"
  },
  "language_info": {
   "codemirror_mode": {
    "name": "ipython",
    "version": 3
   },
   "file_extension": ".py",
   "mimetype": "text/x-python",
   "name": "python",
   "nbconvert_exporter": "python",
   "pygments_lexer": "ipython3",
   "version": "3.9.12"
  }
 },
 "nbformat": 4,
 "nbformat_minor": 5
}
