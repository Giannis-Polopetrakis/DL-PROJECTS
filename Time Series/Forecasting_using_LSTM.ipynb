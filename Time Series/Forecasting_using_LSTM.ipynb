{
 "cells": [
  {
   "cell_type": "code",
   "execution_count": 1,
   "id": "b280125d",
   "metadata": {},
   "outputs": [],
   "source": [
    "\n",
    "import numpy as np\n",
    "import matplotlib.pyplot as plt\n",
    "from pandas import read_csv\n",
    "import math\n",
    "\n",
    "from keras.models import Sequential\n",
    "from keras.layers import Dense, SimpleRNN, LSTM\n",
    "from sklearn.preprocessing import MinMaxScaler\n",
    "from sklearn.metrics import mean_squared_error"
   ]
  },
  {
   "cell_type": "code",
   "execution_count": 2,
   "id": "171667ab",
   "metadata": {},
   "outputs": [
    {
     "data": {
      "text/plain": [
       "[<matplotlib.lines.Line2D at 0x2931225dfd0>]"
      ]
     },
     "execution_count": 2,
     "metadata": {},
     "output_type": "execute_result"
    },
    {
     "data": {
      "image/png": "[encoded data removed]",
      "text/plain": [
       "<Figure size 432x288 with 1 Axes>"
      ]
     },
     "metadata": {
      "needs_background": "light"
     },
     "output_type": "display_data"
    }
   ],
   "source": [
    "dataframe = read_csv('AirPassengers.csv', usecols=[1])\n",
    "plt.plot(dataframe)"
   ]
  },
  {
   "cell_type": "code",
   "execution_count": 3,
   "id": "9937c9ba",
   "metadata": {},
   "outputs": [],
   "source": [
    "dataset = dataframe.values\n",
    "dataset = dataset.astype('float32')"
   ]
  },
  {
   "cell_type": "code",
   "execution_count": 4,
   "id": "39b7419e",
   "metadata": {},
   "outputs": [],
   "source": [
    "scaler = MinMaxScaler(feature_range=(0, 1)) \n",
    "dataset = scaler.fit_transform(dataset)"
   ]
  },
  {
   "cell_type": "code",
   "execution_count": 5,
   "id": "b00f9056",
   "metadata": {},
   "outputs": [],
   "source": [
    "train_size = int(len(dataset) * 0.66)\n",
    "test_size = len(dataset) - train_size\n",
    "train, test = dataset[0:train_size,:], dataset[train_size:len(dataset),:]"
   ]
  },
  {
   "cell_type": "code",
   "execution_count": 6,
   "id": "b57eeb04",
   "metadata": {},
   "outputs": [
    {
     "name": "stdout",
     "output_type": "stream",
     "text": [
      "Total number of samples in the original training data =  95\n",
      "Total number of samples in the generated data =  75\n"
     ]
    }
   ],
   "source": [
    "from keras.preprocessing.sequence import TimeseriesGenerator # Generates batches for sequence data\n",
    "seq_size = length =  20 \n",
    "batch_size = 1\n",
    "train_generator = TimeseriesGenerator(train,train,length=length,batch_size=batch_size)\n",
    "print(\"Total number of samples in the original training data = \", len(train)) \n",
    "print(\"Total number of samples in the generated data = \", len(train_generator)) "
   ]
  },
  {
   "cell_type": "code",
   "execution_count": 7,
   "id": "dd93d12b",
   "metadata": {},
   "outputs": [],
   "source": [
    "validation_generator = TimeseriesGenerator(test, test, length=length ,batch_size=batch_size)"
   ]
  },
  {
   "cell_type": "code",
   "execution_count": 8,
   "id": "60dc3f88",
   "metadata": {},
   "outputs": [],
   "source": [
    "num_features = 1"
   ]
  },
  {
   "cell_type": "code",
   "execution_count": 15,
   "id": "8e6d6e0a",
   "metadata": {},
   "outputs": [
    {
     "name": "stdout",
     "output_type": "stream",
     "text": [
      "Model: \"sequential_2\"\n",
      "_________________________________________________________________\n",
      " Layer (type)                Output Shape              Param #   \n",
      "=================================================================\n",
      " lstm_4 (LSTM)               (None, 20, 64)            16896     \n",
      "                                                                 \n",
      " lstm_5 (LSTM)               (None, 64)                33024     \n",
      "                                                                 \n",
      " dense_3 (Dense)             (None, 1)                 65        \n",
      "                                                                 \n",
      "=================================================================\n",
      "Total params: 49,985\n",
      "Trainable params: 49,985\n",
      "Non-trainable params: 0\n",
      "_________________________________________________________________\n"
     ]
    }
   ],
   "source": [
    "model = Sequential()\n",
    "model.add(LSTM(64, activation='relu', return_sequences=True, input_shape=(length, num_features)))\n",
    "model.add(LSTM(64, activation='relu'))\n",
    "model.add(Dense(1))\n",
    "model.compile(optimizer='adam', loss='mean_squared_error')\n",
    "\n",
    "model.summary()"
   ]
  },
  {
   "cell_type": "code",
   "execution_count": 16,
   "id": "0bee6f99",
   "metadata": {},
   "outputs": [
    {
     "name": "stdout",
     "output_type": "stream",
     "text": [
      "Epoch 1/100\n"
     ]
    },
    {
     "name": "stderr",
     "output_type": "stream",
     "text": [
      "C:\\Users\\jpolo\\AppData\\Local\\Temp\\ipykernel_3624\\416170021.py:1: UserWarning: `Model.fit_generator` is deprecated and will be removed in a future version. Please use `Model.fit`, which supports generators.\n",
      "  model.fit_generator(generator=train_generator, verbose=2, epochs=100, validation_data=validation_generator)\n"
     ]
    },
    {
     "name": "stdout",
     "output_type": "stream",
     "text": [
      "75/75 - 2s - loss: 0.0203 - val_loss: 0.0289 - 2s/epoch - 28ms/step\n",
      "Epoch 2/100\n",
      "75/75 - 0s - loss: 0.0066 - val_loss: 0.0274 - 471ms/epoch - 6ms/step\n",
      "Epoch 3/100\n",
      "75/75 - 0s - loss: 0.0062 - val_loss: 0.0357 - 487ms/epoch - 6ms/step\n",
      "Epoch 4/100\n",
      "75/75 - 1s - loss: 0.0058 - val_loss: 0.0310 - 502ms/epoch - 7ms/step\n",
      "Epoch 5/100\n",
      "75/75 - 0s - loss: 0.0096 - val_loss: 0.0229 - 477ms/epoch - 6ms/step\n",
      "Epoch 6/100\n",
      "75/75 - 1s - loss: 0.0054 - val_loss: 0.0329 - 502ms/epoch - 7ms/step\n",
      "Epoch 7/100\n",
      "75/75 - 0s - loss: 0.0065 - val_loss: 0.0227 - 424ms/epoch - 6ms/step\n",
      "Epoch 8/100\n",
      "75/75 - 0s - loss: 0.0081 - val_loss: 0.0271 - 424ms/epoch - 6ms/step\n",
      "Epoch 9/100\n",
      "75/75 - 0s - loss: 0.0059 - val_loss: 0.0235 - 486ms/epoch - 6ms/step\n",
      "Epoch 10/100\n",
      "75/75 - 1s - loss: 0.0059 - val_loss: 0.0239 - 502ms/epoch - 7ms/step\n",
      "Epoch 11/100\n",
      "75/75 - 1s - loss: 0.0060 - val_loss: 0.0242 - 518ms/epoch - 7ms/step\n",
      "Epoch 12/100\n",
      "75/75 - 0s - loss: 0.0055 - val_loss: 0.0280 - 455ms/epoch - 6ms/step\n",
      "Epoch 13/100\n",
      "75/75 - 0s - loss: 0.0060 - val_loss: 0.0292 - 471ms/epoch - 6ms/step\n",
      "Epoch 14/100\n",
      "75/75 - 0s - loss: 0.0069 - val_loss: 0.0236 - 471ms/epoch - 6ms/step\n",
      "Epoch 15/100\n",
      "75/75 - 0s - loss: 0.0053 - val_loss: 0.0226 - 440ms/epoch - 6ms/step\n",
      "Epoch 16/100\n",
      "75/75 - 0s - loss: 0.0059 - val_loss: 0.0222 - 470ms/epoch - 6ms/step\n",
      "Epoch 17/100\n",
      "75/75 - 1s - loss: 0.0060 - val_loss: 0.0222 - 502ms/epoch - 7ms/step\n",
      "Epoch 18/100\n",
      "75/75 - 1s - loss: 0.0065 - val_loss: 0.0417 - 502ms/epoch - 7ms/step\n",
      "Epoch 19/100\n",
      "75/75 - 1s - loss: 0.0063 - val_loss: 0.0342 - 504ms/epoch - 7ms/step\n",
      "Epoch 20/100\n",
      "75/75 - 0s - loss: 0.0053 - val_loss: 0.0230 - 490ms/epoch - 7ms/step\n",
      "Epoch 21/100\n",
      "75/75 - 0s - loss: 0.0056 - val_loss: 0.0317 - 494ms/epoch - 7ms/step\n",
      "Epoch 22/100\n",
      "75/75 - 0s - loss: 0.0062 - val_loss: 0.0219 - 497ms/epoch - 7ms/step\n",
      "Epoch 23/100\n",
      "75/75 - 0s - loss: 0.0056 - val_loss: 0.0237 - 498ms/epoch - 7ms/step\n",
      "Epoch 24/100\n",
      "75/75 - 0s - loss: 0.0051 - val_loss: 0.0356 - 494ms/epoch - 7ms/step\n",
      "Epoch 25/100\n",
      "75/75 - 1s - loss: 0.0053 - val_loss: 0.0244 - 505ms/epoch - 7ms/step\n",
      "Epoch 26/100\n",
      "75/75 - 1s - loss: 0.0056 - val_loss: 0.0219 - 503ms/epoch - 7ms/step\n",
      "Epoch 27/100\n",
      "75/75 - 1s - loss: 0.0058 - val_loss: 0.0245 - 503ms/epoch - 7ms/step\n",
      "Epoch 28/100\n",
      "75/75 - 1s - loss: 0.0067 - val_loss: 0.0249 - 502ms/epoch - 7ms/step\n",
      "Epoch 29/100\n",
      "75/75 - 1s - loss: 0.0058 - val_loss: 0.0227 - 503ms/epoch - 7ms/step\n",
      "Epoch 30/100\n",
      "75/75 - 0s - loss: 0.0055 - val_loss: 0.0302 - 490ms/epoch - 7ms/step\n",
      "Epoch 31/100\n",
      "75/75 - 0s - loss: 0.0060 - val_loss: 0.0250 - 495ms/epoch - 7ms/step\n",
      "Epoch 32/100\n",
      "75/75 - 0s - loss: 0.0056 - val_loss: 0.0259 - 492ms/epoch - 7ms/step\n",
      "Epoch 33/100\n",
      "75/75 - 0s - loss: 0.0057 - val_loss: 0.0225 - 499ms/epoch - 7ms/step\n",
      "Epoch 34/100\n",
      "75/75 - 0s - loss: 0.0063 - val_loss: 0.0241 - 478ms/epoch - 6ms/step\n",
      "Epoch 35/100\n",
      "75/75 - 0s - loss: 0.0051 - val_loss: 0.0220 - 477ms/epoch - 6ms/step\n",
      "Epoch 36/100\n",
      "75/75 - 0s - loss: 0.0054 - val_loss: 0.0326 - 452ms/epoch - 6ms/step\n",
      "Epoch 37/100\n",
      "75/75 - 0s - loss: 0.0052 - val_loss: 0.0226 - 414ms/epoch - 6ms/step\n",
      "Epoch 38/100\n",
      "75/75 - 0s - loss: 0.0055 - val_loss: 0.0214 - 417ms/epoch - 6ms/step\n",
      "Epoch 39/100\n",
      "75/75 - 0s - loss: 0.0054 - val_loss: 0.0214 - 432ms/epoch - 6ms/step\n",
      "Epoch 40/100\n",
      "75/75 - 0s - loss: 0.0062 - val_loss: 0.0219 - 436ms/epoch - 6ms/step\n",
      "Epoch 41/100\n",
      "75/75 - 0s - loss: 0.0053 - val_loss: 0.0214 - 459ms/epoch - 6ms/step\n",
      "Epoch 42/100\n",
      "75/75 - 0s - loss: 0.0054 - val_loss: 0.0290 - 446ms/epoch - 6ms/step\n",
      "Epoch 43/100\n",
      "75/75 - 0s - loss: 0.0055 - val_loss: 0.0216 - 408ms/epoch - 5ms/step\n",
      "Epoch 44/100\n",
      "75/75 - 0s - loss: 0.0053 - val_loss: 0.0215 - 432ms/epoch - 6ms/step\n",
      "Epoch 45/100\n",
      "75/75 - 0s - loss: 0.0056 - val_loss: 0.0263 - 412ms/epoch - 5ms/step\n",
      "Epoch 46/100\n",
      "75/75 - 0s - loss: 0.0051 - val_loss: 0.0231 - 420ms/epoch - 6ms/step\n",
      "Epoch 47/100\n",
      "75/75 - 0s - loss: 0.0054 - val_loss: 0.0411 - 448ms/epoch - 6ms/step\n",
      "Epoch 48/100\n",
      "75/75 - 0s - loss: 0.0057 - val_loss: 0.0325 - 456ms/epoch - 6ms/step\n",
      "Epoch 49/100\n",
      "75/75 - 0s - loss: 0.0052 - val_loss: 0.0311 - 429ms/epoch - 6ms/step\n",
      "Epoch 50/100\n",
      "75/75 - 0s - loss: 0.0051 - val_loss: 0.0212 - 436ms/epoch - 6ms/step\n",
      "Epoch 51/100\n",
      "75/75 - 0s - loss: 0.0059 - val_loss: 0.0226 - 432ms/epoch - 6ms/step\n",
      "Epoch 52/100\n",
      "75/75 - 0s - loss: 0.0055 - val_loss: 0.0296 - 440ms/epoch - 6ms/step\n",
      "Epoch 53/100\n",
      "75/75 - 1s - loss: 0.0057 - val_loss: 0.0351 - 509ms/epoch - 7ms/step\n",
      "Epoch 54/100\n",
      "75/75 - 1s - loss: 0.0056 - val_loss: 0.0250 - 510ms/epoch - 7ms/step\n",
      "Epoch 55/100\n",
      "75/75 - 1s - loss: 0.0053 - val_loss: 0.0275 - 512ms/epoch - 7ms/step\n",
      "Epoch 56/100\n",
      "75/75 - 0s - loss: 0.0058 - val_loss: 0.0264 - 475ms/epoch - 6ms/step\n",
      "Epoch 57/100\n",
      "75/75 - 0s - loss: 0.0049 - val_loss: 0.0393 - 468ms/epoch - 6ms/step\n",
      "Epoch 58/100\n",
      "75/75 - 0s - loss: 0.0050 - val_loss: 0.0273 - 456ms/epoch - 6ms/step\n",
      "Epoch 59/100\n",
      "75/75 - 0s - loss: 0.0051 - val_loss: 0.0223 - 452ms/epoch - 6ms/step\n",
      "Epoch 60/100\n",
      "75/75 - 0s - loss: 0.0051 - val_loss: 0.0392 - 449ms/epoch - 6ms/step\n",
      "Epoch 61/100\n",
      "75/75 - 0s - loss: 0.0053 - val_loss: 0.0204 - 485ms/epoch - 6ms/step\n",
      "Epoch 62/100\n",
      "75/75 - 0s - loss: 0.0050 - val_loss: 0.0262 - 454ms/epoch - 6ms/step\n",
      "Epoch 63/100\n",
      "75/75 - 0s - loss: 0.0050 - val_loss: 0.0322 - 452ms/epoch - 6ms/step\n",
      "Epoch 64/100\n",
      "75/75 - 0s - loss: 0.0050 - val_loss: 0.0245 - 465ms/epoch - 6ms/step\n",
      "Epoch 65/100\n",
      "75/75 - 0s - loss: 0.0049 - val_loss: 0.0250 - 456ms/epoch - 6ms/step\n",
      "Epoch 66/100\n",
      "75/75 - 0s - loss: 0.0043 - val_loss: 0.0156 - 444ms/epoch - 6ms/step\n",
      "Epoch 67/100\n",
      "75/75 - 0s - loss: 0.0043 - val_loss: 0.0129 - 449ms/epoch - 6ms/step\n",
      "Epoch 68/100\n",
      "75/75 - 0s - loss: 0.0030 - val_loss: 0.0174 - 456ms/epoch - 6ms/step\n",
      "Epoch 69/100\n",
      "75/75 - 0s - loss: 0.0017 - val_loss: 0.0100 - 436ms/epoch - 6ms/step\n",
      "Epoch 70/100\n",
      "75/75 - 0s - loss: 0.0020 - val_loss: 0.0264 - 428ms/epoch - 6ms/step\n",
      "Epoch 71/100\n",
      "75/75 - 0s - loss: 0.0016 - val_loss: 0.0200 - 468ms/epoch - 6ms/step\n",
      "Epoch 72/100\n",
      "75/75 - 0s - loss: 0.0017 - val_loss: 0.0049 - 476ms/epoch - 6ms/step\n",
      "Epoch 73/100\n",
      "75/75 - 0s - loss: 0.0014 - val_loss: 0.0119 - 462ms/epoch - 6ms/step\n",
      "Epoch 74/100\n",
      "75/75 - 0s - loss: 0.0018 - val_loss: 0.0178 - 488ms/epoch - 7ms/step\n",
      "Epoch 75/100\n",
      "75/75 - 0s - loss: 0.0012 - val_loss: 0.0303 - 418ms/epoch - 6ms/step\n",
      "Epoch 76/100\n",
      "75/75 - 0s - loss: 0.0011 - val_loss: 0.0351 - 477ms/epoch - 6ms/step\n",
      "Epoch 77/100\n",
      "75/75 - 0s - loss: 9.8058e-04 - val_loss: 0.0359 - 454ms/epoch - 6ms/step\n",
      "Epoch 78/100\n",
      "75/75 - 0s - loss: 0.0012 - val_loss: 0.0207 - 481ms/epoch - 6ms/step\n",
      "Epoch 79/100\n",
      "75/75 - 0s - loss: 0.0011 - val_loss: 0.0300 - 496ms/epoch - 7ms/step\n",
      "Epoch 80/100\n",
      "75/75 - 0s - loss: 0.0011 - val_loss: 0.0257 - 430ms/epoch - 6ms/step\n",
      "Epoch 81/100\n",
      "75/75 - 0s - loss: 9.5780e-04 - val_loss: 0.0166 - 447ms/epoch - 6ms/step\n",
      "Epoch 82/100\n",
      "75/75 - 0s - loss: 0.0010 - val_loss: 0.0206 - 494ms/epoch - 7ms/step\n",
      "Epoch 83/100\n",
      "75/75 - 0s - loss: 0.0011 - val_loss: 0.0324 - 496ms/epoch - 7ms/step\n",
      "Epoch 84/100\n",
      "75/75 - 0s - loss: 0.0010 - val_loss: 0.0284 - 467ms/epoch - 6ms/step\n",
      "Epoch 85/100\n",
      "75/75 - 0s - loss: 9.9766e-04 - val_loss: 0.0176 - 484ms/epoch - 6ms/step\n",
      "Epoch 86/100\n",
      "75/75 - 0s - loss: 0.0011 - val_loss: 0.0203 - 472ms/epoch - 6ms/step\n",
      "Epoch 87/100\n",
      "75/75 - 0s - loss: 9.2235e-04 - val_loss: 0.0177 - 475ms/epoch - 6ms/step\n",
      "Epoch 88/100\n",
      "75/75 - 0s - loss: 9.2846e-04 - val_loss: 0.0295 - 483ms/epoch - 6ms/step\n",
      "Epoch 89/100\n",
      "75/75 - 0s - loss: 9.0227e-04 - val_loss: 0.0223 - 461ms/epoch - 6ms/step\n",
      "Epoch 90/100\n",
      "75/75 - 0s - loss: 0.0014 - val_loss: 0.0478 - 426ms/epoch - 6ms/step\n",
      "Epoch 91/100\n",
      "75/75 - 0s - loss: 9.8740e-04 - val_loss: 0.0291 - 451ms/epoch - 6ms/step\n",
      "Epoch 92/100\n",
      "75/75 - 0s - loss: 8.3621e-04 - val_loss: 0.0318 - 427ms/epoch - 6ms/step\n",
      "Epoch 93/100\n",
      "75/75 - 0s - loss: 9.5436e-04 - val_loss: 0.0354 - 476ms/epoch - 6ms/step\n",
      "Epoch 94/100\n",
      "75/75 - 0s - loss: 0.0010 - val_loss: 0.0233 - 488ms/epoch - 7ms/step\n",
      "Epoch 95/100\n",
      "75/75 - 0s - loss: 9.7595e-04 - val_loss: 0.0154 - 487ms/epoch - 6ms/step\n",
      "Epoch 96/100\n",
      "75/75 - 0s - loss: 8.2034e-04 - val_loss: 0.0395 - 487ms/epoch - 6ms/step\n",
      "Epoch 97/100\n",
      "75/75 - 0s - loss: 8.1944e-04 - val_loss: 0.0377 - 444ms/epoch - 6ms/step\n",
      "Epoch 98/100\n",
      "75/75 - 0s - loss: 0.0010 - val_loss: 0.0274 - 419ms/epoch - 6ms/step\n",
      "Epoch 99/100\n",
      "75/75 - 0s - loss: 7.7494e-04 - val_loss: 0.0321 - 426ms/epoch - 6ms/step\n"
     ]
    },
    {
     "name": "stdout",
     "output_type": "stream",
     "text": [
      "Epoch 100/100\n",
      "75/75 - 0s - loss: 9.3293e-04 - val_loss: 0.0228 - 437ms/epoch - 6ms/step\n"
     ]
    },
    {
     "data": {
      "text/plain": [
       "<keras.callbacks.History at 0x2931eb9cc10>"
      ]
     },
     "execution_count": 16,
     "metadata": {},
     "output_type": "execute_result"
    }
   ],
   "source": [
    "model.fit_generator(generator=train_generator, verbose=2, epochs=100, validation_data=validation_generator)"
   ]
  },
  {
   "cell_type": "code",
   "execution_count": 17,
   "id": "c90fe428",
   "metadata": {},
   "outputs": [
    {
     "name": "stdout",
     "output_type": "stream",
     "text": [
      "75/75 [==============================] - 0s 1ms/step\n",
      "29/29 [==============================] - 0s 2ms/step\n",
      "Train Score: 14.73 RMSE\n",
      "Test Score: 78.30 RMSE\n"
     ]
    }
   ],
   "source": [
    "trainPredict = model.predict(train_generator)\n",
    "testPredict = model.predict(validation_generator)\n",
    "\n",
    "trainPredict = scaler.inverse_transform(trainPredict)\n",
    "trainY_inverse = scaler.inverse_transform(train)\n",
    "testPredict = scaler.inverse_transform(testPredict)\n",
    "testY_inverse = scaler.inverse_transform(test)\n",
    "\n",
    "\n",
    "# calculate root mean squared error\n",
    "trainScore = math.sqrt(mean_squared_error(trainY_inverse[length:], trainPredict[:,0]))\n",
    "print('Train Score: %.2f RMSE' % (trainScore))\n",
    "\n",
    "testScore = math.sqrt(mean_squared_error(testY_inverse[length:], testPredict[:,0]))\n",
    "print('Test Score: %.2f RMSE' % (testScore))"
   ]
  },
  {
   "cell_type": "code",
   "execution_count": 18,
   "id": "c6fc396d",
   "metadata": {},
   "outputs": [],
   "source": [
    "# shift train predictions for plotting\n",
    "#we must shift the predictions so that they align on the x-axis with the original dataset. \n",
    "trainPredictPlot = np.empty_like(dataset)\n",
    "trainPredictPlot[:, :] = np.nan\n",
    "trainPredictPlot[length:len(trainPredict)+length, :] = trainPredict\n",
    "\n",
    "# shift test predictions for plotting\n",
    "testPredictPlot = np.empty_like(dataset)\n",
    "testPredictPlot[:, :] = np.nan\n",
    "#testPredictPlot[len(trainPredict)+(seq_size*2)-1:len(dataset)-1, :] = testPredict\n",
    "testPredictPlot[len(train)+(length)-1:len(dataset)-1, :] = testPredict"
   ]
  },
  {
   "cell_type": "code",
   "execution_count": 19,
   "id": "d3301ab7",
   "metadata": {},
   "outputs": [
    {
     "data": {
      "image/png": "[encoded data removed]",
      "text/plain": [
       "<Figure size 432x288 with 1 Axes>"
      ]
     },
     "metadata": {
      "needs_background": "light"
     },
     "output_type": "display_data"
    }
   ],
   "source": [
    "# plot baseline and predictions\n",
    "plt.plot(scaler.inverse_transform(dataset))\n",
    "plt.plot(trainPredictPlot)\n",
    "plt.plot(testPredictPlot)\n",
    "plt.show()"
   ]
  }
 ],
 "metadata": {
  "kernelspec": {
   "display_name": "Python 3 (ipykernel)",
   "language": "python",
   "name": "python3"
  },
  "language_info": {
   "codemirror_mode": {
    "name": "ipython",
    "version": 3
   },
   "file_extension": ".py",
   "mimetype": "text/x-python",
   "name": "python",
   "nbconvert_exporter": "python",
   "pygments_lexer": "ipython3",
   "version": "3.9.12"
  }
 },
 "nbformat": 4,
 "nbformat_minor": 5
}
