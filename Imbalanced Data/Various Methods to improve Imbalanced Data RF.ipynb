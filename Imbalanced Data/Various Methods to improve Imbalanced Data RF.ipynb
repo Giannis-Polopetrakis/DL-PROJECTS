{
 "cells": [
  {
   "cell_type": "code",
   "execution_count": 1,
   "id": "5b69ef5d",
   "metadata": {},
   "outputs": [],
   "source": [
    "\n",
    "import numpy as np\n",
    "import cv2\n",
    "import pandas as pd"
   ]
  },
  {
   "cell_type": "code",
   "execution_count": 2,
   "id": "f8472b97",
   "metadata": {},
   "outputs": [],
   "source": [
    "img = cv2.imread('Sandstone_Versa0180_image.tif')\n",
    "img = cv2.cvtColor(img, cv2.COLOR_BGR2GRAY)  \n",
    "\n",
    "#Save original image pixels into a data frame. This is our Feature #1.\n",
    "img2 = img.reshape(-1)\n",
    "df = pd.DataFrame()\n",
    "df['Original Image'] = img2"
   ]
  },
  {
   "cell_type": "code",
   "execution_count": 3,
   "id": "93e6aab3",
   "metadata": {},
   "outputs": [
    {
     "data": {
      "text/html": [
       "<div>\n",
       "<style scoped>\n",
       "    .dataframe tbody tr th:only-of-type {\n",
       "        vertical-align: middle;\n",
       "    }\n",
       "\n",
       "    .dataframe tbody tr th {\n",
       "        vertical-align: top;\n",
       "    }\n",
       "\n",
       "    .dataframe thead th {\n",
       "        text-align: right;\n",
       "    }\n",
       "</style>\n",
       "<table border=\"1\" class=\"dataframe\">\n",
       "  <thead>\n",
       "    <tr style=\"text-align: right;\">\n",
       "      <th></th>\n",
       "      <th>Original Image</th>\n",
       "    </tr>\n",
       "  </thead>\n",
       "  <tbody>\n",
       "    <tr>\n",
       "      <th>0</th>\n",
       "      <td>0</td>\n",
       "    </tr>\n",
       "    <tr>\n",
       "      <th>1</th>\n",
       "      <td>0</td>\n",
       "    </tr>\n",
       "    <tr>\n",
       "      <th>2</th>\n",
       "      <td>0</td>\n",
       "    </tr>\n",
       "    <tr>\n",
       "      <th>3</th>\n",
       "      <td>0</td>\n",
       "    </tr>\n",
       "    <tr>\n",
       "      <th>4</th>\n",
       "      <td>0</td>\n",
       "    </tr>\n",
       "    <tr>\n",
       "      <th>...</th>\n",
       "      <td>...</td>\n",
       "    </tr>\n",
       "    <tr>\n",
       "      <th>1019899</th>\n",
       "      <td>0</td>\n",
       "    </tr>\n",
       "    <tr>\n",
       "      <th>1019900</th>\n",
       "      <td>0</td>\n",
       "    </tr>\n",
       "    <tr>\n",
       "      <th>1019901</th>\n",
       "      <td>0</td>\n",
       "    </tr>\n",
       "    <tr>\n",
       "      <th>1019902</th>\n",
       "      <td>0</td>\n",
       "    </tr>\n",
       "    <tr>\n",
       "      <th>1019903</th>\n",
       "      <td>0</td>\n",
       "    </tr>\n",
       "  </tbody>\n",
       "</table>\n",
       "<p>1019904 rows × 1 columns</p>\n",
       "</div>"
      ],
      "text/plain": [
       "         Original Image\n",
       "0                     0\n",
       "1                     0\n",
       "2                     0\n",
       "3                     0\n",
       "4                     0\n",
       "...                 ...\n",
       "1019899               0\n",
       "1019900               0\n",
       "1019901               0\n",
       "1019902               0\n",
       "1019903               0\n",
       "\n",
       "[1019904 rows x 1 columns]"
      ]
     },
     "execution_count": 3,
     "metadata": {},
     "output_type": "execute_result"
    }
   ],
   "source": [
    "df"
   ]
  },
  {
   "cell_type": "code",
   "execution_count": 4,
   "id": "773f0f70",
   "metadata": {},
   "outputs": [
    {
     "name": "stdout",
     "output_type": "stream",
     "text": [
      "Gabor1 : theta= 0.0 : sigma= 1 : lamda= 0.0 : gamma= 0.05\n",
      "Gabor2 : theta= 0.0 : sigma= 1 : lamda= 0.0 : gamma= 0.5\n",
      "Gabor3 : theta= 0.0 : sigma= 1 : lamda= 0.7853981633974483 : gamma= 0.05\n",
      "Gabor4 : theta= 0.0 : sigma= 1 : lamda= 0.7853981633974483 : gamma= 0.5\n",
      "Gabor5 : theta= 0.0 : sigma= 1 : lamda= 1.5707963267948966 : gamma= 0.05\n",
      "Gabor6 : theta= 0.0 : sigma= 1 : lamda= 1.5707963267948966 : gamma= 0.5\n",
      "Gabor7 : theta= 0.0 : sigma= 1 : lamda= 2.356194490192345 : gamma= 0.05\n",
      "Gabor8 : theta= 0.0 : sigma= 1 : lamda= 2.356194490192345 : gamma= 0.5\n",
      "Gabor9 : theta= 0.0 : sigma= 3 : lamda= 0.0 : gamma= 0.05\n",
      "Gabor10 : theta= 0.0 : sigma= 3 : lamda= 0.0 : gamma= 0.5\n",
      "Gabor11 : theta= 0.0 : sigma= 3 : lamda= 0.7853981633974483 : gamma= 0.05\n",
      "Gabor12 : theta= 0.0 : sigma= 3 : lamda= 0.7853981633974483 : gamma= 0.5\n",
      "Gabor13 : theta= 0.0 : sigma= 3 : lamda= 1.5707963267948966 : gamma= 0.05\n",
      "Gabor14 : theta= 0.0 : sigma= 3 : lamda= 1.5707963267948966 : gamma= 0.5\n",
      "Gabor15 : theta= 0.0 : sigma= 3 : lamda= 2.356194490192345 : gamma= 0.05\n",
      "Gabor16 : theta= 0.0 : sigma= 3 : lamda= 2.356194490192345 : gamma= 0.5\n",
      "Gabor17 : theta= 0.7853981633974483 : sigma= 1 : lamda= 0.0 : gamma= 0.05\n",
      "Gabor18 : theta= 0.7853981633974483 : sigma= 1 : lamda= 0.0 : gamma= 0.5\n",
      "Gabor19 : theta= 0.7853981633974483 : sigma= 1 : lamda= 0.7853981633974483 : gamma= 0.05\n",
      "Gabor20 : theta= 0.7853981633974483 : sigma= 1 : lamda= 0.7853981633974483 : gamma= 0.5\n",
      "Gabor21 : theta= 0.7853981633974483 : sigma= 1 : lamda= 1.5707963267948966 : gamma= 0.05\n",
      "Gabor22 : theta= 0.7853981633974483 : sigma= 1 : lamda= 1.5707963267948966 : gamma= 0.5\n",
      "Gabor23 : theta= 0.7853981633974483 : sigma= 1 : lamda= 2.356194490192345 : gamma= 0.05\n",
      "Gabor24 : theta= 0.7853981633974483 : sigma= 1 : lamda= 2.356194490192345 : gamma= 0.5\n",
      "Gabor25 : theta= 0.7853981633974483 : sigma= 3 : lamda= 0.0 : gamma= 0.05\n",
      "Gabor26 : theta= 0.7853981633974483 : sigma= 3 : lamda= 0.0 : gamma= 0.5\n",
      "Gabor27 : theta= 0.7853981633974483 : sigma= 3 : lamda= 0.7853981633974483 : gamma= 0.05\n",
      "Gabor28 : theta= 0.7853981633974483 : sigma= 3 : lamda= 0.7853981633974483 : gamma= 0.5\n",
      "Gabor29 : theta= 0.7853981633974483 : sigma= 3 : lamda= 1.5707963267948966 : gamma= 0.05\n",
      "Gabor30 : theta= 0.7853981633974483 : sigma= 3 : lamda= 1.5707963267948966 : gamma= 0.5\n",
      "Gabor31 : theta= 0.7853981633974483 : sigma= 3 : lamda= 2.356194490192345 : gamma= 0.05\n",
      "Gabor32 : theta= 0.7853981633974483 : sigma= 3 : lamda= 2.356194490192345 : gamma= 0.5\n"
     ]
    }
   ],
   "source": [
    "#Generate Gabor features\n",
    "num = 1  #To count numbers up in order to give Gabor features a lable in the data frame\n",
    "kernels = []\n",
    "for theta in range(2):   #Define number of thetas\n",
    "    theta = theta / 4. * np.pi\n",
    "    for sigma in (1, 3):  #Sigma with 1 and 3\n",
    "        for lamda in np.arange(0, np.pi, np.pi / 4):   #Range of wavelengths\n",
    "            for gamma in (0.05, 0.5):   #Gamma values of 0.05 and 0.5\n",
    "            \n",
    "                \n",
    "                gabor_label = 'Gabor' + str(num)  #Label Gabor columns as Gabor1, Gabor2, etc.\n",
    "#                print(gabor_label)\n",
    "                ksize=9\n",
    "                kernel = cv2.getGaborKernel((ksize, ksize), sigma, theta, lamda, gamma, 0, ktype=cv2.CV_32F)    \n",
    "                kernels.append(kernel)\n",
    "                #Now filter the image and add values to a new column \n",
    "                fimg = cv2.filter2D(img2, cv2.CV_8UC3, kernel)\n",
    "                filtered_img = fimg.reshape(-1)\n",
    "                df[gabor_label] = filtered_img  #Labels columns as Gabor1, Gabor2, etc.\n",
    "                print(gabor_label, ': theta=', theta, ': sigma=', sigma, ': lamda=', lamda, ': gamma=', gamma)\n",
    "                num += 1  #Increment for gabor column label"
   ]
  },
  {
   "cell_type": "code",
   "execution_count": 5,
   "id": "d6a1fd26",
   "metadata": {},
   "outputs": [
    {
     "data": {
      "text/html": [
       "<div>\n",
       "<style scoped>\n",
       "    .dataframe tbody tr th:only-of-type {\n",
       "        vertical-align: middle;\n",
       "    }\n",
       "\n",
       "    .dataframe tbody tr th {\n",
       "        vertical-align: top;\n",
       "    }\n",
       "\n",
       "    .dataframe thead th {\n",
       "        text-align: right;\n",
       "    }\n",
       "</style>\n",
       "<table border=\"1\" class=\"dataframe\">\n",
       "  <thead>\n",
       "    <tr style=\"text-align: right;\">\n",
       "      <th></th>\n",
       "      <th>Original Image</th>\n",
       "      <th>Gabor1</th>\n",
       "      <th>Gabor2</th>\n",
       "      <th>Gabor3</th>\n",
       "      <th>Gabor4</th>\n",
       "      <th>Gabor5</th>\n",
       "      <th>Gabor6</th>\n",
       "      <th>Gabor7</th>\n",
       "      <th>Gabor8</th>\n",
       "      <th>Gabor9</th>\n",
       "      <th>...</th>\n",
       "      <th>Gabor23</th>\n",
       "      <th>Gabor24</th>\n",
       "      <th>Gabor25</th>\n",
       "      <th>Gabor26</th>\n",
       "      <th>Gabor27</th>\n",
       "      <th>Gabor28</th>\n",
       "      <th>Gabor29</th>\n",
       "      <th>Gabor30</th>\n",
       "      <th>Gabor31</th>\n",
       "      <th>Gabor32</th>\n",
       "    </tr>\n",
       "  </thead>\n",
       "  <tbody>\n",
       "    <tr>\n",
       "      <th>0</th>\n",
       "      <td>0</td>\n",
       "      <td>0</td>\n",
       "      <td>0</td>\n",
       "      <td>0</td>\n",
       "      <td>0</td>\n",
       "      <td>0</td>\n",
       "      <td>0</td>\n",
       "      <td>0</td>\n",
       "      <td>0</td>\n",
       "      <td>0</td>\n",
       "      <td>...</td>\n",
       "      <td>0</td>\n",
       "      <td>0</td>\n",
       "      <td>0</td>\n",
       "      <td>0</td>\n",
       "      <td>0</td>\n",
       "      <td>0</td>\n",
       "      <td>0</td>\n",
       "      <td>0</td>\n",
       "      <td>0</td>\n",
       "      <td>0</td>\n",
       "    </tr>\n",
       "    <tr>\n",
       "      <th>1</th>\n",
       "      <td>0</td>\n",
       "      <td>0</td>\n",
       "      <td>0</td>\n",
       "      <td>0</td>\n",
       "      <td>0</td>\n",
       "      <td>0</td>\n",
       "      <td>0</td>\n",
       "      <td>0</td>\n",
       "      <td>0</td>\n",
       "      <td>0</td>\n",
       "      <td>...</td>\n",
       "      <td>0</td>\n",
       "      <td>0</td>\n",
       "      <td>0</td>\n",
       "      <td>0</td>\n",
       "      <td>0</td>\n",
       "      <td>0</td>\n",
       "      <td>0</td>\n",
       "      <td>0</td>\n",
       "      <td>0</td>\n",
       "      <td>0</td>\n",
       "    </tr>\n",
       "    <tr>\n",
       "      <th>2</th>\n",
       "      <td>0</td>\n",
       "      <td>0</td>\n",
       "      <td>0</td>\n",
       "      <td>0</td>\n",
       "      <td>0</td>\n",
       "      <td>0</td>\n",
       "      <td>0</td>\n",
       "      <td>0</td>\n",
       "      <td>0</td>\n",
       "      <td>0</td>\n",
       "      <td>...</td>\n",
       "      <td>0</td>\n",
       "      <td>0</td>\n",
       "      <td>0</td>\n",
       "      <td>0</td>\n",
       "      <td>0</td>\n",
       "      <td>0</td>\n",
       "      <td>0</td>\n",
       "      <td>0</td>\n",
       "      <td>0</td>\n",
       "      <td>0</td>\n",
       "    </tr>\n",
       "    <tr>\n",
       "      <th>3</th>\n",
       "      <td>0</td>\n",
       "      <td>0</td>\n",
       "      <td>0</td>\n",
       "      <td>0</td>\n",
       "      <td>0</td>\n",
       "      <td>0</td>\n",
       "      <td>0</td>\n",
       "      <td>0</td>\n",
       "      <td>0</td>\n",
       "      <td>0</td>\n",
       "      <td>...</td>\n",
       "      <td>0</td>\n",
       "      <td>0</td>\n",
       "      <td>0</td>\n",
       "      <td>0</td>\n",
       "      <td>0</td>\n",
       "      <td>0</td>\n",
       "      <td>0</td>\n",
       "      <td>0</td>\n",
       "      <td>0</td>\n",
       "      <td>0</td>\n",
       "    </tr>\n",
       "    <tr>\n",
       "      <th>4</th>\n",
       "      <td>0</td>\n",
       "      <td>0</td>\n",
       "      <td>0</td>\n",
       "      <td>0</td>\n",
       "      <td>0</td>\n",
       "      <td>0</td>\n",
       "      <td>0</td>\n",
       "      <td>0</td>\n",
       "      <td>0</td>\n",
       "      <td>0</td>\n",
       "      <td>...</td>\n",
       "      <td>0</td>\n",
       "      <td>0</td>\n",
       "      <td>0</td>\n",
       "      <td>0</td>\n",
       "      <td>0</td>\n",
       "      <td>0</td>\n",
       "      <td>0</td>\n",
       "      <td>0</td>\n",
       "      <td>0</td>\n",
       "      <td>0</td>\n",
       "    </tr>\n",
       "    <tr>\n",
       "      <th>...</th>\n",
       "      <td>...</td>\n",
       "      <td>...</td>\n",
       "      <td>...</td>\n",
       "      <td>...</td>\n",
       "      <td>...</td>\n",
       "      <td>...</td>\n",
       "      <td>...</td>\n",
       "      <td>...</td>\n",
       "      <td>...</td>\n",
       "      <td>...</td>\n",
       "      <td>...</td>\n",
       "      <td>...</td>\n",
       "      <td>...</td>\n",
       "      <td>...</td>\n",
       "      <td>...</td>\n",
       "      <td>...</td>\n",
       "      <td>...</td>\n",
       "      <td>...</td>\n",
       "      <td>...</td>\n",
       "      <td>...</td>\n",
       "      <td>...</td>\n",
       "    </tr>\n",
       "    <tr>\n",
       "      <th>1019899</th>\n",
       "      <td>0</td>\n",
       "      <td>0</td>\n",
       "      <td>0</td>\n",
       "      <td>0</td>\n",
       "      <td>0</td>\n",
       "      <td>0</td>\n",
       "      <td>0</td>\n",
       "      <td>0</td>\n",
       "      <td>0</td>\n",
       "      <td>0</td>\n",
       "      <td>...</td>\n",
       "      <td>0</td>\n",
       "      <td>0</td>\n",
       "      <td>0</td>\n",
       "      <td>0</td>\n",
       "      <td>0</td>\n",
       "      <td>0</td>\n",
       "      <td>0</td>\n",
       "      <td>0</td>\n",
       "      <td>0</td>\n",
       "      <td>0</td>\n",
       "    </tr>\n",
       "    <tr>\n",
       "      <th>1019900</th>\n",
       "      <td>0</td>\n",
       "      <td>0</td>\n",
       "      <td>0</td>\n",
       "      <td>0</td>\n",
       "      <td>0</td>\n",
       "      <td>0</td>\n",
       "      <td>0</td>\n",
       "      <td>0</td>\n",
       "      <td>0</td>\n",
       "      <td>0</td>\n",
       "      <td>...</td>\n",
       "      <td>0</td>\n",
       "      <td>0</td>\n",
       "      <td>0</td>\n",
       "      <td>0</td>\n",
       "      <td>0</td>\n",
       "      <td>0</td>\n",
       "      <td>0</td>\n",
       "      <td>0</td>\n",
       "      <td>0</td>\n",
       "      <td>0</td>\n",
       "    </tr>\n",
       "    <tr>\n",
       "      <th>1019901</th>\n",
       "      <td>0</td>\n",
       "      <td>0</td>\n",
       "      <td>0</td>\n",
       "      <td>0</td>\n",
       "      <td>0</td>\n",
       "      <td>0</td>\n",
       "      <td>0</td>\n",
       "      <td>0</td>\n",
       "      <td>0</td>\n",
       "      <td>0</td>\n",
       "      <td>...</td>\n",
       "      <td>0</td>\n",
       "      <td>0</td>\n",
       "      <td>0</td>\n",
       "      <td>0</td>\n",
       "      <td>0</td>\n",
       "      <td>0</td>\n",
       "      <td>0</td>\n",
       "      <td>0</td>\n",
       "      <td>0</td>\n",
       "      <td>0</td>\n",
       "    </tr>\n",
       "    <tr>\n",
       "      <th>1019902</th>\n",
       "      <td>0</td>\n",
       "      <td>0</td>\n",
       "      <td>0</td>\n",
       "      <td>0</td>\n",
       "      <td>0</td>\n",
       "      <td>0</td>\n",
       "      <td>0</td>\n",
       "      <td>0</td>\n",
       "      <td>0</td>\n",
       "      <td>0</td>\n",
       "      <td>...</td>\n",
       "      <td>0</td>\n",
       "      <td>0</td>\n",
       "      <td>0</td>\n",
       "      <td>0</td>\n",
       "      <td>0</td>\n",
       "      <td>0</td>\n",
       "      <td>0</td>\n",
       "      <td>0</td>\n",
       "      <td>0</td>\n",
       "      <td>0</td>\n",
       "    </tr>\n",
       "    <tr>\n",
       "      <th>1019903</th>\n",
       "      <td>0</td>\n",
       "      <td>0</td>\n",
       "      <td>0</td>\n",
       "      <td>0</td>\n",
       "      <td>0</td>\n",
       "      <td>0</td>\n",
       "      <td>0</td>\n",
       "      <td>0</td>\n",
       "      <td>0</td>\n",
       "      <td>0</td>\n",
       "      <td>...</td>\n",
       "      <td>0</td>\n",
       "      <td>0</td>\n",
       "      <td>0</td>\n",
       "      <td>0</td>\n",
       "      <td>0</td>\n",
       "      <td>0</td>\n",
       "      <td>0</td>\n",
       "      <td>0</td>\n",
       "      <td>0</td>\n",
       "      <td>0</td>\n",
       "    </tr>\n",
       "  </tbody>\n",
       "</table>\n",
       "<p>1019904 rows × 33 columns</p>\n",
       "</div>"
      ],
      "text/plain": [
       "         Original Image  Gabor1  Gabor2  Gabor3  Gabor4  Gabor5  Gabor6  \\\n",
       "0                     0       0       0       0       0       0       0   \n",
       "1                     0       0       0       0       0       0       0   \n",
       "2                     0       0       0       0       0       0       0   \n",
       "3                     0       0       0       0       0       0       0   \n",
       "4                     0       0       0       0       0       0       0   \n",
       "...                 ...     ...     ...     ...     ...     ...     ...   \n",
       "1019899               0       0       0       0       0       0       0   \n",
       "1019900               0       0       0       0       0       0       0   \n",
       "1019901               0       0       0       0       0       0       0   \n",
       "1019902               0       0       0       0       0       0       0   \n",
       "1019903               0       0       0       0       0       0       0   \n",
       "\n",
       "         Gabor7  Gabor8  Gabor9  ...  Gabor23  Gabor24  Gabor25  Gabor26  \\\n",
       "0             0       0       0  ...        0        0        0        0   \n",
       "1             0       0       0  ...        0        0        0        0   \n",
       "2             0       0       0  ...        0        0        0        0   \n",
       "3             0       0       0  ...        0        0        0        0   \n",
       "4             0       0       0  ...        0        0        0        0   \n",
       "...         ...     ...     ...  ...      ...      ...      ...      ...   \n",
       "1019899       0       0       0  ...        0        0        0        0   \n",
       "1019900       0       0       0  ...        0        0        0        0   \n",
       "1019901       0       0       0  ...        0        0        0        0   \n",
       "1019902       0       0       0  ...        0        0        0        0   \n",
       "1019903       0       0       0  ...        0        0        0        0   \n",
       "\n",
       "         Gabor27  Gabor28  Gabor29  Gabor30  Gabor31  Gabor32  \n",
       "0              0        0        0        0        0        0  \n",
       "1              0        0        0        0        0        0  \n",
       "2              0        0        0        0        0        0  \n",
       "3              0        0        0        0        0        0  \n",
       "4              0        0        0        0        0        0  \n",
       "...          ...      ...      ...      ...      ...      ...  \n",
       "1019899        0        0        0        0        0        0  \n",
       "1019900        0        0        0        0        0        0  \n",
       "1019901        0        0        0        0        0        0  \n",
       "1019902        0        0        0        0        0        0  \n",
       "1019903        0        0        0        0        0        0  \n",
       "\n",
       "[1019904 rows x 33 columns]"
      ]
     },
     "execution_count": 5,
     "metadata": {},
     "output_type": "execute_result"
    }
   ],
   "source": [
    "df"
   ]
  },
  {
   "cell_type": "code",
   "execution_count": 6,
   "id": "6445c0c5",
   "metadata": {},
   "outputs": [
    {
     "name": "stdout",
     "output_type": "stream",
     "text": [
      "   Original Image  Gabor1  Gabor2  Gabor3  Gabor4  Gabor5  Gabor6  Gabor7  \\\n",
      "0               0       0       0       0       0       0       0       0   \n",
      "1               0       0       0       0       0       0       0       0   \n",
      "2               0       0       0       0       0       0       0       0   \n",
      "3               0       0       0       0       0       0       0       0   \n",
      "4               0       0       0       0       0       0       0       0   \n",
      "\n",
      "   Gabor8  Gabor9  ...  Gabor24  Gabor25  Gabor26  Gabor27  Gabor28  Gabor29  \\\n",
      "0       0       0  ...        0        0        0        0        0        0   \n",
      "1       0       0  ...        0        0        0        0        0        0   \n",
      "2       0       0  ...        0        0        0        0        0        0   \n",
      "3       0       0  ...        0        0        0        0        0        0   \n",
      "4       0       0  ...        0        0        0        0        0        0   \n",
      "\n",
      "   Gabor30  Gabor31  Gabor32  Labels  \n",
      "0        0        0        0      33  \n",
      "1        0        0        0      33  \n",
      "2        0        0        0      33  \n",
      "3        0        0        0      33  \n",
      "4        0        0        0      33  \n",
      "\n",
      "[5 rows x 34 columns]\n"
     ]
    }
   ],
   "source": [
    "#Now, add a column in the data frame for the Labels\n",
    "#For this, we need to import the labeled image\n",
    "labeled_img = cv2.imread('Sandstone_Versa0180_mask.png')\n",
    "#Remember that you can load an image with partial labels \n",
    "#But, drop the rows with unlabeled data\n",
    "\n",
    "labeled_img = cv2.cvtColor(labeled_img, cv2.COLOR_BGR2GRAY)\n",
    "labeled_img1 = labeled_img.reshape(-1)\n",
    "df['Labels'] = labeled_img1\n",
    "\n",
    "print(df.head())"
   ]
  },
  {
   "cell_type": "code",
   "execution_count": 7,
   "id": "7aefa0a2",
   "metadata": {},
   "outputs": [
    {
     "name": "stdout",
     "output_type": "stream",
     "text": [
      "[ 33 201 231  65]\n"
     ]
    }
   ],
   "source": [
    "print(df.Labels.unique())"
   ]
  },
  {
   "cell_type": "code",
   "execution_count": 8,
   "id": "8c5a37b9",
   "metadata": {},
   "outputs": [
    {
     "name": "stdout",
     "output_type": "stream",
     "text": [
      "33     491532\n",
      "231    439024\n",
      "201     72927\n",
      "65      16421\n",
      "Name: Labels, dtype: int64\n"
     ]
    }
   ],
   "source": [
    "print(df['Labels'].value_counts())"
   ]
  },
  {
   "cell_type": "code",
   "execution_count": 9,
   "id": "5d4941c9",
   "metadata": {},
   "outputs": [],
   "source": [
    "#Define the dependent variable that needs to be predicted (labels)\n",
    "Y = df[\"Labels\"].values\n",
    "\n",
    "#Define the independent variables\n",
    "X = df.drop(labels = [\"Labels\"], axis=1) "
   ]
  },
  {
   "cell_type": "code",
   "execution_count": 13,
   "id": "0591f418",
   "metadata": {},
   "outputs": [],
   "source": [
    "from sklearn.model_selection import train_test_split\n",
    "X_train, X_test, y_train, y_test = train_test_split(X, Y, test_size=0.4, random_state=42)"
   ]
  },
  {
   "cell_type": "code",
   "execution_count": 14,
   "id": "fdc7cea9",
   "metadata": {},
   "outputs": [],
   "source": [
    "#RANDOM FOREST\n",
    "from sklearn.ensemble import RandomForestClassifier\n",
    "model_RF = RandomForestClassifier(n_estimators = 10, random_state = 42)\n",
    "\n",
    "# Train the model on training data\n",
    "model_RF.fit(X_train, y_train)\n",
    "\n",
    "#Test prediction on testing data. \n",
    "prediction_test_RF = model_RF.predict(X_test)"
   ]
  },
  {
   "cell_type": "code",
   "execution_count": 15,
   "id": "dcd24e86",
   "metadata": {},
   "outputs": [
    {
     "name": "stdout",
     "output_type": "stream",
     "text": [
      "********* METRICS FOR IMBALANCED DATA *********\n",
      "Accuracy =  0.94734558610851\n"
     ]
    }
   ],
   "source": [
    "#ACCURACY METRICS\n",
    "print(\"********* METRICS FOR IMBALANCED DATA *********\")\n",
    "#Let us check the accuracy on test data\n",
    "from sklearn import metrics\n",
    "print (\"Accuracy = \", metrics.accuracy_score(y_test, prediction_test_RF))"
   ]
  },
  {
   "cell_type": "code",
   "execution_count": 16,
   "id": "7c40f6bf",
   "metadata": {},
   "outputs": [
    {
     "name": "stdout",
     "output_type": "stream",
     "text": [
      "[ 33  65 201 231] [196813   6352  27705 177092]\n"
     ]
    }
   ],
   "source": [
    "(unique, counts) = np.unique(prediction_test_RF, return_counts=True)\n",
    "print(unique, counts)"
   ]
  },
  {
   "cell_type": "code",
   "execution_count": 17,
   "id": "10d4f233",
   "metadata": {},
   "outputs": [
    {
     "name": "stdout",
     "output_type": "stream",
     "text": [
      "[[192392      0   4038    226]\n",
      " [     0   6108      2    439]\n",
      " [  4246      4  18214   6660]\n",
      " [   175    240   5451 169767]]\n"
     ]
    }
   ],
   "source": [
    "from sklearn.metrics import confusion_matrix\n",
    "cm = confusion_matrix(y_test, prediction_test_RF)\n",
    "print(cm)"
   ]
  },
  {
   "cell_type": "code",
   "execution_count": 18,
   "id": "7133112b",
   "metadata": {},
   "outputs": [
    {
     "name": "stdout",
     "output_type": "stream",
     "text": [
      "Pixel 33 accuracy =  0.9775370529385762\n",
      "Pixel 65 accuracy =  0.9615869017632241\n",
      "Pixel 201 accuracy =  0.6574264573181736\n",
      "Pixel 231 accuracy =  0.9586373184559438\n"
     ]
    }
   ],
   "source": [
    "#Print individual accuracy values for each class, based on the confusion matrix\n",
    "print(\"Pixel 33 accuracy = \", cm[0,0] / (cm[0,0]+cm[1,0]+cm[2,0]+cm[3,0]))\n",
    "print(\"Pixel 65 accuracy = \",   cm[1,1] / (cm[0,1]+cm[1,1]+cm[2,1]+cm[3,1]))\n",
    "print(\"Pixel 201 accuracy = \",   cm[2,2] / (cm[0,2]+cm[1,2]+cm[2,2]+cm[3,2]))\n",
    "print(\"Pixel 231 accuracy = \",   cm[3,3] / (cm[0,3]+cm[1,3]+cm[2,3]+cm[3,3]))"
   ]
  },
  {
   "cell_type": "code",
   "execution_count": 19,
   "id": "b1353efa",
   "metadata": {},
   "outputs": [],
   "source": [
    "from sklearn.metrics import roc_auc_score"
   ]
  },
  {
   "cell_type": "code",
   "execution_count": 20,
   "id": "9f18ecbc",
   "metadata": {},
   "outputs": [
    {
     "name": "stdout",
     "output_type": "stream",
     "text": [
      "ROC_AUC score for imbalanced data is:\n",
      "0.973691632822041\n"
     ]
    }
   ],
   "source": [
    "prob_y_test = model_RF.predict_proba(X_test)\n",
    "print(\"ROC_AUC score for imbalanced data is:\")\n",
    "print(roc_auc_score(y_test, prob_y_test, multi_class='ovr', labels=[33, 65, 201, 231]))"
   ]
  },
  {
   "cell_type": "code",
   "execution_count": 21,
   "id": "44b675a3",
   "metadata": {},
   "outputs": [],
   "source": [
    "#############################################################################\n",
    "# Handling Imbalanced data\n",
    "###########################################"
   ]
  },
  {
   "cell_type": "code",
   "execution_count": 22,
   "id": "4111c09f",
   "metadata": {},
   "outputs": [
    {
     "name": "stdout",
     "output_type": "stream",
     "text": [
      "33     491532\n",
      "231    439024\n",
      "201     72927\n",
      "65      16421\n",
      "Name: Labels, dtype: int64\n"
     ]
    }
   ],
   "source": [
    "#Up-sample minority class\n",
    "from sklearn.utils import resample\n",
    "print(df['Labels'].value_counts())"
   ]
  },
  {
   "cell_type": "code",
   "execution_count": 23,
   "id": "e60f14a0",
   "metadata": {},
   "outputs": [],
   "source": [
    "#Separate majority and minority classes\n",
    "df_important = df[df['Labels'] == 201]\n",
    "df_majority = df.loc[df['Labels'].isin([33, 231])]\n",
    "df_minority = df[df['Labels'] == 65]"
   ]
  },
  {
   "cell_type": "code",
   "execution_count": 24,
   "id": "ba074478",
   "metadata": {},
   "outputs": [],
   "source": [
    "# Upsample minority class and other classes separately\n",
    "# If not, random samples from combined classes will be duplicated and we run into\n",
    "#same issue as before, undersampled remians undersampled.\n",
    "df_minority_upsampled = resample(df_minority, \n",
    "                                 replace=True,     # sample with replacement\n",
    "                                 n_samples=400000,    # to match average class\n",
    "                                 random_state=42) # reproducible results\n",
    " \n",
    "df_important_upsampled = resample(df_important, \n",
    "                                 replace=True,     # sample with replacement\n",
    "                                 n_samples=400000,    # to match average class\n",
    "                                 random_state=42) # reproducible results\n"
   ]
  },
  {
   "cell_type": "code",
   "execution_count": 25,
   "id": "4ef322cc",
   "metadata": {},
   "outputs": [
    {
     "name": "stdout",
     "output_type": "stream",
     "text": [
      "33     491532\n",
      "231    439024\n",
      "201    400000\n",
      "65     400000\n",
      "Name: Labels, dtype: int64\n"
     ]
    }
   ],
   "source": [
    "# Combine majority class with upsampled minority class\n",
    "df_upsampled = pd.concat([df_majority, df_important_upsampled, df_minority_upsampled])\n",
    "print(df_upsampled['Labels'].value_counts())\n",
    "\n",
    "Y_upsampled = df_upsampled[\"Labels\"].values\n",
    "\n",
    "#Define the independent variables\n",
    "X_upsampled = df_upsampled.drop(labels = [\"Labels\"], axis=1)"
   ]
  },
  {
   "cell_type": "code",
   "execution_count": 26,
   "id": "206d268a",
   "metadata": {},
   "outputs": [],
   "source": [
    "X_train_upsampled, X_test_upsampled, y_train_upsampled, y_test_upsampled = train_test_split(X_upsampled, \n",
    "                                                                                            Y_upsampled, \n",
    "                                                                                            test_size=0.2, \n",
    "                                                                                            random_state=20)\n",
    "\n",
    "#Train again with new upsamples data\n",
    "model_RF_upsampled = RandomForestClassifier(n_estimators = 10, random_state = 42)\n",
    "\n",
    "# Train the model on training data\n",
    "model_RF_upsampled.fit(X_train_upsampled, y_train_upsampled)\n",
    "prediction_test_RF_upsampled = model_RF_upsampled.predict(X_test_upsampled)"
   ]
  },
  {
   "cell_type": "code",
   "execution_count": 27,
   "id": "636f2de5",
   "metadata": {},
   "outputs": [
    {
     "name": "stdout",
     "output_type": "stream",
     "text": [
      "********* METRICS FOR BALANCED DATA USING UPSAMPLING *********\n",
      "Accuracy =  0.9772732525887574\n",
      "[[95284     1  2798    81]\n",
      " [    0 79690     0     0]\n",
      " [  145     0 79953   212]\n",
      " [   45   210  4374 83319]]\n",
      "Pixel 33 accuracy =  0.9980099294048641\n",
      "Pixel 65 accuracy =  0.9973592320496615\n",
      "Pixel 201 accuracy =  0.9176814921090387\n",
      "Pixel 231 accuracy =  0.9964957183179448\n",
      "ROC_AUC score for balanced data using upsampling is:\n",
      "0.9889651049934216\n"
     ]
    }
   ],
   "source": [
    "print(\"********* METRICS FOR BALANCED DATA USING UPSAMPLING *********\")\n",
    "\n",
    "print (\"Accuracy = \", metrics.accuracy_score(y_test_upsampled, prediction_test_RF_upsampled))\n",
    "\n",
    "cm_upsampled = confusion_matrix(y_test_upsampled, prediction_test_RF_upsampled)\n",
    "print(cm_upsampled)\n",
    "\n",
    "print(\"Pixel 33 accuracy = \", cm_upsampled[0,0] / (cm_upsampled[0,0]+cm_upsampled[1,0]+cm_upsampled[2,0]+cm_upsampled[3,0]))\n",
    "print(\"Pixel 65 accuracy = \",  cm_upsampled[1,1] / (cm_upsampled[0,1]+cm_upsampled[1,1]+cm_upsampled[2,1]+cm_upsampled[3,1]))\n",
    "print(\"Pixel 201 accuracy = \",  cm_upsampled[2,2] / (cm_upsampled[0,2]+cm_upsampled[1,2]+cm_upsampled[2,2]+cm_upsampled[3,2]))\n",
    "print(\"Pixel 231 accuracy = \",  cm_upsampled[3,3] / (cm_upsampled[0,3]+cm_upsampled[1,3]+cm_upsampled[2,3]+cm_upsampled[3,3]))\n",
    "\n",
    "prob_y_test_upsampled = model_RF.predict_proba(X_test_upsampled)\n",
    "\n",
    "print(\"ROC_AUC score for balanced data using upsampling is:\")\n",
    "print(roc_auc_score(y_test_upsampled, prob_y_test_upsampled, multi_class='ovr', labels=[33, 65, 201, 231]))"
   ]
  },
  {
   "cell_type": "code",
   "execution_count": 29,
   "id": "224a4a69",
   "metadata": {},
   "outputs": [
    {
     "name": "stdout",
     "output_type": "stream",
     "text": [
      "0.9730423977476995\n"
     ]
    }
   ],
   "source": [
    "#Technique 5. Penalize learning algorithms that increase cost of classification mistakes\n",
    "#on minority classes. Add class_weight='balanced'.\n",
    "#ALso works for others like SVM. \n",
    "\n",
    "# Instantiate model with n number of decision trees\n",
    "# class_weight = 'balanced'  --> classes are automatically weighted \n",
    "#inversely proportional to how frequently they appear in the data\n",
    "model_penalized = RandomForestClassifier(n_estimators = 10, \n",
    "                               class_weight='balanced', # penalize\n",
    "                               random_state = 42)\n",
    "# Train the model on training data\n",
    "model_penalized.fit(X_train, y_train)\n",
    "\n",
    "\n",
    "prob_y_test_penalized = model_penalized.predict_proba(X_test)\n",
    "\n",
    "print(roc_auc_score(y_test, prob_y_test_penalized, multi_class='ovr', labels=[33, 65, 201, 231]))"
   ]
  },
  {
   "cell_type": "code",
   "execution_count": null,
   "id": "31ec759f",
   "metadata": {},
   "outputs": [],
   "source": []
  }
 ],
 "metadata": {
  "kernelspec": {
   "display_name": "Python 3 (ipykernel)",
   "language": "python",
   "name": "python3"
  },
  "language_info": {
   "codemirror_mode": {
    "name": "ipython",
    "version": 3
   },
   "file_extension": ".py",
   "mimetype": "text/x-python",
   "name": "python",
   "nbconvert_exporter": "python",
   "pygments_lexer": "ipython3",
   "version": "3.9.12"
  }
 },
 "nbformat": 4,
 "nbformat_minor": 5
}
