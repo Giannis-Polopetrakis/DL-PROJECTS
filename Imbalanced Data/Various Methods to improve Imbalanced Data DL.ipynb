{
 "cells": [
  {
   "cell_type": "code",
   "execution_count": 1,
   "id": "32452b47",
   "metadata": {},
   "outputs": [],
   "source": [
    "import numpy as np\n",
    "import cv2\n",
    "import pandas as pd"
   ]
  },
  {
   "cell_type": "code",
   "execution_count": 3,
   "id": "0de860d9",
   "metadata": {},
   "outputs": [],
   "source": [
    "img = cv2.imread('Sandstone_Versa0180_image.tif')\n",
    "img = cv2.cvtColor(img, cv2.COLOR_BGR2GRAY)  \n",
    "\n",
    "#Save original image pixels into a data frame. This is our Feature #1.\n",
    "img2 = img.reshape(-1)\n",
    "df = pd.DataFrame()\n",
    "df['Original Image'] = img2"
   ]
  },
  {
   "cell_type": "code",
   "execution_count": 4,
   "id": "c9a37db1",
   "metadata": {},
   "outputs": [
    {
     "data": {
      "text/html": [
       "<div>\n",
       "<style scoped>\n",
       "    .dataframe tbody tr th:only-of-type {\n",
       "        vertical-align: middle;\n",
       "    }\n",
       "\n",
       "    .dataframe tbody tr th {\n",
       "        vertical-align: top;\n",
       "    }\n",
       "\n",
       "    .dataframe thead th {\n",
       "        text-align: right;\n",
       "    }\n",
       "</style>\n",
       "<table border=\"1\" class=\"dataframe\">\n",
       "  <thead>\n",
       "    <tr style=\"text-align: right;\">\n",
       "      <th></th>\n",
       "      <th>Original Image</th>\n",
       "    </tr>\n",
       "  </thead>\n",
       "  <tbody>\n",
       "    <tr>\n",
       "      <th>0</th>\n",
       "      <td>0</td>\n",
       "    </tr>\n",
       "    <tr>\n",
       "      <th>1</th>\n",
       "      <td>0</td>\n",
       "    </tr>\n",
       "    <tr>\n",
       "      <th>2</th>\n",
       "      <td>0</td>\n",
       "    </tr>\n",
       "    <tr>\n",
       "      <th>3</th>\n",
       "      <td>0</td>\n",
       "    </tr>\n",
       "    <tr>\n",
       "      <th>4</th>\n",
       "      <td>0</td>\n",
       "    </tr>\n",
       "    <tr>\n",
       "      <th>...</th>\n",
       "      <td>...</td>\n",
       "    </tr>\n",
       "    <tr>\n",
       "      <th>1019899</th>\n",
       "      <td>0</td>\n",
       "    </tr>\n",
       "    <tr>\n",
       "      <th>1019900</th>\n",
       "      <td>0</td>\n",
       "    </tr>\n",
       "    <tr>\n",
       "      <th>1019901</th>\n",
       "      <td>0</td>\n",
       "    </tr>\n",
       "    <tr>\n",
       "      <th>1019902</th>\n",
       "      <td>0</td>\n",
       "    </tr>\n",
       "    <tr>\n",
       "      <th>1019903</th>\n",
       "      <td>0</td>\n",
       "    </tr>\n",
       "  </tbody>\n",
       "</table>\n",
       "<p>1019904 rows × 1 columns</p>\n",
       "</div>"
      ],
      "text/plain": [
       "         Original Image\n",
       "0                     0\n",
       "1                     0\n",
       "2                     0\n",
       "3                     0\n",
       "4                     0\n",
       "...                 ...\n",
       "1019899               0\n",
       "1019900               0\n",
       "1019901               0\n",
       "1019902               0\n",
       "1019903               0\n",
       "\n",
       "[1019904 rows x 1 columns]"
      ]
     },
     "execution_count": 4,
     "metadata": {},
     "output_type": "execute_result"
    }
   ],
   "source": [
    "df"
   ]
  },
  {
   "cell_type": "code",
   "execution_count": 5,
   "id": "33cc5291",
   "metadata": {},
   "outputs": [
    {
     "name": "stdout",
     "output_type": "stream",
     "text": [
      "Gabor1 : theta= 0.0 : sigma= 1 : lamda= 0.0 : gamma= 0.05\n",
      "Gabor2 : theta= 0.0 : sigma= 1 : lamda= 0.0 : gamma= 0.5\n",
      "Gabor3 : theta= 0.0 : sigma= 1 : lamda= 0.7853981633974483 : gamma= 0.05\n",
      "Gabor4 : theta= 0.0 : sigma= 1 : lamda= 0.7853981633974483 : gamma= 0.5\n",
      "Gabor5 : theta= 0.0 : sigma= 1 : lamda= 1.5707963267948966 : gamma= 0.05\n",
      "Gabor6 : theta= 0.0 : sigma= 1 : lamda= 1.5707963267948966 : gamma= 0.5\n",
      "Gabor7 : theta= 0.0 : sigma= 1 : lamda= 2.356194490192345 : gamma= 0.05\n",
      "Gabor8 : theta= 0.0 : sigma= 1 : lamda= 2.356194490192345 : gamma= 0.5\n",
      "Gabor9 : theta= 0.0 : sigma= 3 : lamda= 0.0 : gamma= 0.05\n",
      "Gabor10 : theta= 0.0 : sigma= 3 : lamda= 0.0 : gamma= 0.5\n",
      "Gabor11 : theta= 0.0 : sigma= 3 : lamda= 0.7853981633974483 : gamma= 0.05\n",
      "Gabor12 : theta= 0.0 : sigma= 3 : lamda= 0.7853981633974483 : gamma= 0.5\n",
      "Gabor13 : theta= 0.0 : sigma= 3 : lamda= 1.5707963267948966 : gamma= 0.05\n",
      "Gabor14 : theta= 0.0 : sigma= 3 : lamda= 1.5707963267948966 : gamma= 0.5\n",
      "Gabor15 : theta= 0.0 : sigma= 3 : lamda= 2.356194490192345 : gamma= 0.05\n",
      "Gabor16 : theta= 0.0 : sigma= 3 : lamda= 2.356194490192345 : gamma= 0.5\n",
      "Gabor17 : theta= 0.7853981633974483 : sigma= 1 : lamda= 0.0 : gamma= 0.05\n",
      "Gabor18 : theta= 0.7853981633974483 : sigma= 1 : lamda= 0.0 : gamma= 0.5\n",
      "Gabor19 : theta= 0.7853981633974483 : sigma= 1 : lamda= 0.7853981633974483 : gamma= 0.05\n",
      "Gabor20 : theta= 0.7853981633974483 : sigma= 1 : lamda= 0.7853981633974483 : gamma= 0.5\n",
      "Gabor21 : theta= 0.7853981633974483 : sigma= 1 : lamda= 1.5707963267948966 : gamma= 0.05\n",
      "Gabor22 : theta= 0.7853981633974483 : sigma= 1 : lamda= 1.5707963267948966 : gamma= 0.5\n",
      "Gabor23 : theta= 0.7853981633974483 : sigma= 1 : lamda= 2.356194490192345 : gamma= 0.05\n",
      "Gabor24 : theta= 0.7853981633974483 : sigma= 1 : lamda= 2.356194490192345 : gamma= 0.5\n",
      "Gabor25 : theta= 0.7853981633974483 : sigma= 3 : lamda= 0.0 : gamma= 0.05\n",
      "Gabor26 : theta= 0.7853981633974483 : sigma= 3 : lamda= 0.0 : gamma= 0.5\n",
      "Gabor27 : theta= 0.7853981633974483 : sigma= 3 : lamda= 0.7853981633974483 : gamma= 0.05\n",
      "Gabor28 : theta= 0.7853981633974483 : sigma= 3 : lamda= 0.7853981633974483 : gamma= 0.5\n",
      "Gabor29 : theta= 0.7853981633974483 : sigma= 3 : lamda= 1.5707963267948966 : gamma= 0.05\n",
      "Gabor30 : theta= 0.7853981633974483 : sigma= 3 : lamda= 1.5707963267948966 : gamma= 0.5\n",
      "Gabor31 : theta= 0.7853981633974483 : sigma= 3 : lamda= 2.356194490192345 : gamma= 0.05\n",
      "Gabor32 : theta= 0.7853981633974483 : sigma= 3 : lamda= 2.356194490192345 : gamma= 0.5\n"
     ]
    }
   ],
   "source": [
    "#Generate Gabor features\n",
    "num = 1  #To count numbers up in order to give Gabor features a lable in the data frame\n",
    "kernels = []\n",
    "for theta in range(2):   #Define number of thetas\n",
    "    theta = theta / 4. * np.pi\n",
    "    for sigma in (1, 3):  #Sigma with 1 and 3\n",
    "        for lamda in np.arange(0, np.pi, np.pi / 4):   #Range of wavelengths\n",
    "            for gamma in (0.05, 0.5):   #Gamma values of 0.05 and 0.5\n",
    "            \n",
    "                \n",
    "                gabor_label = 'Gabor' + str(num)  #Label Gabor columns as Gabor1, Gabor2, etc.\n",
    "#                print(gabor_label)\n",
    "                ksize=9\n",
    "                kernel = cv2.getGaborKernel((ksize, ksize), sigma, theta, lamda, gamma, 0, ktype=cv2.CV_32F)    \n",
    "                kernels.append(kernel)\n",
    "                #Now filter the image and add values to a new column \n",
    "                fimg = cv2.filter2D(img2, cv2.CV_8UC3, kernel)\n",
    "                filtered_img = fimg.reshape(-1)\n",
    "                df[gabor_label] = filtered_img  #Labels columns as Gabor1, Gabor2, etc.\n",
    "                print(gabor_label, ': theta=', theta, ': sigma=', sigma, ': lamda=', lamda, ': gamma=', gamma)\n",
    "                num += 1  #Increment for gabor column label"
   ]
  },
  {
   "cell_type": "code",
   "execution_count": 6,
   "id": "9e5acfc5",
   "metadata": {},
   "outputs": [
    {
     "name": "stdout",
     "output_type": "stream",
     "text": [
      "   Original Image  Gabor1  Gabor2  Gabor3  Gabor4  Gabor5  Gabor6  Gabor7  \\\n",
      "0               0       0       0       0       0       0       0       0   \n",
      "1               0       0       0       0       0       0       0       0   \n",
      "2               0       0       0       0       0       0       0       0   \n",
      "3               0       0       0       0       0       0       0       0   \n",
      "4               0       0       0       0       0       0       0       0   \n",
      "\n",
      "   Gabor8  Gabor9  ...  Gabor24  Gabor25  Gabor26  Gabor27  Gabor28  Gabor29  \\\n",
      "0       0       0  ...        0        0        0        0        0        0   \n",
      "1       0       0  ...        0        0        0        0        0        0   \n",
      "2       0       0  ...        0        0        0        0        0        0   \n",
      "3       0       0  ...        0        0        0        0        0        0   \n",
      "4       0       0  ...        0        0        0        0        0        0   \n",
      "\n",
      "   Gabor30  Gabor31  Gabor32  Labels  \n",
      "0        0        0        0      33  \n",
      "1        0        0        0      33  \n",
      "2        0        0        0      33  \n",
      "3        0        0        0      33  \n",
      "4        0        0        0      33  \n",
      "\n",
      "[5 rows x 34 columns]\n"
     ]
    }
   ],
   "source": [
    "#Now, add a column in the data frame for the Labels\n",
    "#For this, we need to import the labeled image\n",
    "labeled_img = cv2.imread('Sandstone_Versa0180_mask.png')\n",
    "#Remember that you can load an image with partial labels \n",
    "#But, drop the rows with unlabeled data\n",
    "\n",
    "labeled_img = cv2.cvtColor(labeled_img, cv2.COLOR_BGR2GRAY)\n",
    "labeled_img1 = labeled_img.reshape(-1)\n",
    "df['Labels'] = labeled_img1\n",
    "\n",
    "print(df.head())"
   ]
  },
  {
   "cell_type": "code",
   "execution_count": 7,
   "id": "8c0d2127",
   "metadata": {},
   "outputs": [
    {
     "name": "stdout",
     "output_type": "stream",
     "text": [
      "[ 33 201 231  65]\n",
      "33     491532\n",
      "231    439024\n",
      "201     72927\n",
      "65      16421\n",
      "Name: Labels, dtype: int64\n"
     ]
    }
   ],
   "source": [
    "print(df.Labels.unique())  #Look at the labels in our dataframe\n",
    "print(df['Labels'].value_counts())"
   ]
  },
  {
   "cell_type": "code",
   "execution_count": 9,
   "id": "b5c9f6fa",
   "metadata": {},
   "outputs": [],
   "source": [
    "#Define the dependent variable that needs to be predicted (labels)\n",
    "Y = df[\"Labels\"].values\n",
    "\n",
    "#Define the independent variables\n",
    "X = df.drop(labels = [\"Labels\"], axis=1) \n",
    "\n",
    "\n",
    "X = X.iloc[:, :].to_numpy() #Convert X from pandas dataframe to Numpy array\n",
    "\n",
    "\n",
    "\n",
    "#Split data into train and test to verify accuracy after fitting the model. \n",
    "from sklearn.model_selection import train_test_split\n",
    "X_train, X_test, y_train, y_test = train_test_split(X, Y, test_size=0.4, random_state=42)"
   ]
  },
  {
   "cell_type": "code",
   "execution_count": 11,
   "id": "91db9ed6",
   "metadata": {},
   "outputs": [
    {
     "data": {
      "text/plain": [
       "(1019904, 33)"
      ]
     },
     "execution_count": 11,
     "metadata": {},
     "output_type": "execute_result"
    }
   ],
   "source": [
    "X.shape"
   ]
  },
  {
   "cell_type": "code",
   "execution_count": 12,
   "id": "0b3087cd",
   "metadata": {},
   "outputs": [
    {
     "name": "stdout",
     "output_type": "stream",
     "text": [
      "Model: \"sequential\"\n",
      "_________________________________________________________________\n",
      " Layer (type)                Output Shape              Param #   \n",
      "=================================================================\n",
      " dense (Dense)               (None, 8)                 272       \n",
      "                                                                 \n",
      " dense_1 (Dense)             (None, 8)                 72        \n",
      "                                                                 \n",
      " dense_2 (Dense)             (None, 4)                 36        \n",
      "                                                                 \n",
      "=================================================================\n",
      "Total params: 380\n",
      "Trainable params: 380\n",
      "Non-trainable params: 0\n",
      "_________________________________________________________________\n",
      "None\n"
     ]
    }
   ],
   "source": [
    "from keras.models import Sequential\n",
    "from keras.layers import Dense\n",
    "model = Sequential()\n",
    "model.add(Dense(8, input_shape=(33,), activation='relu'))\n",
    "model.add(Dense(8, activation='relu'))\n",
    "model.add(Dense(4, activation='softmax'))\n",
    "\t# Compile model\n",
    "model.compile(loss='categorical_crossentropy', optimizer='adam', metrics=['accuracy'])\n",
    "print(model.summary())"
   ]
  },
  {
   "cell_type": "code",
   "execution_count": 13,
   "id": "eec9891f",
   "metadata": {},
   "outputs": [],
   "source": [
    "from keras.utils import normalize, to_categorical\n",
    "from sklearn.preprocessing import LabelEncoder\n",
    "\n",
    "X_train_deep = normalize(X_train, axis=1)\n",
    "X_test_deep = normalize(X_test, axis=1)\n",
    "\n",
    "#Encode Y labels to 0, 1, 2, 3, then one hot encode. \n",
    "le = LabelEncoder()\n",
    "le.fit(y_train)\n",
    "y_train_deep = le.transform(y_train)\n",
    "y_train_deep_cat = to_categorical(y_train_deep)\n",
    "\n",
    "y_test_deep = le.transform(y_test)\n",
    "y_test_deep_cat = to_categorical(y_test_deep)"
   ]
  },
  {
   "cell_type": "code",
   "execution_count": 23,
   "id": "8997afd2",
   "metadata": {},
   "outputs": [
    {
     "data": {
      "text/plain": [
       "(611942, 33)"
      ]
     },
     "execution_count": 23,
     "metadata": {},
     "output_type": "execute_result"
    }
   ],
   "source": [
    "X_train_deep.shape"
   ]
  },
  {
   "cell_type": "code",
   "execution_count": 37,
   "id": "cdf8151e",
   "metadata": {},
   "outputs": [],
   "source": [
    "#Automatically define class weights\n",
    "from sklearn.utils import class_weight\n",
    "from sklearn.utils.class_weight import compute_class_weight\n",
    "\n",
    "class_weights = compute_class_weight(class_weight = \"balanced\", classes= np.unique(y_train_deep), y= y_train_deep)\n",
    "weight = {i : class_weights[i] for i in range(4)}"
   ]
  },
  {
   "cell_type": "code",
   "execution_count": 39,
   "id": "7a0ad069",
   "metadata": {},
   "outputs": [
    {
     "data": {
      "text/plain": [
       "array([ 0.51881299, 15.49691045,  3.49258042,  0.5808304 ])"
      ]
     },
     "execution_count": 39,
     "metadata": {},
     "output_type": "execute_result"
    }
   ],
   "source": [
    "class_weights\n"
   ]
  },
  {
   "cell_type": "code",
   "execution_count": 40,
   "id": "4aeff66c",
   "metadata": {},
   "outputs": [
    {
     "data": {
      "text/plain": [
       "{0: 0.5188129925799319,\n",
       " 1: 15.496910453808752,\n",
       " 2: 3.4925804168664247,\n",
       " 3: 0.580830400431298}"
      ]
     },
     "execution_count": 40,
     "metadata": {},
     "output_type": "execute_result"
    }
   ],
   "source": [
    "weight"
   ]
  },
  {
   "cell_type": "code",
   "execution_count": 19,
   "id": "0baf08ad",
   "metadata": {},
   "outputs": [
    {
     "name": "stdout",
     "output_type": "stream",
     "text": [
      "[0 1 2 3] [294876   9872  43803 263391]\n"
     ]
    }
   ],
   "source": [
    "values, counts = np.unique(y_train_deep, return_counts=True)\n",
    "print(values, counts)\n",
    "\n",
    "class_weights_manual = {0: 0.1,\n",
    "                1: 1.6,\n",
    "                2: 0.108,\n",
    "                3: 0.015}"
   ]
  },
  {
   "cell_type": "code",
   "execution_count": 20,
   "id": "43106a73",
   "metadata": {},
   "outputs": [
    {
     "name": "stdout",
     "output_type": "stream",
     "text": [
      "Epoch 1/10\n",
      "19124/19124 [==============================] - 19s 953us/step - loss: 0.0136 - accuracy: 0.8796 - val_loss: 0.2442 - val_accuracy: 0.9103\n",
      "Epoch 2/10\n",
      "19124/19124 [==============================] - 18s 964us/step - loss: 0.0106 - accuracy: 0.9102 - val_loss: 0.2472 - val_accuracy: 0.9097\n",
      "Epoch 3/10\n",
      "19124/19124 [==============================] - 18s 955us/step - loss: 0.0106 - accuracy: 0.9098 - val_loss: 0.2877 - val_accuracy: 0.8798\n",
      "Epoch 4/10\n",
      "19124/19124 [==============================] - 19s 993us/step - loss: 0.0105 - accuracy: 0.9105 - val_loss: 0.2963 - val_accuracy: 0.8827\n",
      "Epoch 5/10\n",
      "19124/19124 [==============================] - 19s 971us/step - loss: 0.0105 - accuracy: 0.9112 - val_loss: 0.2473 - val_accuracy: 0.9063\n",
      "Epoch 6/10\n",
      "19124/19124 [==============================] - 19s 972us/step - loss: 0.0105 - accuracy: 0.9109 - val_loss: 0.2208 - val_accuracy: 0.9181\n",
      "Epoch 7/10\n",
      "19124/19124 [==============================] - 18s 948us/step - loss: 0.0104 - accuracy: 0.9120 - val_loss: 0.2524 - val_accuracy: 0.9062\n",
      "Epoch 8/10\n",
      "19124/19124 [==============================] - 18s 954us/step - loss: 0.0104 - accuracy: 0.9121 - val_loss: 0.2393 - val_accuracy: 0.9119\n",
      "Epoch 9/10\n",
      "19124/19124 [==============================] - 19s 1ms/step - loss: 0.0103 - accuracy: 0.9119 - val_loss: 0.2149 - val_accuracy: 0.9220\n",
      "Epoch 10/10\n",
      "19124/19124 [==============================] - 18s 934us/step - loss: 0.0103 - accuracy: 0.9122 - val_loss: 0.2229 - val_accuracy: 0.9182\n"
     ]
    }
   ],
   "source": [
    "history = model.fit(X_train_deep, y_train_deep_cat, epochs=10, \n",
    "                    class_weight=class_weights_manual, validation_data = (X_test_deep, y_test_deep_cat))"
   ]
  },
  {
   "cell_type": "code",
   "execution_count": 41,
   "id": "777c0015",
   "metadata": {},
   "outputs": [
    {
     "name": "stdout",
     "output_type": "stream",
     "text": [
      "Epoch 1/10\n",
      "19124/19124 [==============================] - 19s 964us/step - loss: 0.2135 - accuracy: 0.9231 - val_loss: 0.2038 - val_accuracy: 0.9253\n",
      "Epoch 2/10\n",
      "19124/19124 [==============================] - 18s 946us/step - loss: 0.2128 - accuracy: 0.9229 - val_loss: 0.2369 - val_accuracy: 0.9122\n",
      "Epoch 3/10\n",
      "19124/19124 [==============================] - 18s 939us/step - loss: 0.2115 - accuracy: 0.9232 - val_loss: 0.2282 - val_accuracy: 0.9149\n",
      "Epoch 4/10\n",
      "19124/19124 [==============================] - 18s 943us/step - loss: 0.2112 - accuracy: 0.9232 - val_loss: 0.2041 - val_accuracy: 0.9269\n",
      "Epoch 5/10\n",
      "19124/19124 [==============================] - 18s 934us/step - loss: 0.2104 - accuracy: 0.9238 - val_loss: 0.2428 - val_accuracy: 0.9109\n",
      "Epoch 6/10\n",
      "19124/19124 [==============================] - 18s 933us/step - loss: 0.2101 - accuracy: 0.9239 - val_loss: 0.1932 - val_accuracy: 0.9305\n",
      "Epoch 7/10\n",
      "19124/19124 [==============================] - 18s 934us/step - loss: 0.2096 - accuracy: 0.9241 - val_loss: 0.2294 - val_accuracy: 0.9167\n",
      "Epoch 8/10\n",
      "19124/19124 [==============================] - 18s 934us/step - loss: 0.2093 - accuracy: 0.9244 - val_loss: 0.1901 - val_accuracy: 0.9322\n",
      "Epoch 9/10\n",
      "19124/19124 [==============================] - 18s 933us/step - loss: 0.2090 - accuracy: 0.9245 - val_loss: 0.2080 - val_accuracy: 0.9261\n",
      "Epoch 10/10\n",
      "19124/19124 [==============================] - 18s 929us/step - loss: 0.2086 - accuracy: 0.9247 - val_loss: 0.2323 - val_accuracy: 0.9173\n"
     ]
    }
   ],
   "source": [
    "history2 = model.fit(X_train_deep, y_train_deep_cat, epochs=10, \n",
    "                    class_weight=weight, validation_data = (X_test_deep, y_test_deep_cat))"
   ]
  },
  {
   "cell_type": "code",
   "execution_count": 43,
   "id": "d19c9c91",
   "metadata": {},
   "outputs": [
    {
     "data": {
      "image/png": "[encoded data removed]",
      "text/plain": [
       "<Figure size 432x288 with 1 Axes>"
      ]
     },
     "metadata": {
      "needs_background": "light"
     },
     "output_type": "display_data"
    },
    {
     "data": {
      "image/png": "[encoded data removed]",
      "text/plain": [
       "<Figure size 432x288 with 1 Axes>"
      ]
     },
     "metadata": {
      "needs_background": "light"
     },
     "output_type": "display_data"
    }
   ],
   "source": [
    "from matplotlib import pyplot as plt\n",
    "#plot the training and validation accuracy and loss at each epoch\n",
    "loss = history2.history['loss']\n",
    "val_loss = history2.history['val_loss']\n",
    "epochs = range(1, len(loss) + 1)\n",
    "plt.plot(epochs, loss, 'y', label='Training loss')\n",
    "plt.plot(epochs, val_loss, 'r', label='Validation loss')\n",
    "plt.title('Training and validation loss')\n",
    "plt.xlabel('Epochs')\n",
    "plt.ylabel('Loss')\n",
    "plt.legend()\n",
    "plt.show()\n",
    "\n",
    "\n",
    "acc = history.history['accuracy']\n",
    "val_acc = history.history['val_accuracy']\n",
    "plt.plot(epochs, acc, 'y', label='Training acc')\n",
    "plt.plot(epochs, val_acc, 'r', label='Validation acc')\n",
    "plt.title('Training and validation accuracy')\n",
    "plt.xlabel('Epochs')\n",
    "plt.ylabel('Accuracy')\n",
    "plt.legend()\n",
    "plt.show()"
   ]
  },
  {
   "cell_type": "code",
   "execution_count": 44,
   "id": "00da6be9",
   "metadata": {},
   "outputs": [
    {
     "name": "stdout",
     "output_type": "stream",
     "text": [
      "12749/12749 [==============================] - 6s 460us/step\n",
      "Accuracy: 91.73\n",
      "[[187639      7   8937     73]\n",
      " [     2   6490      4     53]\n",
      " [   756     21  23461   4886]\n",
      " [   417  11361   7491 156364]]\n"
     ]
    }
   ],
   "source": [
    "prediction_deep = model.predict(X_test_deep)\n",
    "# evaluate the keras model\n",
    "_, accuracy = model.evaluate(X_test_deep, y_test_deep_cat, verbose=0)\n",
    "print('Accuracy: %.2f' % (accuracy*100))\n",
    "\n",
    "mythreshold=0.5\n",
    "y_pred_thresh = (prediction_deep >= mythreshold).astype(int)\n",
    "\n",
    "y_pred_thresholded=np.argmax(y_pred_thresh, axis=-1)\n",
    "\n",
    "#y_pred_thresholded = y_pred_thresholded.argmax(1)\n",
    "from sklearn.metrics import confusion_matrix\n",
    "\n",
    "cm=confusion_matrix(y_test_deep, y_pred_thresholded)  \n",
    "print(cm)"
   ]
  },
  {
   "cell_type": "code",
   "execution_count": 45,
   "id": "38414599",
   "metadata": {},
   "outputs": [
    {
     "name": "stdout",
     "output_type": "stream",
     "text": [
      "Pixel 33 accuracy =  0.9937769445062337\n",
      "Pixel 65 accuracy =  0.36299569327143577\n",
      "Pixel 201 accuracy =  0.5880981625849147\n",
      "Pixel 231 accuracy =  0.9689420979575649\n"
     ]
    }
   ],
   "source": [
    "print(\"Pixel 33 accuracy = \", cm[0,0] / (cm[0,0]+cm[1,0]+cm[2,0]+cm[3,0]))\n",
    "print(\"Pixel 65 accuracy = \",   cm[1,1] / (cm[0,1]+cm[1,1]+cm[2,1]+cm[3,1]))\n",
    "print(\"Pixel 201 accuracy = \",   cm[2,2] / (cm[0,2]+cm[1,2]+cm[2,2]+cm[3,2]))\n",
    "print(\"Pixel 231 accuracy = \",   cm[3,3] / (cm[0,3]+cm[1,3]+cm[2,3]+cm[3,3]))"
   ]
  },
  {
   "cell_type": "code",
   "execution_count": null,
   "id": "b1337782",
   "metadata": {},
   "outputs": [],
   "source": []
  },
  {
   "cell_type": "code",
   "execution_count": null,
   "id": "207a01dc",
   "metadata": {},
   "outputs": [],
   "source": []
  }
 ],
 "metadata": {
  "kernelspec": {
   "display_name": "Python 3 (ipykernel)",
   "language": "python",
   "name": "python3"
  },
  "language_info": {
   "codemirror_mode": {
    "name": "ipython",
    "version": 3
   },
   "file_extension": ".py",
   "mimetype": "text/x-python",
   "name": "python",
   "nbconvert_exporter": "python",
   "pygments_lexer": "ipython3",
   "version": "3.9.12"
  }
 },
 "nbformat": 4,
 "nbformat_minor": 5
}
