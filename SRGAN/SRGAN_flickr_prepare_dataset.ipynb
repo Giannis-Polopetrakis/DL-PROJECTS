{
 "cells": [
  {
   "cell_type": "code",
   "execution_count": 1,
   "id": "bebddbfb",
   "metadata": {},
   "outputs": [],
   "source": [
    "import cv2\n",
    "import os\n",
    "import matplotlib.pyplot as plt\n",
    "\n",
    "train_dir = \"data\" \n",
    "\n",
    "for img in os.listdir(train_dir + \"/original_images\"):\n",
    "    img_array = cv2.imread(train_dir + \"/original_images/\" + img)\n",
    "    \n",
    "    # Resize using bicubic interpolation\n",
    "    img_array = cv2.resize(img_array, (96, 96))\n",
    "    lr_img_array = cv2.resize(img_array, (24, 24), interpolation=cv2.INTER_CUBIC)\n",
    "    \n",
    "    cv2.imwrite(train_dir + \"/hr_images/\" + img, img_array)\n",
    "    cv2.imwrite(train_dir + \"/lr_images/\" + img, lr_img_array)\n"
   ]
  },
  {
   "cell_type": "code",
   "execution_count": null,
   "id": "ac096073",
   "metadata": {},
   "outputs": [],
   "source": []
  }
 ],
 "metadata": {
  "kernelspec": {
   "display_name": "Python 3 (ipykernel)",
   "language": "python",
   "name": "python3"
  },
  "language_info": {
   "codemirror_mode": {
    "name": "ipython",
    "version": 3
   },
   "file_extension": ".py",
   "mimetype": "text/x-python",
   "name": "python",
   "nbconvert_exporter": "python",
   "pygments_lexer": "ipython3",
   "version": "3.9.0"
  }
 },
 "nbformat": 4,
 "nbformat_minor": 5
}
