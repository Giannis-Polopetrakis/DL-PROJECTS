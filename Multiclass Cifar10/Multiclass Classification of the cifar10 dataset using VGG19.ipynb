{
 "cells": [
  {
   "cell_type": "code",
   "execution_count": 11,
   "id": "27ac65db",
   "metadata": {},
   "outputs": [],
   "source": [
    "import matplotlib.pyplot as plt\n",
    "import matplotlib.image as mpimg\n",
    "\n",
    "plt.style.use('dark_background')\n",
    "import tensorflow as tf\n",
    "from keras.models import Sequential, Model\n",
    "from keras.preprocessing.image import ImageDataGenerator\n",
    "from keras.layers import BatchNormalization\n",
    "from keras.layers import Conv2D, MaxPooling2D, Dense, Flatten\n",
    "from keras.datasets import cifar10\n",
    "from keras.utils import normalize, to_categorical"
   ]
  },
  {
   "cell_type": "code",
   "execution_count": 2,
   "id": "8ea0c7a3",
   "metadata": {},
   "outputs": [],
   "source": [
    "(X_train, y_train), (X_test, y_test) = cifar10.load_data()"
   ]
  },
  {
   "cell_type": "code",
   "execution_count": 3,
   "id": "63790966",
   "metadata": {},
   "outputs": [],
   "source": [
    "X_train = normalize(X_train, axis=1)\n",
    "X_test = normalize(X_test, axis=1)\n",
    "\n",
    "y_train = to_categorical(y_train)\n",
    "y_test = to_categorical(y_test)"
   ]
  },
  {
   "cell_type": "code",
   "execution_count": 4,
   "id": "d7d10f63",
   "metadata": {},
   "outputs": [
    {
     "data": {
      "text/plain": [
       "(50000, 32, 32, 3)"
      ]
     },
     "execution_count": 4,
     "metadata": {},
     "output_type": "execute_result"
    }
   ],
   "source": [
    "X_train.shape"
   ]
  },
  {
   "cell_type": "code",
   "execution_count": 5,
   "id": "0e9b0a1b",
   "metadata": {},
   "outputs": [
    {
     "data": {
      "text/plain": [
       "(50000, 10)"
      ]
     },
     "execution_count": 5,
     "metadata": {},
     "output_type": "execute_result"
    }
   ],
   "source": [
    "y_train.shape"
   ]
  },
  {
   "cell_type": "code",
   "execution_count": 51,
   "id": "5f21842d",
   "metadata": {},
   "outputs": [
    {
     "name": "stdout",
     "output_type": "stream",
     "text": [
      "Model: \"sequential_2\"\n",
      "_________________________________________________________________\n",
      " Layer (type)                Output Shape              Param #   \n",
      "=================================================================\n",
      " conv2d_232 (Conv2D)         (None, 32, 32, 32)        896       \n",
      "                                                                 \n",
      " batch_normalization_8 (Batc  (None, 32, 32, 32)       128       \n",
      " hNormalization)                                                 \n",
      "                                                                 \n",
      " conv2d_233 (Conv2D)         (None, 32, 32, 32)        9248      \n",
      "                                                                 \n",
      " batch_normalization_9 (Batc  (None, 32, 32, 32)       128       \n",
      " hNormalization)                                                 \n",
      "                                                                 \n",
      " max_pooling2d_74 (MaxPoolin  (None, 16, 16, 32)       0         \n",
      " g2D)                                                            \n",
      "                                                                 \n",
      " conv2d_234 (Conv2D)         (None, 16, 16, 64)        18496     \n",
      "                                                                 \n",
      " batch_normalization_10 (Bat  (None, 16, 16, 64)       256       \n",
      " chNormalization)                                                \n",
      "                                                                 \n",
      " conv2d_235 (Conv2D)         (None, 16, 16, 64)        36928     \n",
      "                                                                 \n",
      " batch_normalization_11 (Bat  (None, 16, 16, 64)       256       \n",
      " chNormalization)                                                \n",
      "                                                                 \n",
      " max_pooling2d_75 (MaxPoolin  (None, 8, 8, 64)         0         \n",
      " g2D)                                                            \n",
      "                                                                 \n",
      " flatten_16 (Flatten)        (None, 4096)              0         \n",
      "                                                                 \n",
      " dense_46 (Dense)            (None, 576)               2359872   \n",
      "                                                                 \n",
      " dense_47 (Dense)            (None, 10)                5770      \n",
      "                                                                 \n",
      "=================================================================\n",
      "Total params: 2,431,978\n",
      "Trainable params: 2,431,594\n",
      "Non-trainable params: 384\n",
      "_________________________________________________________________\n",
      "None\n"
     ]
    }
   ],
   "source": [
    "activation = 'relu'\n",
    "model = Sequential()\n",
    "model.add(Conv2D(32, 3, activation = activation, padding = 'same', input_shape = (32, 32, 3)))\n",
    "model.add(BatchNormalization())\n",
    "\n",
    "model.add(Conv2D(32, 3, activation = activation, padding = 'same', kernel_initializer = 'he_uniform'))\n",
    "model.add(BatchNormalization())\n",
    "model.add(MaxPooling2D())\n",
    "\n",
    "model.add(Conv2D(64, 3, activation = activation, padding = 'same', kernel_initializer = 'he_uniform'))\n",
    "model.add(BatchNormalization())\n",
    "\n",
    "model.add(Conv2D(64, 3, activation = activation, padding = 'same', kernel_initializer = 'he_uniform'))\n",
    "model.add(BatchNormalization()) \n",
    "model.add(MaxPooling2D())\n",
    "\n",
    "model.add(Flatten())\n",
    "model.add(Dense(576, activation = activation, kernel_initializer = 'he_uniform'))\n",
    "model.add(Dense(10, activation = 'softmax'))\n",
    "\n",
    "model.compile(optimizer = 'adam',loss = 'categorical_crossentropy', metrics = ['accuracy'])\n",
    "print(model.summary()) "
   ]
  },
  {
   "cell_type": "code",
   "execution_count": 52,
   "id": "bb90d977",
   "metadata": {},
   "outputs": [
    {
     "name": "stdout",
     "output_type": "stream",
     "text": [
      "Epoch 1/10\n",
      "100/100 [==============================] - 23s 217ms/step - loss: 2.0073 - accuracy: 0.3957 - val_loss: 3.1468 - val_accuracy: 0.1372\n",
      "Epoch 2/10\n",
      "100/100 [==============================] - 21s 208ms/step - loss: 1.2707 - accuracy: 0.5496 - val_loss: 3.2987 - val_accuracy: 0.1397\n",
      "Epoch 3/10\n",
      "100/100 [==============================] - 23s 227ms/step - loss: 1.1412 - accuracy: 0.5978 - val_loss: 4.0759 - val_accuracy: 0.2174\n",
      "Epoch 4/10\n",
      "100/100 [==============================] - 22s 216ms/step - loss: 0.9935 - accuracy: 0.6498 - val_loss: 3.3019 - val_accuracy: 0.2594\n",
      "Epoch 5/10\n",
      "100/100 [==============================] - 23s 229ms/step - loss: 0.8276 - accuracy: 0.7066 - val_loss: 1.9844 - val_accuracy: 0.4267\n",
      "Epoch 6/10\n",
      "100/100 [==============================] - 22s 221ms/step - loss: 0.8384 - accuracy: 0.7045 - val_loss: 1.3755 - val_accuracy: 0.5502\n",
      "Epoch 7/10\n",
      "100/100 [==============================] - 22s 216ms/step - loss: 0.8122 - accuracy: 0.7141 - val_loss: 1.3599 - val_accuracy: 0.5501\n",
      "Epoch 8/10\n",
      "100/100 [==============================] - 21s 211ms/step - loss: 0.7574 - accuracy: 0.7330 - val_loss: 1.4260 - val_accuracy: 0.5565\n",
      "Epoch 9/10\n",
      "100/100 [==============================] - 21s 213ms/step - loss: 0.6029 - accuracy: 0.7883 - val_loss: 1.1344 - val_accuracy: 0.6329\n",
      "Epoch 10/10\n",
      "100/100 [==============================] - 21s 212ms/step - loss: 0.6036 - accuracy: 0.7870 - val_loss: 0.9958 - val_accuracy: 0.6656\n"
     ]
    }
   ],
   "source": [
    "history = model.fit(X_train,\n",
    "        y_train,\n",
    "        steps_per_epoch = 100,\n",
    "        epochs = 10,\n",
    "        batch_size=128,            \n",
    "        validation_data = (X_test, y_test))"
   ]
  },
  {
   "cell_type": "code",
   "execution_count": 54,
   "id": "a282f65f",
   "metadata": {},
   "outputs": [
    {
     "name": "stdout",
     "output_type": "stream",
     "text": [
      "Model: \"sequential_4\"\n",
      "_________________________________________________________________\n",
      " Layer (type)                Output Shape              Param #   \n",
      "=================================================================\n",
      " conv2d_242 (Conv2D)         (None, 32, 32, 32)        896       \n",
      "                                                                 \n",
      " batch_normalization_19 (Bat  (None, 32, 32, 32)       128       \n",
      " chNormalization)                                                \n",
      "                                                                 \n",
      " conv2d_243 (Conv2D)         (None, 32, 32, 32)        9248      \n",
      "                                                                 \n",
      " batch_normalization_20 (Bat  (None, 32, 32, 32)       128       \n",
      " chNormalization)                                                \n",
      "                                                                 \n",
      " max_pooling2d_79 (MaxPoolin  (None, 16, 16, 32)       0         \n",
      " g2D)                                                            \n",
      "                                                                 \n",
      " conv2d_244 (Conv2D)         (None, 16, 16, 64)        18496     \n",
      "                                                                 \n",
      " batch_normalization_21 (Bat  (None, 16, 16, 64)       256       \n",
      " chNormalization)                                                \n",
      "                                                                 \n",
      " conv2d_245 (Conv2D)         (None, 16, 16, 64)        36928     \n",
      "                                                                 \n",
      " batch_normalization_22 (Bat  (None, 16, 16, 64)       256       \n",
      " chNormalization)                                                \n",
      "                                                                 \n",
      " max_pooling2d_80 (MaxPoolin  (None, 8, 8, 64)         0         \n",
      " g2D)                                                            \n",
      "                                                                 \n",
      " conv2d_246 (Conv2D)         (None, 8, 8, 128)         73856     \n",
      "                                                                 \n",
      " batch_normalization_23 (Bat  (None, 8, 8, 128)        512       \n",
      " chNormalization)                                                \n",
      "                                                                 \n",
      " conv2d_247 (Conv2D)         (None, 8, 8, 128)         147584    \n",
      "                                                                 \n",
      " batch_normalization_24 (Bat  (None, 8, 8, 128)        512       \n",
      " chNormalization)                                                \n",
      "                                                                 \n",
      " max_pooling2d_81 (MaxPoolin  (None, 4, 4, 128)        0         \n",
      " g2D)                                                            \n",
      "                                                                 \n",
      " flatten_18 (Flatten)        (None, 2048)              0         \n",
      "                                                                 \n",
      " dense_50 (Dense)            (None, 640)               1311360   \n",
      "                                                                 \n",
      " batch_normalization_25 (Bat  (None, 640)              2560      \n",
      " chNormalization)                                                \n",
      "                                                                 \n",
      " dense_51 (Dense)            (None, 10)                6410      \n",
      "                                                                 \n",
      "=================================================================\n",
      "Total params: 1,609,130\n",
      "Trainable params: 1,606,954\n",
      "Non-trainable params: 2,176\n",
      "_________________________________________________________________\n"
     ]
    }
   ],
   "source": [
    "model3_drop_norm = Sequential()\n",
    "model3_drop_norm.add(Conv2D(32, (3, 3), activation='relu', kernel_initializer='he_uniform', padding='same', input_shape=(32, 32, 3)))\n",
    "model3_drop_norm.add(BatchNormalization())\n",
    "model3_drop_norm.add(Conv2D(32, (3, 3), activation='relu', kernel_initializer='he_uniform', padding='same'))\n",
    "model3_drop_norm.add(BatchNormalization())\n",
    "\n",
    "model3_drop_norm.add(MaxPooling2D((2, 2)))\n",
    "model3_drop_norm.add(Conv2D(64, (3, 3), activation='relu', kernel_initializer='he_uniform', padding='same'))\n",
    "model3_drop_norm.add(BatchNormalization())\n",
    "model3_drop_norm.add(Conv2D(64, (3, 3), activation='relu', kernel_initializer='he_uniform', padding='same'))\n",
    "model3_drop_norm.add(BatchNormalization())\n",
    "model3_drop_norm.add(MaxPooling2D((2, 2)))\n",
    "\n",
    "model3_drop_norm.add(Conv2D(128, (3, 3), activation='relu', kernel_initializer='he_uniform', padding='same'))\n",
    "model3_drop_norm.add(BatchNormalization())\n",
    "\n",
    "model3_drop_norm.add(Conv2D(128, (3, 3), activation='relu', kernel_initializer='he_uniform', padding='same'))\n",
    "model3_drop_norm.add(BatchNormalization())\n",
    "model3_drop_norm.add(MaxPooling2D((2, 2)))\n",
    "\n",
    "model3_drop_norm.add(Flatten())\n",
    "model3_drop_norm.add(Dense(640, activation='relu', kernel_initializer='he_uniform'))\n",
    "model3_drop_norm.add(BatchNormalization())\n",
    "model3_drop_norm.add(Dense(10, activation='softmax'))\n",
    "# compile model\n",
    "\n",
    "model3_drop_norm.compile(optimizer=\"adam\", loss='categorical_crossentropy', metrics=['accuracy'])\n",
    "model3_drop_norm.summary()"
   ]
  },
  {
   "cell_type": "code",
   "execution_count": 55,
   "id": "a62c22f8",
   "metadata": {},
   "outputs": [
    {
     "name": "stdout",
     "output_type": "stream",
     "text": [
      "Epoch 1/10\n",
      "100/100 [==============================] - 26s 249ms/step - loss: 1.7183 - accuracy: 0.4349 - val_loss: 2.7225 - val_accuracy: 0.1671\n",
      "Epoch 2/10\n",
      "100/100 [==============================] - 25s 251ms/step - loss: 1.2491 - accuracy: 0.5577 - val_loss: 3.9537 - val_accuracy: 0.1539\n",
      "Epoch 3/10\n",
      "100/100 [==============================] - 28s 279ms/step - loss: 1.1089 - accuracy: 0.6156 - val_loss: 2.4941 - val_accuracy: 0.2666\n",
      "Epoch 4/10\n",
      "100/100 [==============================] - 25s 247ms/step - loss: 1.0013 - accuracy: 0.6450 - val_loss: 1.7676 - val_accuracy: 0.4121\n",
      "Epoch 5/10\n",
      "100/100 [==============================] - 25s 253ms/step - loss: 0.8453 - accuracy: 0.7030 - val_loss: 1.4836 - val_accuracy: 0.5136\n",
      "Epoch 6/10\n",
      "100/100 [==============================] - 25s 254ms/step - loss: 0.8164 - accuracy: 0.7149 - val_loss: 1.1955 - val_accuracy: 0.6065\n",
      "Epoch 7/10\n",
      "100/100 [==============================] - 25s 254ms/step - loss: 0.7993 - accuracy: 0.7219 - val_loss: 1.0101 - val_accuracy: 0.6601\n",
      "Epoch 8/10\n",
      "100/100 [==============================] - 25s 254ms/step - loss: 0.7371 - accuracy: 0.7423 - val_loss: 0.9153 - val_accuracy: 0.6869\n",
      "Epoch 9/10\n",
      "100/100 [==============================] - 26s 256ms/step - loss: 0.6074 - accuracy: 0.7887 - val_loss: 0.8623 - val_accuracy: 0.7068\n",
      "Epoch 10/10\n",
      "100/100 [==============================] - 26s 262ms/step - loss: 0.6264 - accuracy: 0.7796 - val_loss: 0.9105 - val_accuracy: 0.7082\n"
     ]
    }
   ],
   "source": [
    "history = model3_drop_norm.fit(X_train,\n",
    "        y_train,\n",
    "        steps_per_epoch = 100,\n",
    "        epochs = 10,\n",
    "        batch_size=128,            \n",
    "        validation_data = (X_test, y_test))"
   ]
  },
  {
   "cell_type": "code",
   "execution_count": 58,
   "id": "d9cbcc59",
   "metadata": {},
   "outputs": [
    {
     "data": {
      "image/png": "[encoded data removed]",
      "text/plain": [
       "<Figure size 432x288 with 1 Axes>"
      ]
     },
     "metadata": {},
     "output_type": "display_data"
    },
    {
     "data": {
      "image/png": "[encoded data removed]",
      "text/plain": [
       "<Figure size 432x288 with 1 Axes>"
      ]
     },
     "metadata": {},
     "output_type": "display_data"
    }
   ],
   "source": [
    "loss = history.history['loss']\n",
    "val_loss = history.history['val_loss']\n",
    "epochs = range(1, len(loss) + 1)\n",
    "plt.plot(epochs, loss, 'y', label='Training loss')\n",
    "plt.plot(epochs, val_loss, 'r', label='Validation loss')\n",
    "plt.title('Training and validation loss')\n",
    "plt.xlabel('Epochs')\n",
    "plt.ylabel('Loss')\n",
    "plt.legend()\n",
    "plt.show()\n",
    "\n",
    "\n",
    "acc = history.history['accuracy']\n",
    "val_acc = history.history['val_accuracy']\n",
    "plt.plot(epochs, acc, 'y', label='Training acc')\n",
    "plt.plot(epochs, val_acc, 'r', label='Validation acc')\n",
    "plt.title('Training and validation accuracy')\n",
    "plt.xlabel('Epochs')\n",
    "plt.ylabel('Accuracy')\n",
    "plt.legend()\n",
    "plt.show()\n"
   ]
  },
  {
   "cell_type": "code",
   "execution_count": null,
   "id": "d67fe963",
   "metadata": {},
   "outputs": [],
   "source": []
  }
 ],
 "metadata": {
  "kernelspec": {
   "display_name": "Python 3 (ipykernel)",
   "language": "python",
   "name": "python3"
  },
  "language_info": {
   "codemirror_mode": {
    "name": "ipython",
    "version": 3
   },
   "file_extension": ".py",
   "mimetype": "text/x-python",
   "name": "python",
   "nbconvert_exporter": "python",
   "pygments_lexer": "ipython3",
   "version": "3.9.12"
  }
 },
 "nbformat": 4,
 "nbformat_minor": 5
}
