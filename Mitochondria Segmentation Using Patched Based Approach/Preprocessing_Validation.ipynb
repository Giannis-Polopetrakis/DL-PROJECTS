{
 "cells": [
  {
   "cell_type": "code",
   "execution_count": 18,
   "id": "b828ff55",
   "metadata": {},
   "outputs": [],
   "source": [
    "import os\n",
    "import numpy as np\n",
    "import tifffile\n",
    "from PIL import Image\n",
    "#dataset: https://www.epfl.ch/labs/cvlab/data/data-em/\n",
    "#### actually we will not need the validation masks"
   ]
  },
  {
   "cell_type": "code",
   "execution_count": 11,
   "id": "f5afe9cd",
   "metadata": {},
   "outputs": [],
   "source": [
    "def create_patches(image, mask, patch_size, stride):\n",
    "    height, width = image.shape[:2]\n",
    "    patches = []\n",
    "    masks = []\n",
    "\n",
    "    for y in range(0, height - patch_size + 1, stride):\n",
    "        for x in range(0, width - patch_size + 1, stride):\n",
    "            patch = image[y:y+patch_size, x:x+patch_size]\n",
    "            mask_patch = mask[y:y+patch_size, x:x+patch_size]\n",
    "\n",
    "            patches.append(patch)\n",
    "            masks.append(mask_patch)\n",
    "\n",
    "    return patches, masks\n"
   ]
  },
  {
   "cell_type": "code",
   "execution_count": 14,
   "id": "d10e4951",
   "metadata": {},
   "outputs": [],
   "source": [
    "tif_file = 'data/val_images/testing.tif'\n",
    "mask_file = 'data/val_masks/testing_groundtruth.tif'\n",
    "output_folder_validation = 'data/output_folder_validation'\n",
    "patch_size = 256\n",
    "stride = 256  # Set to patch_size for non-overlapping patches\n"
   ]
  },
  {
   "cell_type": "code",
   "execution_count": 15,
   "id": "ca9a63a0",
   "metadata": {},
   "outputs": [],
   "source": [
    "# Ensure output folder exists\n",
    "os.makedirs(output_folder_validation, exist_ok=True)\n"
   ]
  },
  {
   "cell_type": "code",
   "execution_count": 16,
   "id": "2eb35989",
   "metadata": {},
   "outputs": [],
   "source": [
    "# Read the TIFF file\n",
    "tif_data = tifffile.imread(tif_file)\n",
    "\n",
    "# Read the corresponding mask file\n",
    "mask_data = tifffile.imread(mask_file)"
   ]
  },
  {
   "cell_type": "code",
   "execution_count": 17,
   "id": "72bfc3b3",
   "metadata": {},
   "outputs": [],
   "source": [
    "# Loop through each image\n",
    "for idx in range(len(tif_data)):\n",
    "    image = tif_data[idx]\n",
    "    mask = mask_data[idx]\n",
    "\n",
    "    patches, masks = create_patches(image, mask, patch_size, stride)\n",
    "\n",
    "    # Save patches and masks\n",
    "    for i, (patch, mask) in enumerate(zip(patches, masks)):\n",
    "        patch_name = f'patch_{idx}_{i}.tif'\n",
    "        mask_name = f'mask_{idx}_{i}.tif'\n",
    "\n",
    "        tifffile.imwrite(os.path.join(output_folder, patch_name), patch)\n",
    "        tifffile.imwrite(os.path.join(output_folder, mask_name), mask)"
   ]
  },
  {
   "cell_type": "code",
   "execution_count": null,
   "id": "63e7e0e5",
   "metadata": {},
   "outputs": [],
   "source": []
  },
  {
   "cell_type": "code",
   "execution_count": null,
   "id": "f4e2406b",
   "metadata": {},
   "outputs": [],
   "source": []
  }
 ],
 "metadata": {
  "kernelspec": {
   "display_name": "Python 3 (ipykernel)",
   "language": "python",
   "name": "python3"
  },
  "language_info": {
   "codemirror_mode": {
    "name": "ipython",
    "version": 3
   },
   "file_extension": ".py",
   "mimetype": "text/x-python",
   "name": "python",
   "nbconvert_exporter": "python",
   "pygments_lexer": "ipython3",
   "version": "3.9.12"
  }
 },
 "nbformat": 4,
 "nbformat_minor": 5
}
