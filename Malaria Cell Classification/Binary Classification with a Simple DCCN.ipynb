{
 "cells": [
  {
   "cell_type": "code",
   "execution_count": 1,
   "id": "d8ca291d",
   "metadata": {},
   "outputs": [],
   "source": [
    "import numpy as np\n",
    "np.random.seed(1000)\n",
    "import cv2\n",
    "import os\n",
    "from PIL import Image\n",
    "import tensorflow as tf\n",
    "from tensorflow import keras\n",
    "os.environ[\"KERAS_BACKEND\"]= \"tensorflow\"\n",
    "from keras.utils import to_categorical\n",
    "import matplotlib.pyplot as plt\n",
    "#https://www.kaggle.com/datasets/iarunava/cell-images-for-detecting-malaria"
   ]
  },
  {
   "cell_type": "code",
   "execution_count": 2,
   "id": "2746073d",
   "metadata": {},
   "outputs": [],
   "source": [
    "img_dir=\"cell_images/\"\n",
    "Size=64\n",
    "dataset= []\n",
    "label= []\n",
    "\n",
    "parasitized_images= os.listdir(img_dir + \"Parasitized/\")\n",
    "for i, image_name in enumerate(parasitized_images):\n",
    "    if (image_name.split('.')[1]==\"png\"):\n",
    "        image=cv2.imread(img_dir + \"Parasitized/\" + image_name)\n",
    "        image= Image.fromarray(image, 'RGB')\n",
    "        image= image.resize((Size, Size))\n",
    "        image= np.asarray(image) / 255\n",
    "        dataset.append(np.array(image))\n",
    "        label.append(0)\n",
    "        \n",
    "uninfected_images= os.listdir(img_dir + \"Uninfected/\")\n",
    "for i, image_name in enumerate(uninfected_images):\n",
    "    if (image_name.split('.')[1]==\"png\"):\n",
    "        image=cv2.imread(img_dir + \"Uninfected/\" + image_name)\n",
    "        image= Image.fromarray(image, 'RGB')\n",
    "        image= image.resize((Size, Size))\n",
    "        image=np.asarray(image) / 255.0\n",
    "        dataset.append(np.array(image))\n",
    "        label.append(1)\n"
   ]
  },
  {
   "cell_type": "code",
   "execution_count": 3,
   "id": "06327543",
   "metadata": {},
   "outputs": [
    {
     "data": {
      "text/plain": [
       "(27558, 64, 64, 3)"
      ]
     },
     "execution_count": 3,
     "metadata": {},
     "output_type": "execute_result"
    }
   ],
   "source": [
    "np.shape(dataset)"
   ]
  },
  {
   "cell_type": "code",
   "execution_count": 4,
   "id": "7119fd62",
   "metadata": {},
   "outputs": [
    {
     "data": {
      "text/plain": [
       "(27558,)"
      ]
     },
     "execution_count": 4,
     "metadata": {},
     "output_type": "execute_result"
    }
   ],
   "source": [
    "np.shape(label)"
   ]
  },
  {
   "cell_type": "code",
   "execution_count": 5,
   "id": "e0953bbc",
   "metadata": {},
   "outputs": [
    {
     "data": {
      "text/plain": [
       "array([0, 0, 0, ..., 1, 1, 1])"
      ]
     },
     "execution_count": 5,
     "metadata": {},
     "output_type": "execute_result"
    }
   ],
   "source": [
    "np.array(label)"
   ]
  },
  {
   "cell_type": "code",
   "execution_count": 6,
   "id": "41b01319",
   "metadata": {},
   "outputs": [
    {
     "data": {
      "text/plain": [
       "array([[[[0., 0., 0.],\n",
       "         [0., 0., 0.],\n",
       "         [0., 0., 0.],\n",
       "         ...,\n",
       "         [0., 0., 0.],\n",
       "         [0., 0., 0.],\n",
       "         [0., 0., 0.]],\n",
       "\n",
       "        [[0., 0., 0.],\n",
       "         [0., 0., 0.],\n",
       "         [0., 0., 0.],\n",
       "         ...,\n",
       "         [0., 0., 0.],\n",
       "         [0., 0., 0.],\n",
       "         [0., 0., 0.]],\n",
       "\n",
       "        [[0., 0., 0.],\n",
       "         [0., 0., 0.],\n",
       "         [0., 0., 0.],\n",
       "         ...,\n",
       "         [0., 0., 0.],\n",
       "         [0., 0., 0.],\n",
       "         [0., 0., 0.]],\n",
       "\n",
       "        ...,\n",
       "\n",
       "        [[0., 0., 0.],\n",
       "         [0., 0., 0.],\n",
       "         [0., 0., 0.],\n",
       "         ...,\n",
       "         [0., 0., 0.],\n",
       "         [0., 0., 0.],\n",
       "         [0., 0., 0.]],\n",
       "\n",
       "        [[0., 0., 0.],\n",
       "         [0., 0., 0.],\n",
       "         [0., 0., 0.],\n",
       "         ...,\n",
       "         [0., 0., 0.],\n",
       "         [0., 0., 0.],\n",
       "         [0., 0., 0.]],\n",
       "\n",
       "        [[0., 0., 0.],\n",
       "         [0., 0., 0.],\n",
       "         [0., 0., 0.],\n",
       "         ...,\n",
       "         [0., 0., 0.],\n",
       "         [0., 0., 0.],\n",
       "         [0., 0., 0.]]],\n",
       "\n",
       "\n",
       "       [[[0., 0., 0.],\n",
       "         [0., 0., 0.],\n",
       "         [0., 0., 0.],\n",
       "         ...,\n",
       "         [0., 0., 0.],\n",
       "         [0., 0., 0.],\n",
       "         [0., 0., 0.]],\n",
       "\n",
       "        [[0., 0., 0.],\n",
       "         [0., 0., 0.],\n",
       "         [0., 0., 0.],\n",
       "         ...,\n",
       "         [0., 0., 0.],\n",
       "         [0., 0., 0.],\n",
       "         [0., 0., 0.]],\n",
       "\n",
       "        [[0., 0., 0.],\n",
       "         [0., 0., 0.],\n",
       "         [0., 0., 0.],\n",
       "         ...,\n",
       "         [0., 0., 0.],\n",
       "         [0., 0., 0.],\n",
       "         [0., 0., 0.]],\n",
       "\n",
       "        ...,\n",
       "\n",
       "        [[0., 0., 0.],\n",
       "         [0., 0., 0.],\n",
       "         [0., 0., 0.],\n",
       "         ...,\n",
       "         [0., 0., 0.],\n",
       "         [0., 0., 0.],\n",
       "         [0., 0., 0.]],\n",
       "\n",
       "        [[0., 0., 0.],\n",
       "         [0., 0., 0.],\n",
       "         [0., 0., 0.],\n",
       "         ...,\n",
       "         [0., 0., 0.],\n",
       "         [0., 0., 0.],\n",
       "         [0., 0., 0.]],\n",
       "\n",
       "        [[0., 0., 0.],\n",
       "         [0., 0., 0.],\n",
       "         [0., 0., 0.],\n",
       "         ...,\n",
       "         [0., 0., 0.],\n",
       "         [0., 0., 0.],\n",
       "         [0., 0., 0.]]],\n",
       "\n",
       "\n",
       "       [[[0., 0., 0.],\n",
       "         [0., 0., 0.],\n",
       "         [0., 0., 0.],\n",
       "         ...,\n",
       "         [0., 0., 0.],\n",
       "         [0., 0., 0.],\n",
       "         [0., 0., 0.]],\n",
       "\n",
       "        [[0., 0., 0.],\n",
       "         [0., 0., 0.],\n",
       "         [0., 0., 0.],\n",
       "         ...,\n",
       "         [0., 0., 0.],\n",
       "         [0., 0., 0.],\n",
       "         [0., 0., 0.]],\n",
       "\n",
       "        [[0., 0., 0.],\n",
       "         [0., 0., 0.],\n",
       "         [0., 0., 0.],\n",
       "         ...,\n",
       "         [0., 0., 0.],\n",
       "         [0., 0., 0.],\n",
       "         [0., 0., 0.]],\n",
       "\n",
       "        ...,\n",
       "\n",
       "        [[0., 0., 0.],\n",
       "         [0., 0., 0.],\n",
       "         [0., 0., 0.],\n",
       "         ...,\n",
       "         [0., 0., 0.],\n",
       "         [0., 0., 0.],\n",
       "         [0., 0., 0.]],\n",
       "\n",
       "        [[0., 0., 0.],\n",
       "         [0., 0., 0.],\n",
       "         [0., 0., 0.],\n",
       "         ...,\n",
       "         [0., 0., 0.],\n",
       "         [0., 0., 0.],\n",
       "         [0., 0., 0.]],\n",
       "\n",
       "        [[0., 0., 0.],\n",
       "         [0., 0., 0.],\n",
       "         [0., 0., 0.],\n",
       "         ...,\n",
       "         [0., 0., 0.],\n",
       "         [0., 0., 0.],\n",
       "         [0., 0., 0.]]],\n",
       "\n",
       "\n",
       "       ...,\n",
       "\n",
       "\n",
       "       [[[0., 0., 0.],\n",
       "         [0., 0., 0.],\n",
       "         [0., 0., 0.],\n",
       "         ...,\n",
       "         [0., 0., 0.],\n",
       "         [0., 0., 0.],\n",
       "         [0., 0., 0.]],\n",
       "\n",
       "        [[0., 0., 0.],\n",
       "         [0., 0., 0.],\n",
       "         [0., 0., 0.],\n",
       "         ...,\n",
       "         [0., 0., 0.],\n",
       "         [0., 0., 0.],\n",
       "         [0., 0., 0.]],\n",
       "\n",
       "        [[0., 0., 0.],\n",
       "         [0., 0., 0.],\n",
       "         [0., 0., 0.],\n",
       "         ...,\n",
       "         [0., 0., 0.],\n",
       "         [0., 0., 0.],\n",
       "         [0., 0., 0.]],\n",
       "\n",
       "        ...,\n",
       "\n",
       "        [[0., 0., 0.],\n",
       "         [0., 0., 0.],\n",
       "         [0., 0., 0.],\n",
       "         ...,\n",
       "         [0., 0., 0.],\n",
       "         [0., 0., 0.],\n",
       "         [0., 0., 0.]],\n",
       "\n",
       "        [[0., 0., 0.],\n",
       "         [0., 0., 0.],\n",
       "         [0., 0., 0.],\n",
       "         ...,\n",
       "         [0., 0., 0.],\n",
       "         [0., 0., 0.],\n",
       "         [0., 0., 0.]],\n",
       "\n",
       "        [[0., 0., 0.],\n",
       "         [0., 0., 0.],\n",
       "         [0., 0., 0.],\n",
       "         ...,\n",
       "         [0., 0., 0.],\n",
       "         [0., 0., 0.],\n",
       "         [0., 0., 0.]]],\n",
       "\n",
       "\n",
       "       [[[0., 0., 0.],\n",
       "         [0., 0., 0.],\n",
       "         [0., 0., 0.],\n",
       "         ...,\n",
       "         [0., 0., 0.],\n",
       "         [0., 0., 0.],\n",
       "         [0., 0., 0.]],\n",
       "\n",
       "        [[0., 0., 0.],\n",
       "         [0., 0., 0.],\n",
       "         [0., 0., 0.],\n",
       "         ...,\n",
       "         [0., 0., 0.],\n",
       "         [0., 0., 0.],\n",
       "         [0., 0., 0.]],\n",
       "\n",
       "        [[0., 0., 0.],\n",
       "         [0., 0., 0.],\n",
       "         [0., 0., 0.],\n",
       "         ...,\n",
       "         [0., 0., 0.],\n",
       "         [0., 0., 0.],\n",
       "         [0., 0., 0.]],\n",
       "\n",
       "        ...,\n",
       "\n",
       "        [[0., 0., 0.],\n",
       "         [0., 0., 0.],\n",
       "         [0., 0., 0.],\n",
       "         ...,\n",
       "         [0., 0., 0.],\n",
       "         [0., 0., 0.],\n",
       "         [0., 0., 0.]],\n",
       "\n",
       "        [[0., 0., 0.],\n",
       "         [0., 0., 0.],\n",
       "         [0., 0., 0.],\n",
       "         ...,\n",
       "         [0., 0., 0.],\n",
       "         [0., 0., 0.],\n",
       "         [0., 0., 0.]],\n",
       "\n",
       "        [[0., 0., 0.],\n",
       "         [0., 0., 0.],\n",
       "         [0., 0., 0.],\n",
       "         ...,\n",
       "         [0., 0., 0.],\n",
       "         [0., 0., 0.],\n",
       "         [0., 0., 0.]]],\n",
       "\n",
       "\n",
       "       [[[0., 0., 0.],\n",
       "         [0., 0., 0.],\n",
       "         [0., 0., 0.],\n",
       "         ...,\n",
       "         [0., 0., 0.],\n",
       "         [0., 0., 0.],\n",
       "         [0., 0., 0.]],\n",
       "\n",
       "        [[0., 0., 0.],\n",
       "         [0., 0., 0.],\n",
       "         [0., 0., 0.],\n",
       "         ...,\n",
       "         [0., 0., 0.],\n",
       "         [0., 0., 0.],\n",
       "         [0., 0., 0.]],\n",
       "\n",
       "        [[0., 0., 0.],\n",
       "         [0., 0., 0.],\n",
       "         [0., 0., 0.],\n",
       "         ...,\n",
       "         [0., 0., 0.],\n",
       "         [0., 0., 0.],\n",
       "         [0., 0., 0.]],\n",
       "\n",
       "        ...,\n",
       "\n",
       "        [[0., 0., 0.],\n",
       "         [0., 0., 0.],\n",
       "         [0., 0., 0.],\n",
       "         ...,\n",
       "         [0., 0., 0.],\n",
       "         [0., 0., 0.],\n",
       "         [0., 0., 0.]],\n",
       "\n",
       "        [[0., 0., 0.],\n",
       "         [0., 0., 0.],\n",
       "         [0., 0., 0.],\n",
       "         ...,\n",
       "         [0., 0., 0.],\n",
       "         [0., 0., 0.],\n",
       "         [0., 0., 0.]],\n",
       "\n",
       "        [[0., 0., 0.],\n",
       "         [0., 0., 0.],\n",
       "         [0., 0., 0.],\n",
       "         ...,\n",
       "         [0., 0., 0.],\n",
       "         [0., 0., 0.],\n",
       "         [0., 0., 0.]]]])"
      ]
     },
     "execution_count": 6,
     "metadata": {},
     "output_type": "execute_result"
    }
   ],
   "source": [
    "np.array(dataset)"
   ]
  },
  {
   "cell_type": "code",
   "execution_count": 7,
   "id": "9d7ecd4c",
   "metadata": {
    "scrolled": true
   },
   "outputs": [
    {
     "name": "stdout",
     "output_type": "stream",
     "text": [
      "Model: \"model\"\n",
      "_________________________________________________________________\n",
      " Layer (type)                Output Shape              Param #   \n",
      "=================================================================\n",
      " input_1 (InputLayer)        [(None, 64, 64, 3)]       0         \n",
      "                                                                 \n",
      " conv2d (Conv2D)             (None, 64, 64, 32)        896       \n",
      "                                                                 \n",
      " conv2d_1 (Conv2D)           (None, 64, 64, 32)        9248      \n",
      "                                                                 \n",
      " max_pooling2d (MaxPooling2D  (None, 32, 32, 32)       0         \n",
      " )                                                               \n",
      "                                                                 \n",
      " batch_normalization (BatchN  (None, 32, 32, 32)       128       \n",
      " ormalization)                                                   \n",
      "                                                                 \n",
      " dropout (Dropout)           (None, 32, 32, 32)        0         \n",
      "                                                                 \n",
      " conv2d_2 (Conv2D)           (None, 32, 32, 64)        18496     \n",
      "                                                                 \n",
      " conv2d_3 (Conv2D)           (None, 32, 32, 64)        36928     \n",
      "                                                                 \n",
      " max_pooling2d_1 (MaxPooling  (None, 16, 16, 64)       0         \n",
      " 2D)                                                             \n",
      "                                                                 \n",
      " batch_normalization_1 (Batc  (None, 16, 16, 64)       256       \n",
      " hNormalization)                                                 \n",
      "                                                                 \n",
      " dropout_1 (Dropout)         (None, 16, 16, 64)        0         \n",
      "                                                                 \n",
      " conv2d_4 (Conv2D)           (None, 16, 16, 128)       73856     \n",
      "                                                                 \n",
      " conv2d_5 (Conv2D)           (None, 16, 16, 128)       147584    \n",
      "                                                                 \n",
      " max_pooling2d_2 (MaxPooling  (None, 8, 8, 128)        0         \n",
      " 2D)                                                             \n",
      "                                                                 \n",
      " batch_normalization_2 (Batc  (None, 8, 8, 128)        512       \n",
      " hNormalization)                                                 \n",
      "                                                                 \n",
      " dropout_2 (Dropout)         (None, 8, 8, 128)         0         \n",
      "                                                                 \n",
      " flatten (Flatten)           (None, 8192)              0         \n",
      "                                                                 \n",
      " dense (Dense)               (None, 1024)              8389632   \n",
      "                                                                 \n",
      " batch_normalization_3 (Batc  (None, 1024)             4096      \n",
      " hNormalization)                                                 \n",
      "                                                                 \n",
      " dropout_3 (Dropout)         (None, 1024)              0         \n",
      "                                                                 \n",
      " dense_1 (Dense)             (None, 1024)              1049600   \n",
      "                                                                 \n",
      " batch_normalization_4 (Batc  (None, 1024)             4096      \n",
      " hNormalization)                                                 \n",
      "                                                                 \n",
      " dropout_4 (Dropout)         (None, 1024)              0         \n",
      "                                                                 \n",
      " dense_2 (Dense)             (None, 2)                 2050      \n",
      "                                                                 \n",
      "=================================================================\n",
      "Total params: 9,737,378\n",
      "Trainable params: 9,732,834\n",
      "Non-trainable params: 4,544\n",
      "_________________________________________________________________\n"
     ]
    }
   ],
   "source": [
    "#### define the model\n",
    "input_shape= (Size, Size, 3)\n",
    "inputs= keras.layers.Input(shape=input_shape)\n",
    "\n",
    "x= keras.layers.Conv2D(32, 3, activation=\"relu\", padding=\"same\")(inputs)\n",
    "x= keras.layers.Conv2D(32, 3, activation=\"relu\", padding=\"same\")(x)\n",
    "x= keras.layers.MaxPooling2D((2,2))(x)\n",
    "x= keras.layers.BatchNormalization()(x)\n",
    "x= keras.layers.Dropout(0.2)(x)\n",
    "\n",
    "\n",
    "x= keras.layers.Conv2D(64, 3, activation=\"relu\", padding=\"same\")(x)\n",
    "x= keras.layers.Conv2D(64, 3, activation=\"relu\", padding=\"same\")(x)\n",
    "x= keras.layers.MaxPooling2D((2,2))(x)\n",
    "x= keras.layers.BatchNormalization()(x)\n",
    "x= keras.layers.Dropout(0.2)(x)\n",
    "\n",
    "\n",
    "x= keras.layers.Conv2D(128, 3, activation=\"relu\", padding=\"same\")(x)\n",
    "x= keras.layers.Conv2D(128, 3, activation=\"relu\", padding=\"same\")(x)\n",
    "x= keras.layers.MaxPooling2D((2,2))(x)\n",
    "x= keras.layers.BatchNormalization()(x)\n",
    "x= keras.layers.Dropout(0.2)(x)\n",
    "\n",
    "x= keras.layers.Flatten()(x)\n",
    "\n",
    "x=keras.layers.Dense(1024, activation=\"relu\")(x)\n",
    "x= keras.layers.BatchNormalization()(x)\n",
    "x= keras.layers.Dropout(0.2)(x)\n",
    "\n",
    "\n",
    "x=keras.layers.Dense(1024, activation=\"relu\")(x)\n",
    "x= keras.layers.BatchNormalization()(x)\n",
    "x= keras.layers.Dropout(0.2)(x)\n",
    "\n",
    "out= keras.layers.Dense(2, activation=\"sigmoid\")(x)\n",
    "\n",
    "model=keras.Model(inputs=inputs, outputs=out)\n",
    "model.compile(optimizer=\"adam\", loss=\"categorical_crossentropy\", metrics=[\"accuracy\"])\n",
    "model.summary()\n"
   ]
  },
  {
   "cell_type": "code",
   "execution_count": 8,
   "id": "e1187851",
   "metadata": {},
   "outputs": [],
   "source": [
    "from sklearn.model_selection import train_test_split"
   ]
  },
  {
   "cell_type": "code",
   "execution_count": 9,
   "id": "6c32b6f3",
   "metadata": {},
   "outputs": [],
   "source": [
    "X_train, X_test, y_train, y_test = train_test_split(dataset, to_categorical(np.array(label)), test_size=0.2, random_state=42)"
   ]
  },
  {
   "cell_type": "code",
   "execution_count": 23,
   "id": "9467758e",
   "metadata": {},
   "outputs": [
    {
     "data": {
      "text/plain": [
       "(5512, 2)"
      ]
     },
     "execution_count": 23,
     "metadata": {},
     "output_type": "execute_result"
    }
   ],
   "source": [
    "y_test.shape\n"
   ]
  },
  {
   "cell_type": "code",
   "execution_count": 11,
   "id": "d821ad76",
   "metadata": {
    "scrolled": true
   },
   "outputs": [
    {
     "name": "stdout",
     "output_type": "stream",
     "text": [
      "Epoch 1/40\n",
      "156/156 [==============================] - 108s 677ms/step - loss: 0.6023 - accuracy: 0.7629 - val_loss: 2.7401 - val_accuracy: 0.5029\n",
      "Epoch 2/40\n",
      "156/156 [==============================] - 108s 691ms/step - loss: 0.1580 - accuracy: 0.9444 - val_loss: 2.2472 - val_accuracy: 0.5048\n",
      "Epoch 3/40\n",
      "156/156 [==============================] - 118s 757ms/step - loss: 0.1328 - accuracy: 0.9538 - val_loss: 0.5893 - val_accuracy: 0.8322\n",
      "Epoch 4/40\n",
      "156/156 [==============================] - 113s 724ms/step - loss: 0.1204 - accuracy: 0.9586 - val_loss: 0.2081 - val_accuracy: 0.9306\n",
      "Epoch 5/40\n",
      "156/156 [==============================] - 114s 733ms/step - loss: 0.1154 - accuracy: 0.9594 - val_loss: 0.1323 - val_accuracy: 0.9596\n",
      "Epoch 6/40\n",
      "156/156 [==============================] - 119s 763ms/step - loss: 0.1114 - accuracy: 0.9601 - val_loss: 0.1417 - val_accuracy: 0.9429\n",
      "Epoch 7/40\n",
      "156/156 [==============================] - 116s 743ms/step - loss: 0.1045 - accuracy: 0.9641 - val_loss: 0.2038 - val_accuracy: 0.9274\n",
      "Epoch 8/40\n",
      "156/156 [==============================] - 119s 761ms/step - loss: 0.1008 - accuracy: 0.9639 - val_loss: 0.1078 - val_accuracy: 0.9637\n",
      "Epoch 9/40\n",
      "156/156 [==============================] - 119s 760ms/step - loss: 0.0964 - accuracy: 0.9664 - val_loss: 0.1227 - val_accuracy: 0.9528\n",
      "Epoch 10/40\n",
      "156/156 [==============================] - 119s 764ms/step - loss: 0.0911 - accuracy: 0.9680 - val_loss: 0.1098 - val_accuracy: 0.9683\n",
      "Epoch 11/40\n",
      "156/156 [==============================] - 119s 761ms/step - loss: 0.0871 - accuracy: 0.9702 - val_loss: 0.1472 - val_accuracy: 0.9542\n",
      "Epoch 12/40\n",
      "156/156 [==============================] - 119s 763ms/step - loss: 0.0798 - accuracy: 0.9705 - val_loss: 0.1186 - val_accuracy: 0.9601\n",
      "Epoch 13/40\n",
      "156/156 [==============================] - 116s 741ms/step - loss: 0.0740 - accuracy: 0.9740 - val_loss: 0.1685 - val_accuracy: 0.9406\n",
      "Epoch 14/40\n",
      "156/156 [==============================] - 118s 756ms/step - loss: 0.0709 - accuracy: 0.9753 - val_loss: 0.1253 - val_accuracy: 0.9551\n",
      "Epoch 15/40\n",
      "156/156 [==============================] - 117s 751ms/step - loss: 0.0656 - accuracy: 0.9777 - val_loss: 0.1317 - val_accuracy: 0.9560\n",
      "Epoch 16/40\n",
      "156/156 [==============================] - 108s 689ms/step - loss: 0.0612 - accuracy: 0.9778 - val_loss: 0.1702 - val_accuracy: 0.9424\n",
      "Epoch 17/40\n",
      "156/156 [==============================] - 107s 686ms/step - loss: 0.0536 - accuracy: 0.9813 - val_loss: 0.2060 - val_accuracy: 0.9415\n",
      "Epoch 18/40\n",
      "156/156 [==============================] - 108s 694ms/step - loss: 0.0557 - accuracy: 0.9801 - val_loss: 0.1973 - val_accuracy: 0.9374\n",
      "Epoch 19/40\n",
      "156/156 [==============================] - 107s 684ms/step - loss: 0.0546 - accuracy: 0.9808 - val_loss: 0.1901 - val_accuracy: 0.9420\n",
      "Epoch 20/40\n",
      "156/156 [==============================] - 107s 687ms/step - loss: 0.0478 - accuracy: 0.9836 - val_loss: 0.1108 - val_accuracy: 0.9642\n",
      "Epoch 21/40\n",
      "156/156 [==============================] - 107s 684ms/step - loss: 0.0423 - accuracy: 0.9853 - val_loss: 0.1875 - val_accuracy: 0.9524\n",
      "Epoch 22/40\n",
      "156/156 [==============================] - 106s 682ms/step - loss: 0.0476 - accuracy: 0.9830 - val_loss: 0.2988 - val_accuracy: 0.9338\n",
      "Epoch 23/40\n",
      "156/156 [==============================] - 110s 708ms/step - loss: 0.0381 - accuracy: 0.9869 - val_loss: 0.1278 - val_accuracy: 0.9651\n",
      "Epoch 24/40\n",
      "156/156 [==============================] - 114s 728ms/step - loss: 0.0304 - accuracy: 0.9896 - val_loss: 0.1197 - val_accuracy: 0.9592\n",
      "Epoch 25/40\n",
      "156/156 [==============================] - 113s 726ms/step - loss: 0.0297 - accuracy: 0.9897 - val_loss: 0.3312 - val_accuracy: 0.9243\n",
      "Epoch 26/40\n",
      "156/156 [==============================] - 113s 727ms/step - loss: 0.0323 - accuracy: 0.9892 - val_loss: 0.1220 - val_accuracy: 0.9596\n",
      "Epoch 27/40\n",
      "156/156 [==============================] - 114s 727ms/step - loss: 0.0240 - accuracy: 0.9917 - val_loss: 0.1152 - val_accuracy: 0.9678\n",
      "Epoch 28/40\n",
      "156/156 [==============================] - 113s 725ms/step - loss: 0.0306 - accuracy: 0.9896 - val_loss: 0.1822 - val_accuracy: 0.9633\n",
      "Epoch 29/40\n",
      "156/156 [==============================] - 113s 727ms/step - loss: 0.0240 - accuracy: 0.9919 - val_loss: 0.1293 - val_accuracy: 0.9592\n",
      "Epoch 30/40\n",
      "156/156 [==============================] - 113s 726ms/step - loss: 0.0235 - accuracy: 0.9919 - val_loss: 0.1749 - val_accuracy: 0.9569\n",
      "Epoch 31/40\n",
      "156/156 [==============================] - 113s 726ms/step - loss: 0.0236 - accuracy: 0.9920 - val_loss: 0.1379 - val_accuracy: 0.9587\n",
      "Epoch 32/40\n",
      "156/156 [==============================] - 113s 727ms/step - loss: 0.0253 - accuracy: 0.9921 - val_loss: 0.1588 - val_accuracy: 0.9596\n",
      "Epoch 33/40\n",
      "156/156 [==============================] - 113s 727ms/step - loss: 0.0197 - accuracy: 0.9933 - val_loss: 0.1901 - val_accuracy: 0.9605\n",
      "Epoch 34/40\n",
      "156/156 [==============================] - 114s 730ms/step - loss: 0.0192 - accuracy: 0.9933 - val_loss: 0.4580 - val_accuracy: 0.9025\n",
      "Epoch 35/40\n",
      "156/156 [==============================] - 114s 729ms/step - loss: 0.0228 - accuracy: 0.9927 - val_loss: 0.2766 - val_accuracy: 0.9587\n",
      "Epoch 36/40\n",
      "156/156 [==============================] - 113s 727ms/step - loss: 0.0233 - accuracy: 0.9923 - val_loss: 0.1868 - val_accuracy: 0.9474\n",
      "Epoch 37/40\n",
      "156/156 [==============================] - 114s 731ms/step - loss: 0.0235 - accuracy: 0.9921 - val_loss: 0.1758 - val_accuracy: 0.9560\n",
      "Epoch 38/40\n",
      "156/156 [==============================] - 114s 729ms/step - loss: 0.0189 - accuracy: 0.9933 - val_loss: 0.1863 - val_accuracy: 0.9510\n",
      "Epoch 39/40\n",
      "156/156 [==============================] - 113s 727ms/step - loss: 0.0155 - accuracy: 0.9948 - val_loss: 0.2966 - val_accuracy: 0.9510\n",
      "Epoch 40/40\n",
      "156/156 [==============================] - 113s 726ms/step - loss: 0.0136 - accuracy: 0.9954 - val_loss: 0.2307 - val_accuracy: 0.9560\n",
      "173/173 [==============================] - 6s 35ms/step - loss: 0.3078 - accuracy: 0.9536\n",
      "Test_Accuracy: 95.36%\n"
     ]
    }
   ],
   "source": [
    "history= model.fit(np.array(X_train), y_train, batch_size=128, verbose=1, epochs=40,\n",
    "                  validation_split=0.1)\n",
    "\n",
    "print(\"Test_Accuracy: {:.2f}%\".format(model.evaluate(np.array(X_test), np.array(y_test))[1]*100))\n"
   ]
  },
  {
   "cell_type": "code",
   "execution_count": 13,
   "id": "a49b0ec8",
   "metadata": {},
   "outputs": [
    {
     "data": {
      "image/png": "[encoded data removed]",
      "text/plain": [
       "<Figure size 864x288 with 2 Axes>"
      ]
     },
     "metadata": {
      "needs_background": "light"
     },
     "output_type": "display_data"
    }
   ],
   "source": [
    "f, (ax1, ax2) = plt.subplots(1, 2, figsize=(12, 4))\n",
    "t = f.suptitle('CNN Performance', fontsize=12)\n",
    "f.subplots_adjust(top=0.85, wspace=0.3)\n",
    "\n",
    "max_epoch = len(history.history['accuracy'])+1\n",
    "epoch_list = list(range(1,max_epoch))\n",
    "ax1.plot(epoch_list, history.history['accuracy'], label='Train Accuracy')\n",
    "ax1.plot(epoch_list, history.history['val_accuracy'], label='Validation Accuracy')\n",
    "ax1.set_xticks(np.arange(1, max_epoch, 5))\n",
    "ax1.set_ylabel('Accuracy Value')\n",
    "ax1.set_xlabel('Epoch')\n",
    "ax1.set_title('Accuracy')\n",
    "l1 = ax1.legend(loc=\"best\")\n",
    "\n",
    "ax2.plot(epoch_list, history.history['loss'], label='Train Loss')\n",
    "ax2.plot(epoch_list, history.history['val_loss'], label='Validation Loss')\n",
    "ax2.set_xticks(np.arange(1, max_epoch, 5))\n",
    "ax2.set_ylabel('Loss Value')\n",
    "ax2.set_xlabel('Epoch')\n",
    "ax2.set_title('Loss')\n",
    "l2 = ax2.legend(loc=\"best\")"
   ]
  },
  {
   "cell_type": "code",
   "execution_count": 14,
   "id": "9dfe60be",
   "metadata": {},
   "outputs": [],
   "source": [
    "model.save('malaria_cnn.h5')\n"
   ]
  },
  {
   "cell_type": "code",
   "execution_count": 75,
   "id": "3c823690",
   "metadata": {},
   "outputs": [],
   "source": [
    "loaded_model = tf.keras.models.load_model('malaria_cnn.h5')\n"
   ]
  },
  {
   "cell_type": "code",
   "execution_count": 27,
   "id": "617e045a",
   "metadata": {},
   "outputs": [
    {
     "name": "stdout",
     "output_type": "stream",
     "text": [
      "1/1 [==============================] - 0s 16ms/step\n",
      "The prediction for this image is:  [[0.9854582  0.00174201]]\n",
      "The actual label for this image is:  [1. 0.]\n"
     ]
    },
    {
     "data": {
      "image/png": "[encoded data removed]",
      "text/plain": [
       "<Figure size 432x288 with 1 Axes>"
      ]
     },
     "metadata": {
      "needs_background": "light"
     },
     "output_type": "display_data"
    }
   ],
   "source": [
    "n=24  #Select the index of image to be loaded for testing\n",
    "img = np.array(X_test[n])\n",
    "plt.imshow(img)\n",
    "input_img = np.expand_dims(img, axis=0) #Expand dims so the input is (num images, x, y, c)\n",
    "print(\"The prediction for this image is: \", model.predict(input_img))\n",
    "print(\"The actual label for this image is: \", y_test[n])"
   ]
  },
  {
   "cell_type": "code",
   "execution_count": 22,
   "id": "3ca43734",
   "metadata": {},
   "outputs": [
    {
     "name": "stdout",
     "output_type": "stream",
     "text": [
      "173/173 [==============================] - 7s 43ms/step - loss: 0.3078 - accuracy: 0.9536\n",
      "Accuracy =  95.35558819770813 %\n"
     ]
    }
   ],
   "source": [
    "_, acc = model.evaluate(np.array(X_test), y_test)\n",
    "print(\"Accuracy = \", (acc * 100.0), \"%\")"
   ]
  },
  {
   "cell_type": "code",
   "execution_count": 30,
   "id": "344fe076",
   "metadata": {
    "scrolled": true
   },
   "outputs": [
    {
     "name": "stdout",
     "output_type": "stream",
     "text": [
      "173/173 [==============================] - 6s 34ms/step\n"
     ]
    }
   ],
   "source": [
    "y_pred = (model.predict(np.array(X_test))>= mythreshold).astype(int)"
   ]
  },
  {
   "cell_type": "code",
   "execution_count": 35,
   "id": "41974af9",
   "metadata": {},
   "outputs": [
    {
     "data": {
      "text/plain": [
       "array([[1, 0],\n",
       "       [1, 0],\n",
       "       [0, 1],\n",
       "       ...,\n",
       "       [1, 0],\n",
       "       [0, 1],\n",
       "       [1, 0]])"
      ]
     },
     "execution_count": 35,
     "metadata": {},
     "output_type": "execute_result"
    }
   ],
   "source": [
    "y_pred"
   ]
  },
  {
   "cell_type": "code",
   "execution_count": 41,
   "id": "4d719389",
   "metadata": {},
   "outputs": [
    {
     "data": {
      "text/plain": [
       "array([[1., 0.],\n",
       "       [1., 0.],\n",
       "       [0., 1.],\n",
       "       ...,\n",
       "       [1., 0.],\n",
       "       [1., 0.],\n",
       "       [1., 0.]], dtype=float32)"
      ]
     },
     "execution_count": 41,
     "metadata": {},
     "output_type": "execute_result"
    }
   ],
   "source": [
    "y_test"
   ]
  },
  {
   "cell_type": "code",
   "execution_count": 54,
   "id": "dd721ad5",
   "metadata": {},
   "outputs": [
    {
     "name": "stdout",
     "output_type": "stream",
     "text": [
      "173/173 [==============================] - 13s 78ms/step\n",
      "[[2613  184]\n",
      " [  70 2645]]\n"
     ]
    }
   ],
   "source": [
    "mythreshold=0.5\n",
    "from sklearn.metrics import confusion_matrix\n",
    "\n",
    "y_pred = (model.predict(np.array(X_test))>= mythreshold).astype(int)\n",
    "cm=confusion_matrix(y_test.argmax(axis=1), y_pred.argmax(axis=1))  \n",
    "print(cm)"
   ]
  },
  {
   "cell_type": "code",
   "execution_count": 50,
   "id": "e969d02f",
   "metadata": {},
   "outputs": [
    {
     "name": "stdout",
     "output_type": "stream",
     "text": [
      "173/173 [==============================] - 12s 72ms/step\n"
     ]
    },
    {
     "data": {
      "image/png": "[encoded data removed]",
      "text/plain": [
       "<Figure size 432x288 with 1 Axes>"
      ]
     },
     "metadata": {
      "needs_background": "light"
     },
     "output_type": "display_data"
    }
   ],
   "source": [
    "from sklearn.metrics import roc_curve\n",
    "y_preds = model.predict(np.array(X_test))\n",
    "\n",
    "fpr, tpr, thresholds = roc_curve(y_test.argmax(axis=1), y_pred.argmax(axis=1))\n",
    "plt.figure(1)\n",
    "plt.plot([0, 1], [0, 1], 'y--')\n",
    "plt.plot(fpr, tpr, marker='.')\n",
    "plt.xlabel('False positive rate')\n",
    "plt.ylabel('True positive rate')\n",
    "plt.title('ROC curve')\n",
    "plt.show()"
   ]
  },
  {
   "cell_type": "code",
   "execution_count": 51,
   "id": "8aa9e276",
   "metadata": {},
   "outputs": [
    {
     "name": "stdout",
     "output_type": "stream",
     "text": [
      "Ideal threshold is:  1    1\n",
      "Name: thresholds, dtype: int64\n"
     ]
    }
   ],
   "source": [
    "import pandas as pd\n",
    "i = np.arange(len(tpr)) \n",
    "roc = pd.DataFrame({'tf' : pd.Series(tpr-(1-fpr), index=i), 'thresholds' : pd.Series(thresholds, index=i)})\n",
    "ideal_roc_thresh = roc.iloc[(roc.tf-0).abs().argsort()[:1]]  #Locate the point where the value is close to 0\n",
    "print(\"Ideal threshold is: \", ideal_roc_thresh['thresholds']) "
   ]
  },
  {
   "cell_type": "code",
   "execution_count": 52,
   "id": "462f709f",
   "metadata": {},
   "outputs": [
    {
     "name": "stdout",
     "output_type": "stream",
     "text": [
      "Area under curve, AUC =  0.9542162709190523\n"
     ]
    }
   ],
   "source": [
    "from sklearn.metrics import auc\n",
    "auc_value = auc(fpr, tpr)\n",
    "print(\"Area under curve, AUC = \", auc_value)"
   ]
  },
  {
   "cell_type": "code",
   "execution_count": null,
   "id": "f432f9f0",
   "metadata": {},
   "outputs": [],
   "source": []
  },
  {
   "cell_type": "code",
   "execution_count": null,
   "id": "1300e36d",
   "metadata": {},
   "outputs": [],
   "source": []
  },
  {
   "cell_type": "code",
   "execution_count": null,
   "id": "2a0959b2",
   "metadata": {},
   "outputs": [],
   "source": []
  },
  {
   "cell_type": "code",
   "execution_count": null,
   "id": "649505a4",
   "metadata": {},
   "outputs": [],
   "source": []
  }
 ],
 "metadata": {
  "kernelspec": {
   "display_name": "Python 3 (ipykernel)",
   "language": "python",
   "name": "python3"
  },
  "language_info": {
   "codemirror_mode": {
    "name": "ipython",
    "version": 3
   },
   "file_extension": ".py",
   "mimetype": "text/x-python",
   "name": "python",
   "nbconvert_exporter": "python",
   "pygments_lexer": "ipython3",
   "version": "3.9.12"
  }
 },
 "nbformat": 4,
 "nbformat_minor": 5
}
