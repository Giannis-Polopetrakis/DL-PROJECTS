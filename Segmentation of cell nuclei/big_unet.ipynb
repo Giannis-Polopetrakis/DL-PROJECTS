{
 "cells": [
  {
   "cell_type": "code",
   "execution_count": 22,
   "id": "84c5b058",
   "metadata": {},
   "outputs": [],
   "source": [
    "import tensorflow as tf\n",
    "import tensorflow_datasets as tfds\n",
    "\n",
    "import matplotlib.pyplot as plt\n",
    "import numpy as np\n",
    "#https://www.kaggle.com/c/data-science-bowl-2018/data"
   ]
  },
  {
   "cell_type": "code",
   "execution_count": 23,
   "id": "c3f8826c",
   "metadata": {},
   "outputs": [],
   "source": [
    "def conv_block(inputs, filters, kernel_size=3):\n",
    "    x= inputs\n",
    "    for i in range(2):\n",
    "        x= tf.keras.layers.Conv2D(filters, kernel_size, kernel_initializer=\"he_normal\",\n",
    "                                 padding=\"same\")(x)\n",
    "        x= tf.keras.layers.Activation(\"relu\")(x)\n",
    "    return x\n",
    "    "
   ]
  },
  {
   "cell_type": "code",
   "execution_count": 24,
   "id": "1797b585",
   "metadata": {},
   "outputs": [],
   "source": [
    "def encoder_block(inputs, filters=64):\n",
    "    f= conv_block(inputs, filters=filters) ##output for the concat\n",
    "    p= tf.keras.layers.MaxPooling2D((2,2))(f)\n",
    "    p= tf.keras.layers.Dropout(0.2)(p)\n",
    "    return f, p\n",
    "    "
   ]
  },
  {
   "cell_type": "code",
   "execution_count": 25,
   "id": "0d800fc4",
   "metadata": {},
   "outputs": [],
   "source": [
    "def encoder(inputs):\n",
    "    filters=64\n",
    "    f1, p1 = encoder_block(inputs, filters)\n",
    "    f2, p2 = encoder_block(p1, filters*2)\n",
    "    f3, p3 = encoder_block(p2, filters*4)\n",
    "    f4, p4 = encoder_block(p3, filters*8)\n",
    "    return p4, (f1, f2, f3, f4)"
   ]
  },
  {
   "cell_type": "code",
   "execution_count": 26,
   "id": "672803aa",
   "metadata": {},
   "outputs": [],
   "source": [
    "def bottleneck(inputs):\n",
    "    bottle_neck = conv_block(inputs, 1024)\n",
    "    return bottle_neck"
   ]
  },
  {
   "cell_type": "code",
   "execution_count": 27,
   "id": "2375831d",
   "metadata": {},
   "outputs": [],
   "source": [
    "def decoder_block(inputs, conv_out, filters=512, kernel_size=3, strides=2):\n",
    "    u= tf.keras.layers.Conv2DTranspose(filters, kernel_size, strides, padding=\"same\")(inputs)\n",
    "    cat= tf.keras.layers.concatenate([u, conv_out])\n",
    "    cat= tf.keras.layers.Dropout(0.2)(cat)\n",
    "    cat= conv_block(cat, filters, kernel_size)\n",
    "    return cat"
   ]
  },
  {
   "cell_type": "code",
   "execution_count": 28,
   "id": "23a215f6",
   "metadata": {},
   "outputs": [],
   "source": [
    "def decoder(inputs, convs, out_channels,filters=512,):\n",
    "    f1, f2, f3, f4 = convs\n",
    "    \n",
    "    c6 = decoder_block(inputs, f4, filters)\n",
    "    c7 = decoder_block(c6, f3, filters/2)\n",
    "    c8= decoder_block(c7, f2, filters/4)\n",
    "    c9= decoder_block(c8, f1, filters/8)\n",
    "    \n",
    "    outputs= tf.keras.layers.Conv2D(out_channels, 1, activation=\"sigmoid\")(c9)\n",
    "    return outputs"
   ]
  },
  {
   "cell_type": "code",
   "execution_count": 29,
   "id": "09b53e84",
   "metadata": {},
   "outputs": [
    {
     "name": "stdout",
     "output_type": "stream",
     "text": [
      "Model: \"model_2\"\n",
      "__________________________________________________________________________________________________\n",
      " Layer (type)                   Output Shape         Param #     Connected to                     \n",
      "==================================================================================================\n",
      " input_6 (InputLayer)           [(None, 128, 128, 3  0           []                               \n",
      "                                )]                                                                \n",
      "                                                                                                  \n",
      " conv2d_38 (Conv2D)             (None, 128, 128, 64  1792        ['input_6[0][0]']                \n",
      "                                )                                                                 \n",
      "                                                                                                  \n",
      " activation_36 (Activation)     (None, 128, 128, 64  0           ['conv2d_38[1][0]']              \n",
      "                                )                                                                 \n",
      "                                                                                                  \n",
      " conv2d_39 (Conv2D)             (None, 128, 128, 64  36928       ['activation_36[1][0]']          \n",
      "                                )                                                                 \n",
      "                                                                                                  \n",
      " activation_37 (Activation)     (None, 128, 128, 64  0           ['conv2d_39[1][0]']              \n",
      "                                )                                                                 \n",
      "                                                                                                  \n",
      " max_pooling2d_8 (MaxPooling2D)  (None, 64, 64, 64)  0           ['activation_37[1][0]']          \n",
      "                                                                                                  \n",
      " dropout_16 (Dropout)           (None, 64, 64, 64)   0           ['max_pooling2d_8[1][0]']        \n",
      "                                                                                                  \n",
      " conv2d_40 (Conv2D)             (None, 64, 64, 128)  73856       ['dropout_16[1][0]']             \n",
      "                                                                                                  \n",
      " activation_38 (Activation)     (None, 64, 64, 128)  0           ['conv2d_40[1][0]']              \n",
      "                                                                                                  \n",
      " conv2d_41 (Conv2D)             (None, 64, 64, 128)  147584      ['activation_38[1][0]']          \n",
      "                                                                                                  \n",
      " activation_39 (Activation)     (None, 64, 64, 128)  0           ['conv2d_41[1][0]']              \n",
      "                                                                                                  \n",
      " max_pooling2d_9 (MaxPooling2D)  (None, 32, 32, 128)  0          ['activation_39[1][0]']          \n",
      "                                                                                                  \n",
      " dropout_17 (Dropout)           (None, 32, 32, 128)  0           ['max_pooling2d_9[1][0]']        \n",
      "                                                                                                  \n",
      " conv2d_42 (Conv2D)             (None, 32, 32, 256)  295168      ['dropout_17[1][0]']             \n",
      "                                                                                                  \n",
      " activation_40 (Activation)     (None, 32, 32, 256)  0           ['conv2d_42[1][0]']              \n",
      "                                                                                                  \n",
      " conv2d_43 (Conv2D)             (None, 32, 32, 256)  590080      ['activation_40[1][0]']          \n",
      "                                                                                                  \n",
      " activation_41 (Activation)     (None, 32, 32, 256)  0           ['conv2d_43[1][0]']              \n",
      "                                                                                                  \n",
      " max_pooling2d_10 (MaxPooling2D  (None, 16, 16, 256)  0          ['activation_41[1][0]']          \n",
      " )                                                                                                \n",
      "                                                                                                  \n",
      " dropout_18 (Dropout)           (None, 16, 16, 256)  0           ['max_pooling2d_10[1][0]']       \n",
      "                                                                                                  \n",
      " conv2d_44 (Conv2D)             (None, 16, 16, 512)  1180160     ['dropout_18[1][0]']             \n",
      "                                                                                                  \n",
      " activation_42 (Activation)     (None, 16, 16, 512)  0           ['conv2d_44[1][0]']              \n",
      "                                                                                                  \n",
      " conv2d_45 (Conv2D)             (None, 16, 16, 512)  2359808     ['activation_42[1][0]']          \n",
      "                                                                                                  \n",
      " activation_43 (Activation)     (None, 16, 16, 512)  0           ['conv2d_45[1][0]']              \n",
      "                                                                                                  \n",
      " max_pooling2d_11 (MaxPooling2D  (None, 8, 8, 512)   0           ['activation_43[1][0]']          \n",
      " )                                                                                                \n",
      "                                                                                                  \n",
      " dropout_19 (Dropout)           (None, 8, 8, 512)    0           ['max_pooling2d_11[1][0]']       \n",
      "                                                                                                  \n",
      " conv2d_46 (Conv2D)             (None, 8, 8, 1024)   4719616     ['dropout_19[1][0]']             \n",
      "                                                                                                  \n",
      " activation_44 (Activation)     (None, 8, 8, 1024)   0           ['conv2d_46[1][0]']              \n",
      "                                                                                                  \n",
      " conv2d_47 (Conv2D)             (None, 8, 8, 1024)   9438208     ['activation_44[1][0]']          \n",
      "                                                                                                  \n",
      " activation_45 (Activation)     (None, 8, 8, 1024)   0           ['conv2d_47[1][0]']              \n",
      "                                                                                                  \n",
      " conv2d_transpose_8 (Conv2DTran  (None, 16, 16, 512)  4719104    ['activation_45[1][0]']          \n",
      " spose)                                                                                           \n",
      "                                                                                                  \n",
      " concatenate_8 (Concatenate)    (None, 16, 16, 1024  0           ['conv2d_transpose_8[1][0]',     \n",
      "                                )                                 'activation_43[1][0]']          \n",
      "                                                                                                  \n",
      " dropout_20 (Dropout)           (None, 16, 16, 1024  0           ['concatenate_8[1][0]']          \n",
      "                                )                                                                 \n",
      "                                                                                                  \n",
      " conv2d_48 (Conv2D)             (None, 16, 16, 512)  4719104     ['dropout_20[1][0]']             \n",
      "                                                                                                  \n",
      " activation_46 (Activation)     (None, 16, 16, 512)  0           ['conv2d_48[1][0]']              \n",
      "                                                                                                  \n",
      " conv2d_49 (Conv2D)             (None, 16, 16, 512)  2359808     ['activation_46[1][0]']          \n",
      "                                                                                                  \n"
     ]
    },
    {
     "name": "stdout",
     "output_type": "stream",
     "text": [
      " activation_47 (Activation)     (None, 16, 16, 512)  0           ['conv2d_49[1][0]']              \n",
      "                                                                                                  \n",
      " conv2d_transpose_9 (Conv2DTran  (None, 32, 32, 256)  1179904    ['activation_47[1][0]']          \n",
      " spose)                                                                                           \n",
      "                                                                                                  \n",
      " concatenate_9 (Concatenate)    (None, 32, 32, 512)  0           ['conv2d_transpose_9[1][0]',     \n",
      "                                                                  'activation_41[1][0]']          \n",
      "                                                                                                  \n",
      " dropout_21 (Dropout)           (None, 32, 32, 512)  0           ['concatenate_9[1][0]']          \n",
      "                                                                                                  \n",
      " conv2d_50 (Conv2D)             (None, 32, 32, 256)  1179904     ['dropout_21[1][0]']             \n",
      "                                                                                                  \n",
      " activation_48 (Activation)     (None, 32, 32, 256)  0           ['conv2d_50[1][0]']              \n",
      "                                                                                                  \n",
      " conv2d_51 (Conv2D)             (None, 32, 32, 256)  590080      ['activation_48[1][0]']          \n",
      "                                                                                                  \n",
      " activation_49 (Activation)     (None, 32, 32, 256)  0           ['conv2d_51[1][0]']              \n",
      "                                                                                                  \n",
      " conv2d_transpose_10 (Conv2DTra  (None, 64, 64, 128)  295040     ['activation_49[1][0]']          \n",
      " nspose)                                                                                          \n",
      "                                                                                                  \n",
      " concatenate_10 (Concatenate)   (None, 64, 64, 256)  0           ['conv2d_transpose_10[1][0]',    \n",
      "                                                                  'activation_39[1][0]']          \n",
      "                                                                                                  \n",
      " dropout_22 (Dropout)           (None, 64, 64, 256)  0           ['concatenate_10[1][0]']         \n",
      "                                                                                                  \n",
      " conv2d_52 (Conv2D)             (None, 64, 64, 128)  295040      ['dropout_22[1][0]']             \n",
      "                                                                                                  \n",
      " activation_50 (Activation)     (None, 64, 64, 128)  0           ['conv2d_52[1][0]']              \n",
      "                                                                                                  \n",
      " conv2d_53 (Conv2D)             (None, 64, 64, 128)  147584      ['activation_50[1][0]']          \n",
      "                                                                                                  \n",
      " activation_51 (Activation)     (None, 64, 64, 128)  0           ['conv2d_53[1][0]']              \n",
      "                                                                                                  \n",
      " conv2d_transpose_11 (Conv2DTra  (None, 128, 128, 64  73792      ['activation_51[1][0]']          \n",
      " nspose)                        )                                                                 \n",
      "                                                                                                  \n",
      " concatenate_11 (Concatenate)   (None, 128, 128, 12  0           ['conv2d_transpose_11[1][0]',    \n",
      "                                8)                                'activation_37[1][0]']          \n",
      "                                                                                                  \n",
      " dropout_23 (Dropout)           (None, 128, 128, 12  0           ['concatenate_11[1][0]']         \n",
      "                                8)                                                                \n",
      "                                                                                                  \n",
      " conv2d_54 (Conv2D)             (None, 128, 128, 64  73792       ['dropout_23[1][0]']             \n",
      "                                )                                                                 \n",
      "                                                                                                  \n",
      " activation_52 (Activation)     (None, 128, 128, 64  0           ['conv2d_54[1][0]']              \n",
      "                                )                                                                 \n",
      "                                                                                                  \n",
      " conv2d_55 (Conv2D)             (None, 128, 128, 64  36928       ['activation_52[1][0]']          \n",
      "                                )                                                                 \n",
      "                                                                                                  \n",
      " activation_53 (Activation)     (None, 128, 128, 64  0           ['conv2d_55[1][0]']              \n",
      "                                )                                                                 \n",
      "                                                                                                  \n",
      " conv2d_56 (Conv2D)             (None, 128, 128, 1)  65          ['activation_53[1][0]']          \n",
      "                                                                                                  \n",
      "==================================================================================================\n",
      "Total params: 34,513,345\n",
      "Trainable params: 34,513,345\n",
      "Non-trainable params: 0\n",
      "__________________________________________________________________________________________________\n"
     ]
    }
   ],
   "source": [
    "OUTPUT_CHANNELS=1\n",
    "def unet():\n",
    "    \n",
    "    inputs= tf.keras.layers.Input(shape=(128, 128, 3))\n",
    "    inputs= tf.keras.layers.Lambda(lambda x: x/255)(inputs)\n",
    "    encoder_output, convs = encoder(inputs)\n",
    "    bottle_neck= bottleneck(encoder_output)\n",
    "    outputs= decoder(bottle_neck, convs, OUTPUT_CHANNELS)\n",
    "    model= tf.keras.Model(inputs=inputs, outputs=outputs)\n",
    "    return model\n",
    "\n",
    "model= unet()\n",
    "model.summary()"
   ]
  },
  {
   "cell_type": "code",
   "execution_count": 30,
   "id": "ca868197",
   "metadata": {},
   "outputs": [],
   "source": [
    "model.compile(optimizer=\"adam\", loss=\"binary_crossentropy\", metrics=[\"accuracy\"])"
   ]
  },
  {
   "cell_type": "code",
   "execution_count": 31,
   "id": "71010f8a",
   "metadata": {},
   "outputs": [],
   "source": [
    "checkpointer = tf.keras.callbacks.ModelCheckpoint('model_for_nuclei.h5', verbose=1, save_best_only=True)\n",
    "\n",
    "callbacks = [\n",
    "        tf.keras.callbacks.EarlyStopping(patience=10, monitor='val_loss'),\n",
    "        tf.keras.callbacks.TensorBoard(log_dir='logs')]\n",
    "\n"
   ]
  },
  {
   "cell_type": "code",
   "execution_count": 32,
   "id": "3d159272",
   "metadata": {},
   "outputs": [],
   "source": [
    "import os\n",
    "import numpy as np\n",
    "import sys\n",
    "import random\n",
    "from tqdm import tqdm\n",
    "from skimage.io import imread, imshow\n",
    "from skimage.transform import resize\n",
    "import matplotlib.pyplot as plt\n",
    "seed= 42\n",
    "np.random.seed=seed"
   ]
  },
  {
   "cell_type": "code",
   "execution_count": 14,
   "id": "627c840a",
   "metadata": {},
   "outputs": [],
   "source": [
    "TRAIN_PATH=\"nuclei/stage1_train/\"\n",
    "TEST_PATH=\"nuclei/stage1_test/\""
   ]
  },
  {
   "cell_type": "code",
   "execution_count": 15,
   "id": "964f00c4",
   "metadata": {},
   "outputs": [],
   "source": [
    "train_ids= next(os.walk(TRAIN_PATH))[1]\n",
    "test_ids= next(os.walk(TEST_PATH))[1]\n",
    "\n",
    "X_train= np.zeros((len(train_ids), 128, 128, 3), dtype=np.uint8)\n",
    "Y_train= np.zeros((len(train_ids), 128, 128, 1), dtype=bool)"
   ]
  },
  {
   "cell_type": "code",
   "execution_count": 16,
   "id": "696b8cc6",
   "metadata": {},
   "outputs": [
    {
     "data": {
      "text/plain": [
       "(670, 128, 128, 3)"
      ]
     },
     "execution_count": 16,
     "metadata": {},
     "output_type": "execute_result"
    }
   ],
   "source": [
    "X_train.shape"
   ]
  },
  {
   "cell_type": "code",
   "execution_count": 17,
   "id": "b735bb4d",
   "metadata": {},
   "outputs": [
    {
     "data": {
      "text/plain": [
       "(670, 128, 128, 1)"
      ]
     },
     "execution_count": 17,
     "metadata": {},
     "output_type": "execute_result"
    }
   ],
   "source": [
    "Y_train.shape"
   ]
  },
  {
   "cell_type": "code",
   "execution_count": 18,
   "id": "b4ae9037",
   "metadata": {},
   "outputs": [
    {
     "name": "stderr",
     "output_type": "stream",
     "text": [
      "100%|████████████████████████████████████████████████████████████████████████████████| 670/670 [05:41<00:00,  1.96it/s]\n"
     ]
    }
   ],
   "source": [
    "for i, id_ in tqdm(enumerate(train_ids), total=len(train_ids)):\n",
    "    path= TRAIN_PATH + id_\n",
    "    img= imread(path+ \"/images/\" + id_ + \".png\")[:,:,:3]\n",
    "    img= resize(img, (128,128), mode='constant', preserve_range=True)\n",
    "    X_train[i]=img\n",
    "    mask=np.zeros((128,128,1), dtype=bool)\n",
    "    for mask_file in next(os.walk(path + \"/masks/\"))[2]:\n",
    "        mask_ = imread(path + \"/masks/\" + mask_file)\n",
    "        mask_= np.expand_dims(resize(mask_, (128, 128), mode=\"constant\",\n",
    "                                    preserve_range=True), axis=-1)\n",
    "        mask= np.maximum(mask, mask_)\n",
    "    Y_train[i]= mask"
   ]
  },
  {
   "cell_type": "code",
   "execution_count": 33,
   "id": "a4e9dbe3",
   "metadata": {},
   "outputs": [],
   "source": [
    "X_test= np.zeros((len(test_ids), 128, 128, 3), dtype=np.uint8)\n",
    "sizes_test=[]"
   ]
  },
  {
   "cell_type": "code",
   "execution_count": 34,
   "id": "d5febe08",
   "metadata": {},
   "outputs": [
    {
     "name": "stderr",
     "output_type": "stream",
     "text": [
      "100%|██████████████████████████████████████████████████████████████████████████████████| 65/65 [00:01<00:00, 63.13it/s]\n"
     ]
    }
   ],
   "source": [
    "for i, id_ in tqdm(enumerate(test_ids), total=len(test_ids)):\n",
    "    path= TEST_PATH + id_\n",
    "    img= imread(path+ \"/images/\" + id_ + \".png\")[:,:,:3]\n",
    "    sizes_test.append([img.shape[0], img.shape[1]])\n",
    "    img= resize(img, (128,128), mode='constant', preserve_range=True)\n",
    "    X_train[i]=img\n",
    "    "
   ]
  },
  {
   "cell_type": "code",
   "execution_count": 35,
   "id": "a4541ee4",
   "metadata": {},
   "outputs": [
    {
     "data": {
      "image/png": "[encoded data removed]",
      "text/plain": [
       "<Figure size 432x288 with 1 Axes>"
      ]
     },
     "metadata": {
      "needs_background": "light"
     },
     "output_type": "display_data"
    },
    {
     "data": {
      "image/png": "[encoded data removed]",
      "text/plain": [
       "<Figure size 432x288 with 1 Axes>"
      ]
     },
     "metadata": {
      "needs_background": "light"
     },
     "output_type": "display_data"
    }
   ],
   "source": [
    "image_x = random.randint(0, len(train_ids))\n",
    "imshow(X_train[image_x])\n",
    "plt.show()\n",
    "imshow(np.squeeze(Y_train[image_x]))\n",
    "plt.show()"
   ]
  },
  {
   "cell_type": "code",
   "execution_count": 36,
   "id": "581a17ff",
   "metadata": {},
   "outputs": [
    {
     "name": "stdout",
     "output_type": "stream",
     "text": [
      "Epoch 1/100\n",
      "19/19 [==============================] - 153s 8s/step - loss: 15.6368 - accuracy: 0.6114 - val_loss: 0.8324 - val_accuracy: 0.8270\n",
      "Epoch 2/100\n",
      "19/19 [==============================] - 156s 8s/step - loss: 0.7251 - accuracy: 0.8052 - val_loss: 0.5734 - val_accuracy: 0.8801\n",
      "Epoch 3/100\n",
      "19/19 [==============================] - 158s 8s/step - loss: 0.5866 - accuracy: 0.8505 - val_loss: 0.4981 - val_accuracy: 0.9199\n",
      "Epoch 4/100\n",
      "19/19 [==============================] - 158s 8s/step - loss: 0.5212 - accuracy: 0.8681 - val_loss: 0.3887 - val_accuracy: 0.9150\n",
      "Epoch 5/100\n",
      "19/19 [==============================] - 158s 8s/step - loss: 0.4887 - accuracy: 0.8594 - val_loss: 0.3233 - val_accuracy: 0.9209\n",
      "Epoch 6/100\n",
      "19/19 [==============================] - 157s 8s/step - loss: 0.4050 - accuracy: 0.8797 - val_loss: 0.2643 - val_accuracy: 0.9315\n",
      "Epoch 7/100\n",
      "19/19 [==============================] - 157s 8s/step - loss: 0.3512 - accuracy: 0.8778 - val_loss: 0.1889 - val_accuracy: 0.9353\n",
      "Epoch 8/100\n",
      "19/19 [==============================] - 158s 8s/step - loss: 0.3178 - accuracy: 0.8821 - val_loss: 0.1896 - val_accuracy: 0.9283\n",
      "Epoch 9/100\n",
      "19/19 [==============================] - 158s 8s/step - loss: 0.3042 - accuracy: 0.8888 - val_loss: 0.1899 - val_accuracy: 0.9242\n",
      "Epoch 10/100\n",
      "19/19 [==============================] - 158s 8s/step - loss: 0.2986 - accuracy: 0.8846 - val_loss: 0.1690 - val_accuracy: 0.9397\n",
      "Epoch 11/100\n",
      "19/19 [==============================] - 157s 8s/step - loss: 0.2892 - accuracy: 0.8995 - val_loss: 0.1591 - val_accuracy: 0.9526\n",
      "Epoch 12/100\n",
      "19/19 [==============================] - 158s 8s/step - loss: 0.2680 - accuracy: 0.9145 - val_loss: 0.1612 - val_accuracy: 0.9530\n",
      "Epoch 13/100\n",
      "19/19 [==============================] - 158s 8s/step - loss: 0.2590 - accuracy: 0.9152 - val_loss: 0.1381 - val_accuracy: 0.9522\n",
      "Epoch 14/100\n",
      "19/19 [==============================] - 157s 8s/step - loss: 0.2421 - accuracy: 0.9180 - val_loss: 0.1301 - val_accuracy: 0.9584\n",
      "Epoch 15/100\n",
      "19/19 [==============================] - 158s 8s/step - loss: 0.2338 - accuracy: 0.9206 - val_loss: 0.2416 - val_accuracy: 0.9109\n",
      "Epoch 16/100\n",
      "19/19 [==============================] - 158s 8s/step - loss: 0.2901 - accuracy: 0.8970 - val_loss: 0.1611 - val_accuracy: 0.9405\n",
      "Epoch 17/100\n",
      "19/19 [==============================] - 156s 8s/step - loss: 0.2601 - accuracy: 0.9126 - val_loss: 0.1172 - val_accuracy: 0.9569\n",
      "Epoch 18/100\n",
      "19/19 [==============================] - 156s 8s/step - loss: 0.2365 - accuracy: 0.9176 - val_loss: 0.1521 - val_accuracy: 0.9487\n",
      "Epoch 19/100\n",
      "19/19 [==============================] - 157s 8s/step - loss: 0.2335 - accuracy: 0.9188 - val_loss: 0.1199 - val_accuracy: 0.9592\n",
      "Epoch 20/100\n",
      "19/19 [==============================] - 156s 8s/step - loss: 0.2298 - accuracy: 0.9179 - val_loss: 0.1315 - val_accuracy: 0.9593\n",
      "Epoch 21/100\n",
      "19/19 [==============================] - 157s 8s/step - loss: 0.2260 - accuracy: 0.9212 - val_loss: 0.1248 - val_accuracy: 0.9568\n",
      "Epoch 22/100\n",
      "19/19 [==============================] - 157s 8s/step - loss: 0.2292 - accuracy: 0.9206 - val_loss: 0.1504 - val_accuracy: 0.9551\n",
      "Epoch 23/100\n",
      "19/19 [==============================] - 158s 8s/step - loss: 0.2276 - accuracy: 0.9182 - val_loss: 0.1010 - val_accuracy: 0.9618\n",
      "Epoch 24/100\n",
      "19/19 [==============================] - 158s 8s/step - loss: 0.2232 - accuracy: 0.9214 - val_loss: 0.1172 - val_accuracy: 0.9594\n",
      "Epoch 25/100\n",
      "19/19 [==============================] - 158s 8s/step - loss: 0.2223 - accuracy: 0.9214 - val_loss: 0.1155 - val_accuracy: 0.9609\n",
      "Epoch 26/100\n",
      "19/19 [==============================] - 158s 8s/step - loss: 0.2110 - accuracy: 0.9251 - val_loss: 0.0992 - val_accuracy: 0.9634\n",
      "Epoch 27/100\n",
      "19/19 [==============================] - 158s 8s/step - loss: 0.2182 - accuracy: 0.9215 - val_loss: 0.0977 - val_accuracy: 0.9650\n",
      "Epoch 28/100\n",
      "19/19 [==============================] - 158s 8s/step - loss: 0.2135 - accuracy: 0.9254 - val_loss: 0.1079 - val_accuracy: 0.9614\n",
      "Epoch 29/100\n",
      "19/19 [==============================] - 158s 8s/step - loss: 0.2059 - accuracy: 0.9259 - val_loss: 0.0998 - val_accuracy: 0.9647\n",
      "Epoch 30/100\n",
      "19/19 [==============================] - 158s 8s/step - loss: 0.2032 - accuracy: 0.9277 - val_loss: 0.1308 - val_accuracy: 0.9546\n",
      "Epoch 31/100\n",
      "19/19 [==============================] - 158s 8s/step - loss: 0.2088 - accuracy: 0.9264 - val_loss: 0.1225 - val_accuracy: 0.9592\n",
      "Epoch 32/100\n",
      "19/19 [==============================] - 157s 8s/step - loss: 0.2111 - accuracy: 0.9262 - val_loss: 0.1110 - val_accuracy: 0.9635\n",
      "Epoch 33/100\n",
      "19/19 [==============================] - 158s 8s/step - loss: 0.2037 - accuracy: 0.9283 - val_loss: 0.1110 - val_accuracy: 0.9616\n",
      "Epoch 34/100\n",
      "19/19 [==============================] - 158s 8s/step - loss: 0.2075 - accuracy: 0.9256 - val_loss: 0.1115 - val_accuracy: 0.9613\n",
      "Epoch 35/100\n",
      "19/19 [==============================] - 158s 8s/step - loss: 0.2061 - accuracy: 0.9267 - val_loss: 0.1107 - val_accuracy: 0.9649\n",
      "Epoch 36/100\n",
      "19/19 [==============================] - 155s 8s/step - loss: 0.2038 - accuracy: 0.9285 - val_loss: 0.1017 - val_accuracy: 0.9636\n",
      "Epoch 37/100\n",
      "19/19 [==============================] - 161s 9s/step - loss: 0.2076 - accuracy: 0.9261 - val_loss: 0.1128 - val_accuracy: 0.9601\n"
     ]
    }
   ],
   "source": [
    "results = model.fit(X_train, Y_train, validation_split=0.1, batch_size=32, epochs=100, callbacks=callbacks)"
   ]
  },
  {
   "cell_type": "code",
   "execution_count": 37,
   "id": "c11a14ee",
   "metadata": {},
   "outputs": [
    {
     "name": "stdout",
     "output_type": "stream",
     "text": [
      "19/19 [==============================] - 28s 1s/step\n",
      "3/3 [==============================] - 3s 875ms/step\n",
      "3/3 [==============================] - 3s 837ms/step\n"
     ]
    }
   ],
   "source": [
    "idx = random.randint(0, len(X_train))\n",
    "\n",
    "\n",
    "preds_train = model.predict(X_train[:int(X_train.shape[0]*0.9)], verbose=1)\n",
    "preds_val = model.predict(X_train[int(X_train.shape[0]*0.9):], verbose=1)\n",
    "preds_test = model.predict(X_test, verbose=1)\n",
    "\n",
    " \n",
    "preds_train_t = (preds_train > 0.5).astype(np.uint8)\n",
    "preds_val_t = (preds_val > 0.5).astype(np.uint8)\n",
    "preds_test_t = (preds_test > 0.5).astype(np.uint8)"
   ]
  },
  {
   "cell_type": "code",
   "execution_count": 38,
   "id": "32986148",
   "metadata": {},
   "outputs": [
    {
     "data": {
      "image/png": "[encoded data removed]",
      "text/plain": [
       "<Figure size 432x288 with 1 Axes>"
      ]
     },
     "metadata": {
      "needs_background": "light"
     },
     "output_type": "display_data"
    },
    {
     "data": {
      "image/png": "[encoded data removed]",
      "text/plain": [
       "<Figure size 432x288 with 1 Axes>"
      ]
     },
     "metadata": {
      "needs_background": "light"
     },
     "output_type": "display_data"
    },
    {
     "name": "stderr",
     "output_type": "stream",
     "text": [
      "C:\\Users\\jpolo\\anaconda3\\lib\\site-packages\\skimage\\io\\_plugins\\matplotlib_plugin.py:150: UserWarning: Low image data range; displaying image with stretched contrast.\n",
      "  lo, hi, cmap = _get_display_range(image)\n"
     ]
    },
    {
     "data": {
      "image/png": "[encoded data removed]",
      "text/plain": [
       "<Figure size 432x288 with 2 Axes>"
      ]
     },
     "metadata": {
      "needs_background": "light"
     },
     "output_type": "display_data"
    },
    {
     "data": {
      "image/png": "[encoded data removed]",
      "text/plain": [
       "<Figure size 432x288 with 1 Axes>"
      ]
     },
     "metadata": {
      "needs_background": "light"
     },
     "output_type": "display_data"
    },
    {
     "data": {
      "image/png": "[encoded data removed]",
      "text/plain": [
       "<Figure size 432x288 with 1 Axes>"
      ]
     },
     "metadata": {
      "needs_background": "light"
     },
     "output_type": "display_data"
    },
    {
     "data": {
      "image/png": "[encoded data removed]",
      "text/plain": [
       "<Figure size 432x288 with 2 Axes>"
      ]
     },
     "metadata": {
      "needs_background": "light"
     },
     "output_type": "display_data"
    }
   ],
   "source": [
    "# Perform a sanity check on some random training samples\n",
    "ix = random.randint(0, len(preds_train_t))\n",
    "imshow(X_train[ix])\n",
    "plt.show()\n",
    "imshow(np.squeeze(Y_train[ix]))\n",
    "plt.show()\n",
    "imshow(np.squeeze(preds_train_t[ix]))\n",
    "plt.show()\n",
    "\n",
    "# Perform a sanity check on some random validation samples\n",
    "ix = random.randint(0, len(preds_val_t))\n",
    "imshow(X_train[int(X_train.shape[0]*0.9):][ix])\n",
    "plt.show()\n",
    "imshow(np.squeeze(Y_train[int(Y_train.shape[0]*0.9):][ix]))\n",
    "plt.show()\n",
    "imshow(np.squeeze(preds_val_t[ix]))\n",
    "plt.show()\n",
    "\n"
   ]
  },
  {
   "cell_type": "code",
   "execution_count": null,
   "id": "cdf6e5ae",
   "metadata": {},
   "outputs": [],
   "source": []
  },
  {
   "cell_type": "code",
   "execution_count": null,
   "id": "79187e64",
   "metadata": {},
   "outputs": [],
   "source": []
  },
  {
   "cell_type": "code",
   "execution_count": null,
   "id": "74123674",
   "metadata": {},
   "outputs": [],
   "source": []
  },
  {
   "cell_type": "code",
   "execution_count": null,
   "id": "4dc2651b",
   "metadata": {},
   "outputs": [],
   "source": []
  },
  {
   "cell_type": "code",
   "execution_count": null,
   "id": "ea43e7e5",
   "metadata": {},
   "outputs": [],
   "source": []
  },
  {
   "cell_type": "code",
   "execution_count": null,
   "id": "f3f543da",
   "metadata": {},
   "outputs": [],
   "source": []
  },
  {
   "cell_type": "code",
   "execution_count": null,
   "id": "d5235707",
   "metadata": {},
   "outputs": [],
   "source": []
  },
  {
   "cell_type": "code",
   "execution_count": null,
   "id": "6b873a84",
   "metadata": {},
   "outputs": [],
   "source": []
  },
  {
   "cell_type": "code",
   "execution_count": null,
   "id": "7a87e02f",
   "metadata": {},
   "outputs": [],
   "source": []
  },
  {
   "cell_type": "code",
   "execution_count": null,
   "id": "048db104",
   "metadata": {},
   "outputs": [],
   "source": []
  },
  {
   "cell_type": "code",
   "execution_count": null,
   "id": "791545d6",
   "metadata": {},
   "outputs": [],
   "source": []
  }
 ],
 "metadata": {
  "kernelspec": {
   "display_name": "Python 3 (ipykernel)",
   "language": "python",
   "name": "python3"
  },
  "language_info": {
   "codemirror_mode": {
    "name": "ipython",
    "version": 3
   },
   "file_extension": ".py",
   "mimetype": "text/x-python",
   "name": "python",
   "nbconvert_exporter": "python",
   "pygments_lexer": "ipython3",
   "version": "3.9.12"
  }
 },
 "nbformat": 4,
 "nbformat_minor": 5
}
