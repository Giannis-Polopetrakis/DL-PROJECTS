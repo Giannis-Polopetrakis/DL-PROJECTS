{
 "cells": [
  {
   "cell_type": "code",
   "execution_count": 91,
   "id": "84c5b058",
   "metadata": {},
   "outputs": [],
   "source": [
    "import tensorflow as tf\n",
    "import tensorflow_datasets as tfds\n",
    "\n",
    "import matplotlib.pyplot as plt\n",
    "import numpy as np\n",
    "#https://www.kaggle.com/c/data-science-bowl-2018/data"
   ]
  },
  {
   "cell_type": "code",
   "execution_count": 92,
   "id": "c3f8826c",
   "metadata": {},
   "outputs": [],
   "source": [
    "def conv_block(inputs, filters, kernel_size=3):\n",
    "    x= inputs\n",
    "    for i in range(2):\n",
    "        x= tf.keras.layers.Conv2D(filters, kernel_size, kernel_initializer=\"he_normal\",\n",
    "                                 padding=\"same\")(x)\n",
    "        x= tf.keras.layers.Activation(\"relu\")(x)\n",
    "    return x\n",
    "    "
   ]
  },
  {
   "cell_type": "code",
   "execution_count": 93,
   "id": "1797b585",
   "metadata": {},
   "outputs": [],
   "source": [
    "def encoder_block(inputs, filters=16):\n",
    "    f= conv_block(inputs, filters=filters) ##output for the concat\n",
    "    p= tf.keras.layers.MaxPooling2D((2,2))(f)\n",
    "    p= tf.keras.layers.Dropout(0.1)(p)\n",
    "    return f, p\n",
    "    "
   ]
  },
  {
   "cell_type": "code",
   "execution_count": 94,
   "id": "0d800fc4",
   "metadata": {},
   "outputs": [],
   "source": [
    "def encoder(inputs):\n",
    "    filters=16\n",
    "    f1, p1 = encoder_block(inputs, filters)\n",
    "    f2, p2 = encoder_block(p1, filters*2)\n",
    "    f3, p3 = encoder_block(p2, filters*4)\n",
    "    f4, p4 = encoder_block(p3, filters*8)\n",
    "    return p4, (f1, f2, f3, f4)"
   ]
  },
  {
   "cell_type": "code",
   "execution_count": 95,
   "id": "672803aa",
   "metadata": {},
   "outputs": [],
   "source": [
    "def bottleneck(inputs):\n",
    "    bottle_neck = conv_block(inputs, 256)\n",
    "    return bottle_neck"
   ]
  },
  {
   "cell_type": "code",
   "execution_count": 96,
   "id": "2375831d",
   "metadata": {},
   "outputs": [],
   "source": [
    "def decoder_block(inputs, conv_out, filters=128, kernel_size=3, strides=2):\n",
    "    u= tf.keras.layers.Conv2DTranspose(filters, kernel_size, strides, padding=\"same\")(inputs)\n",
    "    cat= tf.keras.layers.concatenate([u, conv_out])\n",
    "    cat= tf.keras.layers.Dropout(0.1)(cat)\n",
    "    cat= conv_block(cat, filters, kernel_size)\n",
    "    return cat"
   ]
  },
  {
   "cell_type": "code",
   "execution_count": 110,
   "id": "23a215f6",
   "metadata": {},
   "outputs": [],
   "source": [
    "def decoder(inputs, convs, out_channels,filters=128,):\n",
    "    f1, f2, f3, f4 = convs\n",
    "    \n",
    "    c6 = decoder_block(inputs, f4, filters)\n",
    "    c7 = decoder_block(c6, f3, filters/2)\n",
    "    c8= decoder_block(c7, f2, filters/4)\n",
    "    c9= decoder_block(c8, f1, filters/8)\n",
    "    \n",
    "    outputs= tf.keras.layers.Conv2D(out_channels, 1, activation=\"sigmoid\")(c9)\n",
    "    return outputs"
   ]
  },
  {
   "cell_type": "code",
   "execution_count": 111,
   "id": "09b53e84",
   "metadata": {},
   "outputs": [
    {
     "name": "stdout",
     "output_type": "stream",
     "text": [
      "Model: \"model_10\"\n",
      "__________________________________________________________________________________________________\n",
      " Layer (type)                   Output Shape         Param #     Connected to                     \n",
      "==================================================================================================\n",
      " input_18 (InputLayer)          [(None, 128, 128, 3  0           []                               \n",
      "                                )]                                                                \n",
      "                                                                                                  \n",
      " conv2d_190 (Conv2D)            (None, 128, 128, 16  448         ['input_18[0][0]']               \n",
      "                                )                                                                 \n",
      "                                                                                                  \n",
      " activation_180 (Activation)    (None, 128, 128, 16  0           ['conv2d_190[1][0]']             \n",
      "                                )                                                                 \n",
      "                                                                                                  \n",
      " conv2d_191 (Conv2D)            (None, 128, 128, 16  2320        ['activation_180[1][0]']         \n",
      "                                )                                                                 \n",
      "                                                                                                  \n",
      " activation_181 (Activation)    (None, 128, 128, 16  0           ['conv2d_191[1][0]']             \n",
      "                                )                                                                 \n",
      "                                                                                                  \n",
      " max_pooling2d_40 (MaxPooling2D  (None, 64, 64, 16)  0           ['activation_181[1][0]']         \n",
      " )                                                                                                \n",
      "                                                                                                  \n",
      " dropout_80 (Dropout)           (None, 64, 64, 16)   0           ['max_pooling2d_40[1][0]']       \n",
      "                                                                                                  \n",
      " conv2d_192 (Conv2D)            (None, 64, 64, 32)   4640        ['dropout_80[1][0]']             \n",
      "                                                                                                  \n",
      " activation_182 (Activation)    (None, 64, 64, 32)   0           ['conv2d_192[1][0]']             \n",
      "                                                                                                  \n",
      " conv2d_193 (Conv2D)            (None, 64, 64, 32)   9248        ['activation_182[1][0]']         \n",
      "                                                                                                  \n",
      " activation_183 (Activation)    (None, 64, 64, 32)   0           ['conv2d_193[1][0]']             \n",
      "                                                                                                  \n",
      " max_pooling2d_41 (MaxPooling2D  (None, 32, 32, 32)  0           ['activation_183[1][0]']         \n",
      " )                                                                                                \n",
      "                                                                                                  \n",
      " dropout_81 (Dropout)           (None, 32, 32, 32)   0           ['max_pooling2d_41[1][0]']       \n",
      "                                                                                                  \n",
      " conv2d_194 (Conv2D)            (None, 32, 32, 64)   18496       ['dropout_81[1][0]']             \n",
      "                                                                                                  \n",
      " activation_184 (Activation)    (None, 32, 32, 64)   0           ['conv2d_194[1][0]']             \n",
      "                                                                                                  \n",
      " conv2d_195 (Conv2D)            (None, 32, 32, 64)   36928       ['activation_184[1][0]']         \n",
      "                                                                                                  \n",
      " activation_185 (Activation)    (None, 32, 32, 64)   0           ['conv2d_195[1][0]']             \n",
      "                                                                                                  \n",
      " max_pooling2d_42 (MaxPooling2D  (None, 16, 16, 64)  0           ['activation_185[1][0]']         \n",
      " )                                                                                                \n",
      "                                                                                                  \n",
      " dropout_82 (Dropout)           (None, 16, 16, 64)   0           ['max_pooling2d_42[1][0]']       \n",
      "                                                                                                  \n",
      " conv2d_196 (Conv2D)            (None, 16, 16, 128)  73856       ['dropout_82[1][0]']             \n",
      "                                                                                                  \n",
      " activation_186 (Activation)    (None, 16, 16, 128)  0           ['conv2d_196[1][0]']             \n",
      "                                                                                                  \n",
      " conv2d_197 (Conv2D)            (None, 16, 16, 128)  147584      ['activation_186[1][0]']         \n",
      "                                                                                                  \n",
      " activation_187 (Activation)    (None, 16, 16, 128)  0           ['conv2d_197[1][0]']             \n",
      "                                                                                                  \n",
      " max_pooling2d_43 (MaxPooling2D  (None, 8, 8, 128)   0           ['activation_187[1][0]']         \n",
      " )                                                                                                \n",
      "                                                                                                  \n",
      " dropout_83 (Dropout)           (None, 8, 8, 128)    0           ['max_pooling2d_43[1][0]']       \n",
      "                                                                                                  \n",
      " conv2d_198 (Conv2D)            (None, 8, 8, 256)    295168      ['dropout_83[1][0]']             \n",
      "                                                                                                  \n",
      " activation_188 (Activation)    (None, 8, 8, 256)    0           ['conv2d_198[1][0]']             \n",
      "                                                                                                  \n",
      " conv2d_199 (Conv2D)            (None, 8, 8, 256)    590080      ['activation_188[1][0]']         \n",
      "                                                                                                  \n",
      " activation_189 (Activation)    (None, 8, 8, 256)    0           ['conv2d_199[1][0]']             \n",
      "                                                                                                  \n",
      " conv2d_transpose_40 (Conv2DTra  (None, 16, 16, 128)  295040     ['activation_189[1][0]']         \n",
      " nspose)                                                                                          \n",
      "                                                                                                  \n",
      " concatenate_40 (Concatenate)   (None, 16, 16, 256)  0           ['conv2d_transpose_40[1][0]',    \n",
      "                                                                  'activation_187[1][0]']         \n",
      "                                                                                                  \n",
      " dropout_84 (Dropout)           (None, 16, 16, 256)  0           ['concatenate_40[1][0]']         \n",
      "                                                                                                  \n",
      " conv2d_200 (Conv2D)            (None, 16, 16, 128)  295040      ['dropout_84[1][0]']             \n",
      "                                                                                                  \n",
      " activation_190 (Activation)    (None, 16, 16, 128)  0           ['conv2d_200[1][0]']             \n",
      "                                                                                                  \n",
      " conv2d_201 (Conv2D)            (None, 16, 16, 128)  147584      ['activation_190[1][0]']         \n"
     ]
    },
    {
     "name": "stdout",
     "output_type": "stream",
     "text": [
      "                                                                                                  \n",
      " activation_191 (Activation)    (None, 16, 16, 128)  0           ['conv2d_201[1][0]']             \n",
      "                                                                                                  \n",
      " conv2d_transpose_41 (Conv2DTra  (None, 32, 32, 64)  73792       ['activation_191[1][0]']         \n",
      " nspose)                                                                                          \n",
      "                                                                                                  \n",
      " concatenate_41 (Concatenate)   (None, 32, 32, 128)  0           ['conv2d_transpose_41[1][0]',    \n",
      "                                                                  'activation_185[1][0]']         \n",
      "                                                                                                  \n",
      " dropout_85 (Dropout)           (None, 32, 32, 128)  0           ['concatenate_41[1][0]']         \n",
      "                                                                                                  \n",
      " conv2d_202 (Conv2D)            (None, 32, 32, 64)   73792       ['dropout_85[1][0]']             \n",
      "                                                                                                  \n",
      " activation_192 (Activation)    (None, 32, 32, 64)   0           ['conv2d_202[1][0]']             \n",
      "                                                                                                  \n",
      " conv2d_203 (Conv2D)            (None, 32, 32, 64)   36928       ['activation_192[1][0]']         \n",
      "                                                                                                  \n",
      " activation_193 (Activation)    (None, 32, 32, 64)   0           ['conv2d_203[1][0]']             \n",
      "                                                                                                  \n",
      " conv2d_transpose_42 (Conv2DTra  (None, 64, 64, 32)  18464       ['activation_193[1][0]']         \n",
      " nspose)                                                                                          \n",
      "                                                                                                  \n",
      " concatenate_42 (Concatenate)   (None, 64, 64, 64)   0           ['conv2d_transpose_42[1][0]',    \n",
      "                                                                  'activation_183[1][0]']         \n",
      "                                                                                                  \n",
      " dropout_86 (Dropout)           (None, 64, 64, 64)   0           ['concatenate_42[1][0]']         \n",
      "                                                                                                  \n",
      " conv2d_204 (Conv2D)            (None, 64, 64, 32)   18464       ['dropout_86[1][0]']             \n",
      "                                                                                                  \n",
      " activation_194 (Activation)    (None, 64, 64, 32)   0           ['conv2d_204[1][0]']             \n",
      "                                                                                                  \n",
      " conv2d_205 (Conv2D)            (None, 64, 64, 32)   9248        ['activation_194[1][0]']         \n",
      "                                                                                                  \n",
      " activation_195 (Activation)    (None, 64, 64, 32)   0           ['conv2d_205[1][0]']             \n",
      "                                                                                                  \n",
      " conv2d_transpose_43 (Conv2DTra  (None, 128, 128, 16  4624       ['activation_195[1][0]']         \n",
      " nspose)                        )                                                                 \n",
      "                                                                                                  \n",
      " concatenate_43 (Concatenate)   (None, 128, 128, 32  0           ['conv2d_transpose_43[1][0]',    \n",
      "                                )                                 'activation_181[1][0]']         \n",
      "                                                                                                  \n",
      " dropout_87 (Dropout)           (None, 128, 128, 32  0           ['concatenate_43[1][0]']         \n",
      "                                )                                                                 \n",
      "                                                                                                  \n",
      " conv2d_206 (Conv2D)            (None, 128, 128, 16  4624        ['dropout_87[1][0]']             \n",
      "                                )                                                                 \n",
      "                                                                                                  \n",
      " activation_196 (Activation)    (None, 128, 128, 16  0           ['conv2d_206[1][0]']             \n",
      "                                )                                                                 \n",
      "                                                                                                  \n",
      " conv2d_207 (Conv2D)            (None, 128, 128, 16  2320        ['activation_196[1][0]']         \n",
      "                                )                                                                 \n",
      "                                                                                                  \n",
      " activation_197 (Activation)    (None, 128, 128, 16  0           ['conv2d_207[1][0]']             \n",
      "                                )                                                                 \n",
      "                                                                                                  \n",
      " conv2d_208 (Conv2D)            (None, 128, 128, 1)  17          ['activation_197[1][0]']         \n",
      "                                                                                                  \n",
      "==================================================================================================\n",
      "Total params: 2,158,705\n",
      "Trainable params: 2,158,705\n",
      "Non-trainable params: 0\n",
      "__________________________________________________________________________________________________\n"
     ]
    }
   ],
   "source": [
    "OUTPUT_CHANNELS=1\n",
    "def unet():\n",
    "    \n",
    "    inputs= tf.keras.layers.Input(shape=(128, 128, 3))\n",
    "    inputs= tf.keras.layers.Lambda(lambda x: x/255)(inputs)\n",
    "    encoder_output, convs = encoder(inputs)\n",
    "    bottle_neck= bottleneck(encoder_output)\n",
    "    outputs= decoder(bottle_neck, convs, OUTPUT_CHANNELS)\n",
    "    model= tf.keras.Model(inputs=inputs, outputs=outputs)\n",
    "    return model\n",
    "\n",
    "model= unet()\n",
    "model.summary()"
   ]
  },
  {
   "cell_type": "code",
   "execution_count": 112,
   "id": "ca868197",
   "metadata": {},
   "outputs": [],
   "source": [
    "model.compile(optimizer=\"adam\", loss=\"binary_crossentropy\", metrics=[\"accuracy\"])"
   ]
  },
  {
   "cell_type": "code",
   "execution_count": 117,
   "id": "71010f8a",
   "metadata": {},
   "outputs": [],
   "source": [
    "checkpointer = tf.keras.callbacks.ModelCheckpoint('model_for_nuclei.h5', verbose=1, save_best_only=True)\n",
    "\n",
    "callbacks = [\n",
    "        tf.keras.callbacks.EarlyStopping(patience=10, monitor='val_loss'),\n",
    "        tf.keras.callbacks.TensorBoard(log_dir='logs')]\n",
    "\n"
   ]
  },
  {
   "cell_type": "code",
   "execution_count": 101,
   "id": "3d159272",
   "metadata": {},
   "outputs": [],
   "source": [
    "import os\n",
    "import numpy as np\n",
    "import sys\n",
    "import random\n",
    "from tqdm import tqdm\n",
    "from skimage.io import imread, imshow\n",
    "from skimage.transform import resize\n",
    "import matplotlib.pyplot as plt\n",
    "seed= 42\n",
    "np.random.seed=seed"
   ]
  },
  {
   "cell_type": "code",
   "execution_count": 83,
   "id": "627c840a",
   "metadata": {},
   "outputs": [],
   "source": [
    "TRAIN_PATH=\"nuclei/stage1_train/\"\n",
    "TEST_PATH=\"nuclei/stage1_test/\""
   ]
  },
  {
   "cell_type": "code",
   "execution_count": 84,
   "id": "964f00c4",
   "metadata": {},
   "outputs": [],
   "source": [
    "train_ids= next(os.walk(TRAIN_PATH))[1]\n",
    "test_ids= next(os.walk(TEST_PATH))[1]\n",
    "\n",
    "X_train= np.zeros((len(train_ids), 128, 128, 3), dtype=np.uint8)\n",
    "Y_train= np.zeros((len(train_ids), 128, 128, 1), dtype=bool)"
   ]
  },
  {
   "cell_type": "code",
   "execution_count": 85,
   "id": "696b8cc6",
   "metadata": {},
   "outputs": [
    {
     "data": {
      "text/plain": [
       "(670, 128, 128, 3)"
      ]
     },
     "execution_count": 85,
     "metadata": {},
     "output_type": "execute_result"
    }
   ],
   "source": [
    "X_train.shape"
   ]
  },
  {
   "cell_type": "code",
   "execution_count": 86,
   "id": "b735bb4d",
   "metadata": {},
   "outputs": [
    {
     "data": {
      "text/plain": [
       "(670, 128, 128, 1)"
      ]
     },
     "execution_count": 86,
     "metadata": {},
     "output_type": "execute_result"
    }
   ],
   "source": [
    "Y_train.shape"
   ]
  },
  {
   "cell_type": "code",
   "execution_count": 87,
   "id": "b4ae9037",
   "metadata": {},
   "outputs": [
    {
     "name": "stderr",
     "output_type": "stream",
     "text": [
      "100%|████████████████████████████████████████████████████████████████████████████████| 670/670 [04:28<00:00,  2.50it/s]\n"
     ]
    }
   ],
   "source": [
    "for i, id_ in tqdm(enumerate(train_ids), total=len(train_ids)):\n",
    "    path= TRAIN_PATH + id_\n",
    "    img= imread(path+ \"/images/\" + id_ + \".png\")[:,:,:3]\n",
    "    img= resize(img, (128,128), mode='constant', preserve_range=True)\n",
    "    X_train[i]=img\n",
    "    mask=np.zeros((128,128,1), dtype=bool)\n",
    "    for mask_file in next(os.walk(path + \"/masks/\"))[2]:\n",
    "        mask_ = imread(path + \"/masks/\" + mask_file)\n",
    "        mask_= np.expand_dims(resize(mask_, (128, 128), mode=\"constant\",\n",
    "                                    preserve_range=True), axis=-1)\n",
    "        mask= np.maximum(mask, mask_)\n",
    "    Y_train[i]= mask"
   ]
  },
  {
   "cell_type": "code",
   "execution_count": 102,
   "id": "a4e9dbe3",
   "metadata": {},
   "outputs": [],
   "source": [
    "X_test= np.zeros((len(test_ids), 128, 128, 3), dtype=np.uint8)\n",
    "sizes_test=[]"
   ]
  },
  {
   "cell_type": "code",
   "execution_count": 103,
   "id": "d5febe08",
   "metadata": {},
   "outputs": [
    {
     "name": "stderr",
     "output_type": "stream",
     "text": [
      "100%|██████████████████████████████████████████████████████████████████████████████████| 65/65 [00:01<00:00, 63.02it/s]\n"
     ]
    }
   ],
   "source": [
    "for i, id_ in tqdm(enumerate(test_ids), total=len(test_ids)):\n",
    "    path= TEST_PATH + id_\n",
    "    img= imread(path+ \"/images/\" + id_ + \".png\")[:,:,:3]\n",
    "    sizes_test.append([img.shape[0], img.shape[1]])\n",
    "    img= resize(img, (128,128), mode='constant', preserve_range=True)\n",
    "    X_train[i]=img\n",
    "    "
   ]
  },
  {
   "cell_type": "code",
   "execution_count": 104,
   "id": "a4541ee4",
   "metadata": {},
   "outputs": [
    {
     "data": {
      "image/png": "[encoded data removed]",
      "text/plain": [
       "<Figure size 432x288 with 1 Axes>"
      ]
     },
     "metadata": {
      "needs_background": "light"
     },
     "output_type": "display_data"
    },
    {
     "data": {
      "image/png": "[encoded data removed]",
      "text/plain": [
       "<Figure size 432x288 with 1 Axes>"
      ]
     },
     "metadata": {
      "needs_background": "light"
     },
     "output_type": "display_data"
    }
   ],
   "source": [
    "image_x = random.randint(0, len(train_ids))\n",
    "imshow(X_train[image_x])\n",
    "plt.show()\n",
    "imshow(np.squeeze(Y_train[image_x]))\n",
    "plt.show()"
   ]
  },
  {
   "cell_type": "code",
   "execution_count": 118,
   "id": "581a17ff",
   "metadata": {},
   "outputs": [
    {
     "name": "stdout",
     "output_type": "stream",
     "text": [
      "Epoch 1/100\n",
      "19/19 [==============================] - 23s 1s/step - loss: 0.2833 - accuracy: 0.8977 - val_loss: 0.1735 - val_accuracy: 0.9329\n",
      "Epoch 2/100\n",
      "19/19 [==============================] - 23s 1s/step - loss: 0.2776 - accuracy: 0.8965 - val_loss: 0.1536 - val_accuracy: 0.9460\n",
      "Epoch 3/100\n",
      "19/19 [==============================] - 24s 1s/step - loss: 0.2777 - accuracy: 0.9017 - val_loss: 0.1463 - val_accuracy: 0.9480\n",
      "Epoch 4/100\n",
      "19/19 [==============================] - 25s 1s/step - loss: 0.2695 - accuracy: 0.9085 - val_loss: 0.1752 - val_accuracy: 0.9328\n",
      "Epoch 5/100\n",
      "19/19 [==============================] - 25s 1s/step - loss: 0.2566 - accuracy: 0.9121 - val_loss: 0.1325 - val_accuracy: 0.9542\n",
      "Epoch 6/100\n",
      "19/19 [==============================] - 25s 1s/step - loss: 0.2420 - accuracy: 0.9148 - val_loss: 0.1281 - val_accuracy: 0.9548\n",
      "Epoch 7/100\n",
      "19/19 [==============================] - 25s 1s/step - loss: 0.2371 - accuracy: 0.9177 - val_loss: 0.1197 - val_accuracy: 0.9534\n",
      "Epoch 8/100\n",
      "19/19 [==============================] - 25s 1s/step - loss: 0.2329 - accuracy: 0.9186 - val_loss: 0.1117 - val_accuracy: 0.9605\n",
      "Epoch 9/100\n",
      "19/19 [==============================] - 25s 1s/step - loss: 0.2250 - accuracy: 0.9190 - val_loss: 0.1120 - val_accuracy: 0.9603\n",
      "Epoch 10/100\n",
      "19/19 [==============================] - 25s 1s/step - loss: 0.2256 - accuracy: 0.9182 - val_loss: 0.1062 - val_accuracy: 0.9594\n",
      "Epoch 11/100\n",
      "19/19 [==============================] - 24s 1s/step - loss: 0.2241 - accuracy: 0.9198 - val_loss: 0.1050 - val_accuracy: 0.9623\n",
      "Epoch 12/100\n",
      "19/19 [==============================] - 25s 1s/step - loss: 0.2200 - accuracy: 0.9218 - val_loss: 0.1172 - val_accuracy: 0.9578\n",
      "Epoch 13/100\n",
      "19/19 [==============================] - 25s 1s/step - loss: 0.2162 - accuracy: 0.9205 - val_loss: 0.1170 - val_accuracy: 0.9634\n",
      "Epoch 14/100\n",
      "19/19 [==============================] - 25s 1s/step - loss: 0.2125 - accuracy: 0.9241 - val_loss: 0.1080 - val_accuracy: 0.9630\n",
      "Epoch 15/100\n",
      "19/19 [==============================] - 25s 1s/step - loss: 0.2096 - accuracy: 0.9249 - val_loss: 0.1071 - val_accuracy: 0.9600\n",
      "Epoch 16/100\n",
      "19/19 [==============================] - 25s 1s/step - loss: 0.2165 - accuracy: 0.9236 - val_loss: 0.1057 - val_accuracy: 0.9613\n",
      "Epoch 17/100\n",
      "19/19 [==============================] - 24s 1s/step - loss: 0.2158 - accuracy: 0.9230 - val_loss: 0.1112 - val_accuracy: 0.9619\n",
      "Epoch 18/100\n",
      "19/19 [==============================] - 25s 1s/step - loss: 0.2092 - accuracy: 0.9242 - val_loss: 0.1299 - val_accuracy: 0.9550\n",
      "Epoch 19/100\n",
      "19/19 [==============================] - 26s 1s/step - loss: 0.2083 - accuracy: 0.9244 - val_loss: 0.1213 - val_accuracy: 0.9608\n",
      "Epoch 20/100\n",
      "19/19 [==============================] - 26s 1s/step - loss: 0.2070 - accuracy: 0.9256 - val_loss: 0.1004 - val_accuracy: 0.9641\n",
      "Epoch 21/100\n",
      "19/19 [==============================] - 26s 1s/step - loss: 0.1998 - accuracy: 0.9273 - val_loss: 0.1080 - val_accuracy: 0.9640\n",
      "Epoch 22/100\n",
      "19/19 [==============================] - 26s 1s/step - loss: 0.1976 - accuracy: 0.9278 - val_loss: 0.0931 - val_accuracy: 0.9651\n",
      "Epoch 23/100\n",
      "19/19 [==============================] - 26s 1s/step - loss: 0.1990 - accuracy: 0.9276 - val_loss: 0.1021 - val_accuracy: 0.9645\n",
      "Epoch 24/100\n",
      "19/19 [==============================] - 26s 1s/step - loss: 0.1992 - accuracy: 0.9277 - val_loss: 0.1055 - val_accuracy: 0.9632\n",
      "Epoch 25/100\n",
      "19/19 [==============================] - 26s 1s/step - loss: 0.1998 - accuracy: 0.9276 - val_loss: 0.1185 - val_accuracy: 0.9637\n",
      "Epoch 26/100\n",
      "19/19 [==============================] - 26s 1s/step - loss: 0.1931 - accuracy: 0.9295 - val_loss: 0.1023 - val_accuracy: 0.9652\n",
      "Epoch 27/100\n",
      "19/19 [==============================] - 26s 1s/step - loss: 0.1929 - accuracy: 0.9284 - val_loss: 0.1007 - val_accuracy: 0.9662\n",
      "Epoch 28/100\n",
      "19/19 [==============================] - 24s 1s/step - loss: 0.1906 - accuracy: 0.9300 - val_loss: 0.0997 - val_accuracy: 0.9646\n",
      "Epoch 29/100\n",
      "19/19 [==============================] - 23s 1s/step - loss: 0.1938 - accuracy: 0.9289 - val_loss: 0.0934 - val_accuracy: 0.9654\n",
      "Epoch 30/100\n",
      "19/19 [==============================] - 23s 1s/step - loss: 0.1917 - accuracy: 0.9288 - val_loss: 0.0902 - val_accuracy: 0.9665\n",
      "Epoch 31/100\n",
      "19/19 [==============================] - 24s 1s/step - loss: 0.1949 - accuracy: 0.9288 - val_loss: 0.1004 - val_accuracy: 0.9642\n",
      "Epoch 32/100\n",
      "19/19 [==============================] - 24s 1s/step - loss: 0.1838 - accuracy: 0.9309 - val_loss: 0.0910 - val_accuracy: 0.9652\n",
      "Epoch 33/100\n",
      "19/19 [==============================] - 27s 1s/step - loss: 0.1884 - accuracy: 0.9293 - val_loss: 0.0900 - val_accuracy: 0.9673\n",
      "Epoch 34/100\n",
      "19/19 [==============================] - 25s 1s/step - loss: 0.1834 - accuracy: 0.9323 - val_loss: 0.1014 - val_accuracy: 0.9661\n",
      "Epoch 35/100\n",
      "19/19 [==============================] - 24s 1s/step - loss: 0.1832 - accuracy: 0.9322 - val_loss: 0.0909 - val_accuracy: 0.9663\n",
      "Epoch 36/100\n",
      "19/19 [==============================] - 24s 1s/step - loss: 0.1819 - accuracy: 0.9319 - val_loss: 0.0895 - val_accuracy: 0.9675\n",
      "Epoch 37/100\n",
      "19/19 [==============================] - 24s 1s/step - loss: 0.1925 - accuracy: 0.9283 - val_loss: 0.1119 - val_accuracy: 0.9629\n",
      "Epoch 38/100\n",
      "19/19 [==============================] - 23s 1s/step - loss: 0.1884 - accuracy: 0.9293 - val_loss: 0.0980 - val_accuracy: 0.9651\n",
      "Epoch 39/100\n",
      "19/19 [==============================] - 23s 1s/step - loss: 0.1838 - accuracy: 0.9320 - val_loss: 0.1066 - val_accuracy: 0.9640\n",
      "Epoch 40/100\n",
      "19/19 [==============================] - 23s 1s/step - loss: 0.1762 - accuracy: 0.9334 - val_loss: 0.0891 - val_accuracy: 0.9676\n",
      "Epoch 41/100\n",
      "19/19 [==============================] - 24s 1s/step - loss: 0.1783 - accuracy: 0.9328 - val_loss: 0.1026 - val_accuracy: 0.9650\n",
      "Epoch 42/100\n",
      "19/19 [==============================] - 24s 1s/step - loss: 0.1780 - accuracy: 0.9328 - val_loss: 0.0891 - val_accuracy: 0.9663\n",
      "Epoch 43/100\n",
      "19/19 [==============================] - 24s 1s/step - loss: 0.1674 - accuracy: 0.9342 - val_loss: 0.0979 - val_accuracy: 0.9669\n",
      "Epoch 44/100\n",
      "19/19 [==============================] - 24s 1s/step - loss: 0.1696 - accuracy: 0.9349 - val_loss: 0.0966 - val_accuracy: 0.9659\n",
      "Epoch 45/100\n",
      "19/19 [==============================] - 25s 1s/step - loss: 0.1645 - accuracy: 0.9358 - val_loss: 0.0927 - val_accuracy: 0.9672\n",
      "Epoch 46/100\n",
      "19/19 [==============================] - 24s 1s/step - loss: 0.1718 - accuracy: 0.9344 - val_loss: 0.0881 - val_accuracy: 0.9682\n",
      "Epoch 47/100\n",
      "19/19 [==============================] - 24s 1s/step - loss: 0.1708 - accuracy: 0.9330 - val_loss: 0.0943 - val_accuracy: 0.9672\n",
      "Epoch 48/100\n",
      "19/19 [==============================] - 24s 1s/step - loss: 0.1636 - accuracy: 0.9351 - val_loss: 0.0963 - val_accuracy: 0.9663\n",
      "Epoch 49/100\n",
      "19/19 [==============================] - 25s 1s/step - loss: 0.1578 - accuracy: 0.9360 - val_loss: 0.0863 - val_accuracy: 0.9682\n",
      "Epoch 50/100\n",
      "19/19 [==============================] - 23s 1s/step - loss: 0.1529 - accuracy: 0.9365 - val_loss: 0.0823 - val_accuracy: 0.9688\n",
      "Epoch 51/100\n",
      "19/19 [==============================] - 25s 1s/step - loss: 0.1592 - accuracy: 0.9364 - val_loss: 0.0871 - val_accuracy: 0.9681\n",
      "Epoch 52/100\n",
      "19/19 [==============================] - 25s 1s/step - loss: 0.1636 - accuracy: 0.9350 - val_loss: 0.0973 - val_accuracy: 0.9632\n",
      "Epoch 53/100\n",
      "19/19 [==============================] - 25s 1s/step - loss: 0.1527 - accuracy: 0.9372 - val_loss: 0.0801 - val_accuracy: 0.9694\n",
      "Epoch 54/100\n",
      "19/19 [==============================] - 25s 1s/step - loss: 0.1525 - accuracy: 0.9366 - val_loss: 0.0850 - val_accuracy: 0.9678\n",
      "Epoch 55/100\n",
      "19/19 [==============================] - 24s 1s/step - loss: 0.1478 - accuracy: 0.9380 - val_loss: 0.0808 - val_accuracy: 0.9687\n",
      "Epoch 56/100\n",
      "19/19 [==============================] - 24s 1s/step - loss: 0.1446 - accuracy: 0.9388 - val_loss: 0.0824 - val_accuracy: 0.9688\n",
      "Epoch 57/100\n",
      "19/19 [==============================] - 24s 1s/step - loss: 0.1450 - accuracy: 0.9389 - val_loss: 0.0896 - val_accuracy: 0.9669\n",
      "Epoch 58/100\n",
      "19/19 [==============================] - 24s 1s/step - loss: 0.1430 - accuracy: 0.9394 - val_loss: 0.0806 - val_accuracy: 0.9693\n"
     ]
    },
    {
     "name": "stdout",
     "output_type": "stream",
     "text": [
      "Epoch 59/100\n",
      "19/19 [==============================] - 24s 1s/step - loss: 0.1437 - accuracy: 0.9391 - val_loss: 0.0841 - val_accuracy: 0.9687\n",
      "Epoch 60/100\n",
      "19/19 [==============================] - 25s 1s/step - loss: 0.1421 - accuracy: 0.9395 - val_loss: 0.0839 - val_accuracy: 0.9685\n",
      "Epoch 61/100\n",
      "19/19 [==============================] - 25s 1s/step - loss: 0.1426 - accuracy: 0.9394 - val_loss: 0.0853 - val_accuracy: 0.9680\n",
      "Epoch 62/100\n",
      "19/19 [==============================] - 25s 1s/step - loss: 0.1440 - accuracy: 0.9398 - val_loss: 0.0856 - val_accuracy: 0.9684\n",
      "Epoch 63/100\n",
      "19/19 [==============================] - 25s 1s/step - loss: 0.1441 - accuracy: 0.9365 - val_loss: 0.0788 - val_accuracy: 0.9684\n",
      "Epoch 64/100\n",
      "19/19 [==============================] - 25s 1s/step - loss: 0.1430 - accuracy: 0.9386 - val_loss: 0.0825 - val_accuracy: 0.9678\n",
      "Epoch 65/100\n",
      "19/19 [==============================] - 25s 1s/step - loss: 0.1386 - accuracy: 0.9393 - val_loss: 0.0790 - val_accuracy: 0.9689\n",
      "Epoch 66/100\n",
      "19/19 [==============================] - 25s 1s/step - loss: 0.1349 - accuracy: 0.9414 - val_loss: 0.0836 - val_accuracy: 0.9685\n",
      "Epoch 67/100\n",
      "19/19 [==============================] - 25s 1s/step - loss: 0.1374 - accuracy: 0.9405 - val_loss: 0.0783 - val_accuracy: 0.9697\n",
      "Epoch 68/100\n",
      "19/19 [==============================] - 25s 1s/step - loss: 0.1339 - accuracy: 0.9416 - val_loss: 0.0776 - val_accuracy: 0.9695\n",
      "Epoch 69/100\n",
      "19/19 [==============================] - 25s 1s/step - loss: 0.1367 - accuracy: 0.9403 - val_loss: 0.0843 - val_accuracy: 0.9664\n",
      "Epoch 70/100\n",
      "19/19 [==============================] - 26s 1s/step - loss: 0.1365 - accuracy: 0.9402 - val_loss: 0.0813 - val_accuracy: 0.9690\n",
      "Epoch 71/100\n",
      "19/19 [==============================] - 25s 1s/step - loss: 0.1330 - accuracy: 0.9417 - val_loss: 0.0776 - val_accuracy: 0.9697\n",
      "Epoch 72/100\n",
      "19/19 [==============================] - 24s 1s/step - loss: 0.1291 - accuracy: 0.9423 - val_loss: 0.0766 - val_accuracy: 0.9697\n",
      "Epoch 73/100\n",
      "19/19 [==============================] - 24s 1s/step - loss: 0.1286 - accuracy: 0.9425 - val_loss: 0.0778 - val_accuracy: 0.9695\n",
      "Epoch 74/100\n",
      "19/19 [==============================] - 24s 1s/step - loss: 0.1287 - accuracy: 0.9422 - val_loss: 0.0780 - val_accuracy: 0.9698\n",
      "Epoch 75/100\n",
      "19/19 [==============================] - 24s 1s/step - loss: 0.1268 - accuracy: 0.9429 - val_loss: 0.0739 - val_accuracy: 0.9702\n",
      "Epoch 76/100\n",
      "19/19 [==============================] - 24s 1s/step - loss: 0.1270 - accuracy: 0.9430 - val_loss: 0.0756 - val_accuracy: 0.9703\n",
      "Epoch 77/100\n",
      "19/19 [==============================] - 25s 1s/step - loss: 0.1257 - accuracy: 0.9431 - val_loss: 0.0773 - val_accuracy: 0.9699\n",
      "Epoch 78/100\n",
      "19/19 [==============================] - 25s 1s/step - loss: 0.1269 - accuracy: 0.9432 - val_loss: 0.0796 - val_accuracy: 0.9690\n",
      "Epoch 79/100\n",
      "19/19 [==============================] - 25s 1s/step - loss: 0.1306 - accuracy: 0.9417 - val_loss: 0.0859 - val_accuracy: 0.9668\n",
      "Epoch 80/100\n",
      "19/19 [==============================] - 24s 1s/step - loss: 0.1420 - accuracy: 0.9384 - val_loss: 0.1103 - val_accuracy: 0.9522\n",
      "Epoch 81/100\n",
      "19/19 [==============================] - 25s 1s/step - loss: 0.1539 - accuracy: 0.9340 - val_loss: 0.0848 - val_accuracy: 0.9659\n",
      "Epoch 82/100\n",
      "19/19 [==============================] - 25s 1s/step - loss: 0.1380 - accuracy: 0.9400 - val_loss: 0.0790 - val_accuracy: 0.9692\n",
      "Epoch 83/100\n",
      "19/19 [==============================] - 25s 1s/step - loss: 0.1429 - accuracy: 0.9390 - val_loss: 0.0888 - val_accuracy: 0.9639\n",
      "Epoch 84/100\n",
      "19/19 [==============================] - 25s 1s/step - loss: 0.1422 - accuracy: 0.9392 - val_loss: 0.0887 - val_accuracy: 0.9680\n",
      "Epoch 85/100\n",
      "19/19 [==============================] - 25s 1s/step - loss: 0.1314 - accuracy: 0.9414 - val_loss: 0.0791 - val_accuracy: 0.9690\n"
     ]
    }
   ],
   "source": [
    "results = model.fit(X_train, Y_train, validation_split=0.1, batch_size=32, epochs=100, callbacks=callbacks)"
   ]
  },
  {
   "cell_type": "code",
   "execution_count": 119,
   "id": "c11a14ee",
   "metadata": {},
   "outputs": [
    {
     "name": "stdout",
     "output_type": "stream",
     "text": [
      "19/19 [==============================] - 4s 203ms/step\n",
      "3/3 [==============================] - 0s 110ms/step\n",
      "3/3 [==============================] - 0s 110ms/step\n"
     ]
    }
   ],
   "source": [
    "idx = random.randint(0, len(X_train))\n",
    "\n",
    "\n",
    "preds_train = model.predict(X_train[:int(X_train.shape[0]*0.9)], verbose=1)\n",
    "preds_val = model.predict(X_train[int(X_train.shape[0]*0.9):], verbose=1)\n",
    "preds_test = model.predict(X_test, verbose=1)\n",
    "\n",
    " \n",
    "preds_train_t = (preds_train > 0.5).astype(np.uint8)\n",
    "preds_val_t = (preds_val > 0.5).astype(np.uint8)\n",
    "preds_test_t = (preds_test > 0.5).astype(np.uint8)"
   ]
  },
  {
   "cell_type": "code",
   "execution_count": 120,
   "id": "32986148",
   "metadata": {},
   "outputs": [
    {
     "data": {
      "image/png": "[encoded data removed]",
      "text/plain": [
       "<Figure size 432x288 with 1 Axes>"
      ]
     },
     "metadata": {
      "needs_background": "light"
     },
     "output_type": "display_data"
    },
    {
     "data": {
      "image/png": "[encoded data removed]",
      "text/plain": [
       "<Figure size 432x288 with 1 Axes>"
      ]
     },
     "metadata": {
      "needs_background": "light"
     },
     "output_type": "display_data"
    },
    {
     "data": {
      "image/png": "[encoded data removed]",
      "text/plain": [
       "<Figure size 432x288 with 2 Axes>"
      ]
     },
     "metadata": {
      "needs_background": "light"
     },
     "output_type": "display_data"
    },
    {
     "data": {
      "image/png": "[encoded data removed]",
      "text/plain": [
       "<Figure size 432x288 with 1 Axes>"
      ]
     },
     "metadata": {
      "needs_background": "light"
     },
     "output_type": "display_data"
    },
    {
     "data": {
      "image/png": "[encoded data removed]",
      "text/plain": [
       "<Figure size 432x288 with 1 Axes>"
      ]
     },
     "metadata": {
      "needs_background": "light"
     },
     "output_type": "display_data"
    },
    {
     "data": {
      "image/png": "[encoded data removed]",
      "text/plain": [
       "<Figure size 432x288 with 2 Axes>"
      ]
     },
     "metadata": {
      "needs_background": "light"
     },
     "output_type": "display_data"
    }
   ],
   "source": [
    "# Perform a sanity check on some random training samples\n",
    "ix = random.randint(0, len(preds_train_t))\n",
    "imshow(X_train[ix])\n",
    "plt.show()\n",
    "imshow(np.squeeze(Y_train[ix]))\n",
    "plt.show()\n",
    "imshow(np.squeeze(preds_train_t[ix]))\n",
    "plt.show()\n",
    "\n",
    "# Perform a sanity check on some random validation samples\n",
    "ix = random.randint(0, len(preds_val_t))\n",
    "imshow(X_train[int(X_train.shape[0]*0.9):][ix])\n",
    "plt.show()\n",
    "imshow(np.squeeze(Y_train[int(Y_train.shape[0]*0.9):][ix]))\n",
    "plt.show()\n",
    "imshow(np.squeeze(preds_val_t[ix]))\n",
    "plt.show()\n",
    "\n"
   ]
  },
  {
   "cell_type": "code",
   "execution_count": null,
   "id": "cdf6e5ae",
   "metadata": {},
   "outputs": [],
   "source": []
  },
  {
   "cell_type": "code",
   "execution_count": null,
   "id": "79187e64",
   "metadata": {},
   "outputs": [],
   "source": []
  },
  {
   "cell_type": "code",
   "execution_count": null,
   "id": "74123674",
   "metadata": {},
   "outputs": [],
   "source": []
  },
  {
   "cell_type": "code",
   "execution_count": null,
   "id": "4dc2651b",
   "metadata": {},
   "outputs": [],
   "source": []
  },
  {
   "cell_type": "code",
   "execution_count": null,
   "id": "ea43e7e5",
   "metadata": {},
   "outputs": [],
   "source": []
  },
  {
   "cell_type": "code",
   "execution_count": null,
   "id": "f3f543da",
   "metadata": {},
   "outputs": [],
   "source": []
  },
  {
   "cell_type": "code",
   "execution_count": null,
   "id": "d5235707",
   "metadata": {},
   "outputs": [],
   "source": []
  },
  {
   "cell_type": "code",
   "execution_count": null,
   "id": "6b873a84",
   "metadata": {},
   "outputs": [],
   "source": []
  },
  {
   "cell_type": "code",
   "execution_count": null,
   "id": "7a87e02f",
   "metadata": {},
   "outputs": [],
   "source": []
  },
  {
   "cell_type": "code",
   "execution_count": null,
   "id": "048db104",
   "metadata": {},
   "outputs": [],
   "source": []
  },
  {
   "cell_type": "code",
   "execution_count": null,
   "id": "791545d6",
   "metadata": {},
   "outputs": [],
   "source": []
  }
 ],
 "metadata": {
  "kernelspec": {
   "display_name": "Python 3 (ipykernel)",
   "language": "python",
   "name": "python3"
  },
  "language_info": {
   "codemirror_mode": {
    "name": "ipython",
    "version": 3
   },
   "file_extension": ".py",
   "mimetype": "text/x-python",
   "name": "python",
   "nbconvert_exporter": "python",
   "pygments_lexer": "ipython3",
   "version": "3.9.12"
  }
 },
 "nbformat": 4,
 "nbformat_minor": 5
}
